{
 "cells": [
  {
   "cell_type": "code",
   "execution_count": 3,
   "id": "7438b378",
   "metadata": {},
   "outputs": [
    {
     "name": "stdout",
     "output_type": "stream",
     "text": [
      "Requirement already satisfied: numpy in c:\\users\\atle_\\anaconda3\\envs\\intro_python_workshop_prep\\lib\\site-packages (2.1.1)\n",
      "Requirement already satisfied: matplotlib in c:\\users\\atle_\\anaconda3\\envs\\intro_python_workshop_prep\\lib\\site-packages (3.9.2)\n",
      "Requirement already satisfied: scipy in c:\\users\\atle_\\appdata\\roaming\\python\\python312\\site-packages (1.14.0)\n",
      "Collecting scipy\n",
      "  Downloading scipy-1.14.1-cp312-cp312-win_amd64.whl.metadata (60 kB)\n",
      "Collecting pingouin\n",
      "  Downloading pingouin-0.5.5-py3-none-any.whl.metadata (19 kB)\n",
      "Requirement already satisfied: seaborn in c:\\users\\atle_\\anaconda3\\envs\\intro_python_workshop_prep\\lib\\site-packages (0.13.2)\n",
      "Requirement already satisfied: pyarrow in c:\\users\\atle_\\appdata\\roaming\\python\\python312\\site-packages (17.0.0)\n",
      "Requirement already satisfied: xarray in c:\\users\\atle_\\appdata\\roaming\\python\\python312\\site-packages (2024.7.0)\n",
      "Collecting xarray\n",
      "  Downloading xarray-2024.9.0-py3-none-any.whl.metadata (11 kB)\n",
      "Requirement already satisfied: netcdf4 in c:\\users\\atle_\\anaconda3\\envs\\intro_python_workshop_prep\\lib\\site-packages (1.7.1.post2)\n",
      "Requirement already satisfied: contourpy>=1.0.1 in c:\\users\\atle_\\appdata\\roaming\\python\\python312\\site-packages (from matplotlib) (1.2.1)\n",
      "Requirement already satisfied: cycler>=0.10 in c:\\users\\atle_\\appdata\\roaming\\python\\python312\\site-packages (from matplotlib) (0.12.1)\n",
      "Requirement already satisfied: fonttools>=4.22.0 in c:\\users\\atle_\\appdata\\roaming\\python\\python312\\site-packages (from matplotlib) (4.53.1)\n",
      "Requirement already satisfied: kiwisolver>=1.3.1 in c:\\users\\atle_\\appdata\\roaming\\python\\python312\\site-packages (from matplotlib) (1.4.5)\n",
      "Requirement already satisfied: packaging>=20.0 in c:\\users\\atle_\\anaconda3\\envs\\intro_python_workshop_prep\\lib\\site-packages (from matplotlib) (24.1)\n",
      "Requirement already satisfied: pillow>=8 in c:\\users\\atle_\\appdata\\roaming\\python\\python312\\site-packages (from matplotlib) (10.4.0)\n",
      "Requirement already satisfied: pyparsing>=2.3.1 in c:\\users\\atle_\\appdata\\roaming\\python\\python312\\site-packages (from matplotlib) (3.1.2)\n",
      "Requirement already satisfied: python-dateutil>=2.7 in c:\\users\\atle_\\anaconda3\\envs\\intro_python_workshop_prep\\lib\\site-packages (from matplotlib) (2.9.0)\n",
      "Requirement already satisfied: pandas>=1.5 in c:\\users\\atle_\\anaconda3\\envs\\intro_python_workshop_prep\\lib\\site-packages (from pingouin) (2.2.2)\n",
      "Collecting pandas-flavor (from pingouin)\n",
      "  Downloading pandas_flavor-0.6.0-py3-none-any.whl.metadata (6.3 kB)\n",
      "Collecting scikit-learn>=1.2 (from pingouin)\n",
      "  Downloading scikit_learn-1.5.2-cp312-cp312-win_amd64.whl.metadata (13 kB)\n",
      "Collecting statsmodels (from pingouin)\n",
      "  Downloading statsmodels-0.14.3-cp312-cp312-win_amd64.whl.metadata (9.5 kB)\n",
      "Collecting tabulate (from pingouin)\n",
      "  Downloading tabulate-0.9.0-py3-none-any.whl.metadata (34 kB)\n",
      "Requirement already satisfied: cftime in c:\\users\\atle_\\anaconda3\\envs\\intro_python_workshop_prep\\lib\\site-packages (from netcdf4) (1.6.4)\n",
      "Requirement already satisfied: certifi in c:\\users\\atle_\\anaconda3\\envs\\intro_python_workshop_prep\\lib\\site-packages (from netcdf4) (2024.7.4)\n",
      "Requirement already satisfied: pytz>=2020.1 in c:\\users\\atle_\\anaconda3\\envs\\intro_python_workshop_prep\\lib\\site-packages (from pandas>=1.5->pingouin) (2024.1)\n",
      "Requirement already satisfied: tzdata>=2022.7 in c:\\users\\atle_\\anaconda3\\envs\\intro_python_workshop_prep\\lib\\site-packages (from pandas>=1.5->pingouin) (2024.1)\n",
      "Requirement already satisfied: six>=1.5 in c:\\users\\atle_\\anaconda3\\envs\\intro_python_workshop_prep\\lib\\site-packages (from python-dateutil>=2.7->matplotlib) (1.16.0)\n",
      "Collecting joblib>=1.2.0 (from scikit-learn>=1.2->pingouin)\n",
      "  Using cached joblib-1.4.2-py3-none-any.whl.metadata (5.4 kB)\n",
      "Collecting threadpoolctl>=3.1.0 (from scikit-learn>=1.2->pingouin)\n",
      "  Using cached threadpoolctl-3.5.0-py3-none-any.whl.metadata (13 kB)\n",
      "Collecting patsy>=0.5.6 (from statsmodels->pingouin)\n",
      "  Downloading patsy-0.5.6-py2.py3-none-any.whl.metadata (3.5 kB)\n",
      "Downloading scipy-1.14.1-cp312-cp312-win_amd64.whl (44.5 MB)\n",
      "   ---------------------------------------- 0.0/44.5 MB ? eta -:--:--\n",
      "   ---------------------------------------- 0.3/44.5 MB ? eta -:--:--\n",
      "   ---------------------------------------- 0.5/44.5 MB 1.9 MB/s eta 0:00:24\n",
      "    --------------------------------------- 1.0/44.5 MB 1.8 MB/s eta 0:00:25\n",
      "   - -------------------------------------- 1.3/44.5 MB 1.8 MB/s eta 0:00:24\n",
      "   - -------------------------------------- 1.8/44.5 MB 1.8 MB/s eta 0:00:24\n",
      "   - -------------------------------------- 2.1/44.5 MB 1.8 MB/s eta 0:00:24\n",
      "   -- ------------------------------------- 2.6/44.5 MB 1.8 MB/s eta 0:00:24\n",
      "   -- ------------------------------------- 2.9/44.5 MB 1.8 MB/s eta 0:00:24\n",
      "   --- ------------------------------------ 3.4/44.5 MB 1.8 MB/s eta 0:00:23\n",
      "   --- ------------------------------------ 3.7/44.5 MB 1.8 MB/s eta 0:00:23\n",
      "   --- ------------------------------------ 4.2/44.5 MB 1.8 MB/s eta 0:00:23\n",
      "   ---- ----------------------------------- 4.5/44.5 MB 1.8 MB/s eta 0:00:23\n",
      "   ---- ----------------------------------- 5.0/44.5 MB 1.8 MB/s eta 0:00:22\n",
      "   ---- ----------------------------------- 5.2/44.5 MB 1.8 MB/s eta 0:00:22\n",
      "   ---- ----------------------------------- 5.5/44.5 MB 1.8 MB/s eta 0:00:22\n",
      "   ----- ---------------------------------- 6.0/44.5 MB 1.8 MB/s eta 0:00:22\n",
      "   ----- ---------------------------------- 6.3/44.5 MB 1.8 MB/s eta 0:00:22\n",
      "   ------ --------------------------------- 6.8/44.5 MB 1.8 MB/s eta 0:00:21\n",
      "   ------ --------------------------------- 7.1/44.5 MB 1.8 MB/s eta 0:00:21\n",
      "   ------ --------------------------------- 7.6/44.5 MB 1.8 MB/s eta 0:00:21\n",
      "   ------- -------------------------------- 7.9/44.5 MB 1.8 MB/s eta 0:00:21\n",
      "   ------- -------------------------------- 8.4/44.5 MB 1.8 MB/s eta 0:00:21\n",
      "   ------- -------------------------------- 8.7/44.5 MB 1.8 MB/s eta 0:00:20\n",
      "   -------- ------------------------------- 8.9/44.5 MB 1.8 MB/s eta 0:00:20\n",
      "   -------- ------------------------------- 9.4/44.5 MB 1.8 MB/s eta 0:00:20\n",
      "   -------- ------------------------------- 9.7/44.5 MB 1.8 MB/s eta 0:00:20\n",
      "   --------- ------------------------------ 10.2/44.5 MB 1.8 MB/s eta 0:00:20\n",
      "   --------- ------------------------------ 10.5/44.5 MB 1.8 MB/s eta 0:00:19\n",
      "   --------- ------------------------------ 11.0/44.5 MB 1.8 MB/s eta 0:00:19\n",
      "   ---------- ----------------------------- 11.3/44.5 MB 1.8 MB/s eta 0:00:19\n",
      "   ---------- ----------------------------- 11.8/44.5 MB 1.8 MB/s eta 0:00:19\n",
      "   ---------- ----------------------------- 12.1/44.5 MB 1.8 MB/s eta 0:00:19\n",
      "   ----------- ---------------------------- 12.6/44.5 MB 1.8 MB/s eta 0:00:18\n",
      "   ----------- ---------------------------- 12.8/44.5 MB 1.8 MB/s eta 0:00:18\n",
      "   ------------ --------------------------- 13.4/44.5 MB 1.8 MB/s eta 0:00:18\n",
      "   ------------ --------------------------- 13.6/44.5 MB 1.8 MB/s eta 0:00:18\n",
      "   ------------ --------------------------- 13.9/44.5 MB 1.8 MB/s eta 0:00:17\n",
      "   ------------ --------------------------- 14.4/44.5 MB 1.8 MB/s eta 0:00:17\n",
      "   ------------- -------------------------- 14.7/44.5 MB 1.8 MB/s eta 0:00:17\n",
      "   ------------- -------------------------- 15.2/44.5 MB 1.8 MB/s eta 0:00:17\n",
      "   ------------- -------------------------- 15.5/44.5 MB 1.8 MB/s eta 0:00:17\n",
      "   -------------- ------------------------- 16.0/44.5 MB 1.8 MB/s eta 0:00:16\n",
      "   -------------- ------------------------- 16.3/44.5 MB 1.8 MB/s eta 0:00:16\n",
      "   --------------- ------------------------ 16.8/44.5 MB 1.8 MB/s eta 0:00:16\n",
      "   --------------- ------------------------ 17.0/44.5 MB 1.8 MB/s eta 0:00:16\n",
      "   --------------- ------------------------ 17.6/44.5 MB 1.8 MB/s eta 0:00:15\n",
      "   ---------------- ----------------------- 17.8/44.5 MB 1.8 MB/s eta 0:00:15\n",
      "   ---------------- ----------------------- 18.4/44.5 MB 1.8 MB/s eta 0:00:15\n",
      "   ---------------- ----------------------- 18.6/44.5 MB 1.8 MB/s eta 0:00:15\n",
      "   ---------------- ----------------------- 18.6/44.5 MB 1.8 MB/s eta 0:00:15\n",
      "   ----------------- ---------------------- 19.1/44.5 MB 1.8 MB/s eta 0:00:15\n",
      "   ----------------- ---------------------- 19.4/44.5 MB 1.8 MB/s eta 0:00:15\n",
      "   ----------------- ---------------------- 19.9/44.5 MB 1.8 MB/s eta 0:00:14\n",
      "   ------------------ --------------------- 20.2/44.5 MB 1.8 MB/s eta 0:00:14\n",
      "   ------------------ --------------------- 20.7/44.5 MB 1.8 MB/s eta 0:00:14\n",
      "   ------------------ --------------------- 21.0/44.5 MB 1.8 MB/s eta 0:00:14\n",
      "   ------------------- -------------------- 21.5/44.5 MB 1.8 MB/s eta 0:00:13\n",
      "   ------------------- -------------------- 21.8/44.5 MB 1.8 MB/s eta 0:00:13\n",
      "   -------------------- ------------------- 22.3/44.5 MB 1.8 MB/s eta 0:00:13\n",
      "   -------------------- ------------------- 22.5/44.5 MB 1.8 MB/s eta 0:00:13\n",
      "   -------------------- ------------------- 23.1/44.5 MB 1.8 MB/s eta 0:00:13\n",
      "   -------------------- ------------------- 23.3/44.5 MB 1.8 MB/s eta 0:00:12\n",
      "   --------------------- ------------------ 23.9/44.5 MB 1.8 MB/s eta 0:00:12\n",
      "   --------------------- ------------------ 24.1/44.5 MB 1.8 MB/s eta 0:00:12\n",
      "   ---------------------- ----------------- 24.6/44.5 MB 1.8 MB/s eta 0:00:12\n",
      "   ---------------------- ----------------- 24.9/44.5 MB 1.8 MB/s eta 0:00:12\n",
      "   ---------------------- ----------------- 25.4/44.5 MB 1.8 MB/s eta 0:00:11\n",
      "   ----------------------- ---------------- 25.7/44.5 MB 1.8 MB/s eta 0:00:11\n",
      "   ----------------------- ---------------- 26.2/44.5 MB 1.8 MB/s eta 0:00:11\n",
      "   ----------------------- ---------------- 26.5/44.5 MB 1.8 MB/s eta 0:00:11\n",
      "   ------------------------ --------------- 26.7/44.5 MB 1.8 MB/s eta 0:00:10\n",
      "   ------------------------ --------------- 27.3/44.5 MB 1.8 MB/s eta 0:00:10\n",
      "   ------------------------ --------------- 27.5/44.5 MB 1.8 MB/s eta 0:00:10\n",
      "   ------------------------- -------------- 28.0/44.5 MB 1.8 MB/s eta 0:00:10\n",
      "   ------------------------- -------------- 28.3/44.5 MB 1.8 MB/s eta 0:00:10\n",
      "   ------------------------- -------------- 28.8/44.5 MB 1.8 MB/s eta 0:00:09\n",
      "   -------------------------- ------------- 29.1/44.5 MB 1.8 MB/s eta 0:00:09\n",
      "   -------------------------- ------------- 29.6/44.5 MB 1.8 MB/s eta 0:00:09\n",
      "   -------------------------- ------------- 29.9/44.5 MB 1.8 MB/s eta 0:00:09\n",
      "   --------------------------- ------------ 30.4/44.5 MB 1.8 MB/s eta 0:00:08\n",
      "   --------------------------- ------------ 30.7/44.5 MB 1.8 MB/s eta 0:00:08\n",
      "   ---------------------------- ----------- 31.2/44.5 MB 1.8 MB/s eta 0:00:08\n",
      "   ---------------------------- ----------- 31.5/44.5 MB 1.8 MB/s eta 0:00:08\n",
      "   ---------------------------- ----------- 31.7/44.5 MB 1.8 MB/s eta 0:00:08\n",
      "   ---------------------------- ----------- 32.0/44.5 MB 1.8 MB/s eta 0:00:08\n",
      "   ---------------------------- ----------- 32.2/44.5 MB 1.8 MB/s eta 0:00:07\n",
      "   ----------------------------- ---------- 32.8/44.5 MB 1.8 MB/s eta 0:00:07\n",
      "   ----------------------------- ---------- 33.0/44.5 MB 1.8 MB/s eta 0:00:07\n",
      "   ----------------------------- ---------- 33.3/44.5 MB 1.8 MB/s eta 0:00:07\n",
      "   ------------------------------ --------- 33.8/44.5 MB 1.8 MB/s eta 0:00:07\n",
      "   ------------------------------ --------- 34.1/44.5 MB 1.8 MB/s eta 0:00:06\n",
      "   ------------------------------- -------- 34.6/44.5 MB 1.8 MB/s eta 0:00:06\n",
      "   ------------------------------- -------- 34.9/44.5 MB 1.8 MB/s eta 0:00:06\n",
      "   ------------------------------- -------- 35.4/44.5 MB 1.8 MB/s eta 0:00:06\n",
      "   -------------------------------- ------- 35.7/44.5 MB 1.8 MB/s eta 0:00:06\n",
      "   -------------------------------- ------- 35.9/44.5 MB 1.8 MB/s eta 0:00:05\n",
      "   -------------------------------- ------- 36.2/44.5 MB 1.8 MB/s eta 0:00:05\n",
      "   -------------------------------- ------- 36.4/44.5 MB 1.8 MB/s eta 0:00:05\n",
      "   -------------------------------- ------- 36.7/44.5 MB 1.8 MB/s eta 0:00:05\n",
      "   --------------------------------- ------ 37.2/44.5 MB 1.8 MB/s eta 0:00:05\n",
      "   --------------------------------- ------ 37.5/44.5 MB 1.8 MB/s eta 0:00:05\n",
      "   --------------------------------- ------ 37.7/44.5 MB 1.7 MB/s eta 0:00:04\n",
      "   ---------------------------------- ----- 38.3/44.5 MB 1.7 MB/s eta 0:00:04\n",
      "   ---------------------------------- ----- 38.5/44.5 MB 1.7 MB/s eta 0:00:04\n",
      "   ---------------------------------- ----- 38.8/44.5 MB 1.7 MB/s eta 0:00:04\n",
      "   ----------------------------------- ---- 39.3/44.5 MB 1.7 MB/s eta 0:00:03\n",
      "   ----------------------------------- ---- 39.6/44.5 MB 1.7 MB/s eta 0:00:03\n",
      "   ------------------------------------ --- 40.1/44.5 MB 1.7 MB/s eta 0:00:03\n",
      "   ------------------------------------ --- 40.4/44.5 MB 1.7 MB/s eta 0:00:03\n",
      "   ------------------------------------ --- 40.9/44.5 MB 1.7 MB/s eta 0:00:03\n",
      "   ------------------------------------ --- 41.2/44.5 MB 1.7 MB/s eta 0:00:02\n",
      "   ------------------------------------- -- 41.7/44.5 MB 1.7 MB/s eta 0:00:02\n",
      "   ------------------------------------- -- 41.9/44.5 MB 1.7 MB/s eta 0:00:02\n",
      "   -------------------------------------- - 42.5/44.5 MB 1.8 MB/s eta 0:00:02\n",
      "   -------------------------------------- - 42.7/44.5 MB 1.8 MB/s eta 0:00:02\n",
      "   -------------------------------------- - 43.0/44.5 MB 1.8 MB/s eta 0:00:01\n",
      "   ---------------------------------------  43.5/44.5 MB 1.8 MB/s eta 0:00:01\n",
      "   ---------------------------------------  43.8/44.5 MB 1.8 MB/s eta 0:00:01\n",
      "   ---------------------------------------  44.0/44.5 MB 1.7 MB/s eta 0:00:01\n",
      "   ---------------------------------------  44.3/44.5 MB 1.7 MB/s eta 0:00:01\n",
      "   ---------------------------------------- 44.5/44.5 MB 1.7 MB/s eta 0:00:00\n",
      "Downloading pingouin-0.5.5-py3-none-any.whl (204 kB)\n",
      "Downloading xarray-2024.9.0-py3-none-any.whl (1.2 MB)\n",
      "   ---------------------------------------- 0.0/1.2 MB ? eta -:--:--\n",
      "   ---------------------------------------- 0.0/1.2 MB ? eta -:--:--\n",
      "   -------- ------------------------------- 0.3/1.2 MB ? eta -:--:--\n",
      "   -------- ------------------------------- 0.3/1.2 MB ? eta -:--:--\n",
      "   ----------------- ---------------------- 0.5/1.2 MB 560.1 kB/s eta 0:00:02\n",
      "   ----------------------------------- ---- 1.0/1.2 MB 1.1 MB/s eta 0:00:01\n",
      "   ---------------------------------------- 1.2/1.2 MB 1.1 MB/s eta 0:00:00\n",
      "Downloading scikit_learn-1.5.2-cp312-cp312-win_amd64.whl (11.0 MB)\n",
      "   ---------------------------------------- 0.0/11.0 MB ? eta -:--:--\n",
      "    --------------------------------------- 0.3/11.0 MB ? eta -:--:--\n",
      "   - -------------------------------------- 0.5/11.0 MB 1.9 MB/s eta 0:00:06\n",
      "   --- ------------------------------------ 1.0/11.0 MB 1.9 MB/s eta 0:00:06\n",
      "   ---- ----------------------------------- 1.3/11.0 MB 1.8 MB/s eta 0:00:06\n",
      "   ------ --------------------------------- 1.8/11.0 MB 1.8 MB/s eta 0:00:05\n",
      "   ------- -------------------------------- 2.1/11.0 MB 1.8 MB/s eta 0:00:05\n",
      "   --------- ------------------------------ 2.6/11.0 MB 1.8 MB/s eta 0:00:05\n",
      "   ---------- ----------------------------- 2.9/11.0 MB 1.8 MB/s eta 0:00:05\n",
      "   ------------ --------------------------- 3.4/11.0 MB 1.8 MB/s eta 0:00:05\n",
      "   ------------- -------------------------- 3.7/11.0 MB 1.8 MB/s eta 0:00:05\n",
      "   --------------- ------------------------ 4.2/11.0 MB 1.8 MB/s eta 0:00:04\n",
      "   ---------------- ----------------------- 4.5/11.0 MB 1.8 MB/s eta 0:00:04\n",
      "   ------------------ --------------------- 5.0/11.0 MB 1.8 MB/s eta 0:00:04\n",
      "   ------------------- -------------------- 5.2/11.0 MB 1.8 MB/s eta 0:00:04\n",
      "   -------------------- ------------------- 5.8/11.0 MB 1.8 MB/s eta 0:00:03\n",
      "   --------------------- ------------------ 6.0/11.0 MB 1.8 MB/s eta 0:00:03\n",
      "   ----------------------- ---------------- 6.6/11.0 MB 1.8 MB/s eta 0:00:03\n",
      "   ------------------------ --------------- 6.8/11.0 MB 1.8 MB/s eta 0:00:03\n",
      "   ------------------------- -------------- 7.1/11.0 MB 1.8 MB/s eta 0:00:03\n",
      "   --------------------------- ------------ 7.6/11.0 MB 1.8 MB/s eta 0:00:02\n",
      "   ---------------------------- ----------- 7.9/11.0 MB 1.8 MB/s eta 0:00:02\n",
      "   ------------------------------ --------- 8.4/11.0 MB 1.8 MB/s eta 0:00:02\n",
      "   -------------------------------- ------- 8.9/11.0 MB 1.8 MB/s eta 0:00:02\n",
      "   --------------------------------- ------ 9.2/11.0 MB 1.8 MB/s eta 0:00:01\n",
      "   ---------------------------------- ----- 9.4/11.0 MB 1.8 MB/s eta 0:00:01\n",
      "   ------------------------------------ --- 10.0/11.0 MB 1.8 MB/s eta 0:00:01\n",
      "   ------------------------------------- -- 10.2/11.0 MB 1.8 MB/s eta 0:00:01\n",
      "   ---------------------------------------  10.7/11.0 MB 1.8 MB/s eta 0:00:01\n",
      "   ---------------------------------------- 11.0/11.0 MB 1.8 MB/s eta 0:00:00\n",
      "Downloading pandas_flavor-0.6.0-py3-none-any.whl (7.2 kB)\n",
      "Downloading statsmodels-0.14.3-cp312-cp312-win_amd64.whl (9.8 MB)\n",
      "   ---------------------------------------- 0.0/9.8 MB ? eta -:--:--\n",
      "   - -------------------------------------- 0.3/9.8 MB ? eta -:--:--\n",
      "   -- ------------------------------------- 0.5/9.8 MB 1.9 MB/s eta 0:00:06\n",
      "   ---- ----------------------------------- 1.0/9.8 MB 1.9 MB/s eta 0:00:05\n",
      "   ----- ---------------------------------- 1.3/9.8 MB 1.8 MB/s eta 0:00:05\n",
      "   ------- -------------------------------- 1.8/9.8 MB 1.8 MB/s eta 0:00:05\n",
      "   -------- ------------------------------- 2.1/9.8 MB 1.8 MB/s eta 0:00:05\n",
      "   ---------- ----------------------------- 2.6/9.8 MB 1.8 MB/s eta 0:00:04\n",
      "   ----------- ---------------------------- 2.9/9.8 MB 1.8 MB/s eta 0:00:04\n",
      "   ------------- -------------------------- 3.4/9.8 MB 1.8 MB/s eta 0:00:04\n",
      "   -------------- ------------------------- 3.7/9.8 MB 1.8 MB/s eta 0:00:04\n",
      "   ----------------- ---------------------- 4.2/9.8 MB 1.8 MB/s eta 0:00:04\n",
      "   ------------------ --------------------- 4.5/9.8 MB 1.8 MB/s eta 0:00:03\n",
      "   -------------------- ------------------- 5.0/9.8 MB 1.8 MB/s eta 0:00:03\n",
      "   --------------------- ------------------ 5.2/9.8 MB 1.8 MB/s eta 0:00:03\n",
      "   ----------------------- ---------------- 5.8/9.8 MB 1.8 MB/s eta 0:00:03\n",
      "   ------------------------ --------------- 6.0/9.8 MB 1.8 MB/s eta 0:00:03\n",
      "   -------------------------- ------------- 6.6/9.8 MB 1.8 MB/s eta 0:00:02\n",
      "   --------------------------- ------------ 6.8/9.8 MB 1.8 MB/s eta 0:00:02\n",
      "   ----------------------------- ---------- 7.3/9.8 MB 1.8 MB/s eta 0:00:02\n",
      "   ------------------------------ --------- 7.6/9.8 MB 1.8 MB/s eta 0:00:02\n",
      "   --------------------------------- ------ 8.1/9.8 MB 1.8 MB/s eta 0:00:01\n",
      "   ---------------------------------- ----- 8.4/9.8 MB 1.8 MB/s eta 0:00:01\n",
      "   ------------------------------------ --- 8.9/9.8 MB 1.8 MB/s eta 0:00:01\n",
      "   ------------------------------------- -- 9.2/9.8 MB 1.8 MB/s eta 0:00:01\n",
      "   -------------------------------------- - 9.4/9.8 MB 1.8 MB/s eta 0:00:01\n",
      "   ---------------------------------------- 9.8/9.8 MB 1.8 MB/s eta 0:00:00\n",
      "Downloading tabulate-0.9.0-py3-none-any.whl (35 kB)\n",
      "Using cached joblib-1.4.2-py3-none-any.whl (301 kB)\n",
      "Downloading patsy-0.5.6-py2.py3-none-any.whl (233 kB)\n",
      "Using cached threadpoolctl-3.5.0-py3-none-any.whl (18 kB)\n",
      "Installing collected packages: threadpoolctl, tabulate, scipy, patsy, joblib, scikit-learn, xarray, statsmodels, pandas-flavor, pingouin\n",
      "  Attempting uninstall: scipy\n",
      "    Found existing installation: scipy 1.14.0\n",
      "    Uninstalling scipy-1.14.0:\n",
      "      Successfully uninstalled scipy-1.14.0\n",
      "  Attempting uninstall: xarray\n",
      "    Found existing installation: xarray 2024.7.0\n",
      "    Uninstalling xarray-2024.7.0:\n",
      "      Successfully uninstalled xarray-2024.7.0\n",
      "Successfully installed joblib-1.4.2 pandas-flavor-0.6.0 patsy-0.5.6 pingouin-0.5.5 scikit-learn-1.5.2 scipy-1.14.1 statsmodels-0.14.3 tabulate-0.9.0 threadpoolctl-3.5.0 xarray-2024.9.0\n",
      "Note: you may need to restart the kernel to use updated packages.\n"
     ]
    }
   ],
   "source": [
    "%pip install --upgrade numpy matplotlib scipy pingouin seaborn pyarrow xarray netcdf4"
   ]
  },
  {
   "cell_type": "code",
   "execution_count": null,
   "id": "611f67f9",
   "metadata": {},
   "outputs": [],
   "source": []
  },
  {
   "cell_type": "code",
   "execution_count": 1,
   "id": "b517f752",
   "metadata": {},
   "outputs": [],
   "source": [
    "%matplotlib inline"
   ]
  },
  {
   "cell_type": "code",
   "execution_count": 4,
   "id": "050439d6",
   "metadata": {
    "cell_id": "00007-c41041df-aa03-4b5f-808e-68b79b41952b",
    "deepnote_cell_type": "code",
    "deepnote_to_be_reexecuted": false,
    "execution_millis": 4,
    "execution_start": 1636618509664,
    "source_hash": "fb7cc69d",
    "tags": []
   },
   "outputs": [],
   "source": [
    "import numpy as np\n",
    "import pandas as pd\n",
    "import pingouin as pg\n",
    "import seaborn as sns\n",
    "import matplotlib.pyplot as plt"
   ]
  },
  {
   "cell_type": "markdown",
   "id": "56c3d653",
   "metadata": {
    "cell_id": "00003-44f1e943-1946-4d75-ad48-00950d13809a",
    "deepnote_cell_type": "markdown",
    "id": "athletic-conditioning"
   },
   "source": [
    "# T-Tests with Pingouin\n",
    "\n",
    "[**Pingouin**](https://pingouin-stats.org/index.html) is a statistics package in Python that wraps pandas and [scipy-stats](https://docs.scipy.org/doc/scipy/reference/stats.html), creating more-complete statistics reports and presenting the results in a readable way.\n"
   ]
  },
  {
   "cell_type": "markdown",
   "id": "f011e52f",
   "metadata": {
    "cell_id": "00006-7ecfd47a-9742-49cd-ab32-67732ccc818b",
    "deepnote_cell_type": "markdown",
    "tags": []
   },
   "source": [
    "### T-Tests\n",
    "\n",
    "T-tests compare the means of two samples of data generated from a normally-distributed population and compute the probability that they have the same mean.\n",
    "\n",
    "\n",
    "| Code, | Statistical Test | Description |\n",
    "| :-- | :-- | :-- |\n",
    "| `pg.ttest(x, 0)` | One-Sampled T-Test | \"Is the mean of my data unlikely to be zero?\" |\n",
    "| `pg.ttest(x, y)` | Independent-Samples T-Test | \"Do the means of x and y indicate they are unlikely to be from the same distribution?\" |\n",
    "| `pg.ttest(x, y, paired=True)` | Paired-Samples T-test | \"Comparing each value directly to its neighbor, are the mean differences of x and y's data unlikely to be zero?\" |\n"
   ]
  },
  {
   "cell_type": "markdown",
   "id": "8769dd0f",
   "metadata": {
    "cell_id": "00007-cd4f75ec-03f0-4143-a914-e14ba3feff58",
    "deepnote_cell_type": "markdown",
    "tags": []
   },
   "source": [
    "**Exercises** let's do some analysis on some fake data to get a feel for these two statistics tools."
   ]
  },
  {
   "cell_type": "markdown",
   "id": "838e762d",
   "metadata": {
    "cell_id": "00005-d9203f16-7bbf-45ba-88e1-ad09099e7f62",
    "deepnote_cell_type": "markdown",
    "deepnote_to_be_reexecuted": false,
    "execution_millis": 42,
    "execution_start": 1636618898586,
    "source_hash": "8ddf4792",
    "tags": []
   },
   "source": [
    "Generate the Data: Run the code below to create the dataset `df`."
   ]
  },
  {
   "cell_type": "code",
   "execution_count": 5,
   "id": "94ff3c3a",
   "metadata": {
    "cell_id": "00005-3bfe7d22-ac1b-4281-8239-9840b84be665",
    "deepnote_cell_type": "code",
    "deepnote_to_be_reexecuted": false,
    "execution_millis": 157,
    "execution_start": 1636618872868,
    "source_hash": "30d6b9bd",
    "tags": []
   },
   "outputs": [
    {
     "data": {
      "text/plain": [
       "<Axes: >"
      ]
     },
     "execution_count": 5,
     "metadata": {},
     "output_type": "execute_result"
    },
    {
     "data": {
      "image/png": "[encoded data removed]",
      "text/plain": [
       "<Figure size 640x480 with 1 Axes>"
      ]
     },
     "metadata": {},
     "output_type": "display_data"
    }
   ],
   "source": [
    "randomizer = np.random.RandomState(17)  # Makes sure the pseudorandom number generators reproduce the same data for us all.\n",
    "df = pd.DataFrame()\n",
    "df['A'] = randomizer.normal(0, 1, size=20)\n",
    "df['B'] = randomizer.normal(0.2, 1, size=20)\n",
    "df['C'] = randomizer.normal(0.7, 1, size=20)\n",
    "df['D'] = df.A * 0.3 + randomizer.normal(0, 0.3, size=20)\n",
    "df.plot.box()"
   ]
  },
  {
   "cell_type": "markdown",
   "id": "8c5dffd6",
   "metadata": {
    "cell_id": "00008-9788637e-733d-47af-ade1-6b7d088bfd5c",
    "deepnote_cell_type": "markdown",
    "tags": []
   },
   "source": [
    "### Analyze the Data with T-Tests in Pingouin"
   ]
  },
  {
   "cell_type": "markdown",
   "id": "2818f8db",
   "metadata": {},
   "source": [
    "**A vs 0, One-Sampled T-Test (Example)**: Is the mean of the normally-distributed population that the the dataset A is generated from unlikely to be zero?"
   ]
  },
  {
   "cell_type": "code",
   "execution_count": 22,
   "id": "da2e7630",
   "metadata": {
    "tags": [
     "exercise"
    ]
   },
   "outputs": [
    {
     "data": {
      "text/html": [
       "<div>\n",
       "<style scoped>\n",
       "    .dataframe tbody tr th:only-of-type {\n",
       "        vertical-align: middle;\n",
       "    }\n",
       "\n",
       "    .dataframe tbody tr th {\n",
       "        vertical-align: top;\n",
       "    }\n",
       "\n",
       "    .dataframe thead th {\n",
       "        text-align: right;\n",
       "    }\n",
       "</style>\n",
       "<table border=\"1\" class=\"dataframe\">\n",
       "  <thead>\n",
       "    <tr style=\"text-align: right;\">\n",
       "      <th></th>\n",
       "      <th>T</th>\n",
       "      <th>dof</th>\n",
       "      <th>alternative</th>\n",
       "      <th>p-val</th>\n",
       "      <th>CI95%</th>\n",
       "      <th>cohen-d</th>\n",
       "      <th>BF10</th>\n",
       "      <th>power</th>\n",
       "    </tr>\n",
       "  </thead>\n",
       "  <tbody>\n",
       "    <tr>\n",
       "      <th>T-test</th>\n",
       "      <td>0.378652</td>\n",
       "      <td>19</td>\n",
       "      <td>two-sided</td>\n",
       "      <td>0.709144</td>\n",
       "      <td>[-0.45, 0.65]</td>\n",
       "      <td>0.084669</td>\n",
       "      <td>0.248</td>\n",
       "      <td>0.064966</td>\n",
       "    </tr>\n",
       "  </tbody>\n",
       "</table>\n",
       "</div>"
      ],
      "text/plain": [
       "               T  dof alternative     p-val          CI95%   cohen-d   BF10  \\\n",
       "T-test  0.378652   19   two-sided  0.709144  [-0.45, 0.65]  0.084669  0.248   \n",
       "\n",
       "           power  \n",
       "T-test  0.064966  "
      ]
     },
     "execution_count": 22,
     "metadata": {},
     "output_type": "execute_result"
    }
   ],
   "source": [
    "pg.ttest(df['A'], 0)"
   ]
  },
  {
   "cell_type": "markdown",
   "id": "1834ea70",
   "metadata": {},
   "source": [
    "**B vs 1, One-Sampled T-Test**: Is the mean of the normally-distributed population that the the dataset B is generated from unlikely to be one?"
   ]
  },
  {
   "cell_type": "code",
   "execution_count": null,
   "id": "4eb87cc8",
   "metadata": {
    "tags": [
     "exercise"
    ]
   },
   "outputs": [],
   "source": []
  },
  {
   "cell_type": "markdown",
   "id": "67930529",
   "metadata": {},
   "source": [
    "**A vs B, Independent Samples T-Test**: Is the mean of the normally-distributed population that the the dataset `A` is generated from unlikely to be the same as the mean of the normally-distributed population that the the dataset `B` is generated from?"
   ]
  },
  {
   "cell_type": "code",
   "execution_count": null,
   "id": "e998e123",
   "metadata": {
    "tags": [
     "exercise"
    ]
   },
   "outputs": [],
   "source": []
  },
  {
   "cell_type": "markdown",
   "id": "21e7c886",
   "metadata": {},
   "source": [
    "**A vs C, Independent Samples T-Test**: Is the mean of the normally-distributed population that the the dataset `A` is generated from unlikely to be the same as the mean of the normally-distributed population that the the dataset `C` is generated from?"
   ]
  },
  {
   "cell_type": "code",
   "execution_count": null,
   "id": "b033e99f",
   "metadata": {
    "cell_id": "00013-7bf57931-725d-490f-86dd-bad0d3481205",
    "deepnote_cell_type": "code",
    "tags": [
     "exercise"
    ]
   },
   "outputs": [],
   "source": []
  },
  {
   "cell_type": "markdown",
   "id": "c7f48a4c",
   "metadata": {
    "cell_id": "00014-1acad45d-9edc-4327-9d4a-a75100f221a6",
    "deepnote_cell_type": "markdown",
    "tags": []
   },
   "source": [
    "**A vs C, Paired Samples T-Test**: Is the mean of the differences between each pair of samples in generated from the two normally-distributed populations `A` and `C`  unlikely to be 0?"
   ]
  },
  {
   "cell_type": "code",
   "execution_count": null,
   "id": "62a86b72",
   "metadata": {
    "tags": [
     "exercise"
    ]
   },
   "outputs": [],
   "source": []
  },
  {
   "cell_type": "markdown",
   "id": "f4d2e3ee",
   "metadata": {
    "cell_id": "00017-72ede8ff-a028-4ad9-af67-d9ee5dd2ec58",
    "deepnote_cell_type": "markdown",
    "tags": []
   },
   "source": [
    "**A vs D, Paired Samples T-Test**: Is the mean of the differences between each pair of samples in generated from the two normally-distributed populations `A` and `D`  unlikely to be 0?"
   ]
  },
  {
   "cell_type": "code",
   "execution_count": null,
   "id": "d4cc4373",
   "metadata": {
    "tags": [
     "exercise"
    ]
   },
   "outputs": [],
   "source": []
  },
  {
   "cell_type": "markdown",
   "id": "9563ca18",
   "metadata": {},
   "source": [
    "## T-Tests on Real-World Data: Pupil Position Analysis\n",
    "\n",
    "In the experiments reported by [Steinmetz et al, 2019 in Nature](https://www.nature.com/articles/s41586-019-1787-x), mice performed a discrimination task where they moved the position of a stimulus using a steering wheel. During the experiment, a camera recorded the pupil position of the subject in the x and y directions.\n"
   ]
  },
  {
   "cell_type": "markdown",
   "id": "c93fd1c2",
   "metadata": {},
   "source": [
    "### Download the dataset and load it into a Pandas DataFrame"
   ]
  },
  {
   "cell_type": "code",
   "execution_count": 1,
   "id": "bcb2a31f",
   "metadata": {},
   "outputs": [
    {
     "name": "stderr",
     "output_type": "stream",
     "text": [
      "Downloading data/steinmetz_2017-01-08_Muller.nc: 100%|██████████| 22.1M/22.1M [00:00<00:00, 25.9MB/s]\n"
     ]
    }
   ],
   "source": [
    "# Add path with self-created packages and import them\n",
    "import sys\n",
    "sys.path.append('../src')\n",
    "import sciebo\n",
    "\n",
    "sciebo.download_file('https://uni-bonn.sciebo.de/s/3Uf2gScrvuTPQhB', 'data/steinmetz_2017-01-08_Muller.nc')"
   ]
  },
  {
   "cell_type": "markdown",
   "id": "626cfa12",
   "metadata": {},
   "source": [
    "### Load and Filter the Data\n",
    "\n",
    "Run the code below, which loads the file, extracts the variables, filters the data, and transforms it into a dataframe."
   ]
  },
  {
   "cell_type": "code",
   "execution_count": 87,
   "id": "9f1bdf16",
   "metadata": {},
   "outputs": [
    {
     "data": {
      "text/html": [
       "<div>\n",
       "<style scoped>\n",
       "    .dataframe tbody tr th:only-of-type {\n",
       "        vertical-align: middle;\n",
       "    }\n",
       "\n",
       "    .dataframe tbody tr th {\n",
       "        vertical-align: top;\n",
       "    }\n",
       "\n",
       "    .dataframe thead th {\n",
       "        text-align: right;\n",
       "    }\n",
       "</style>\n",
       "<table border=\"1\" class=\"dataframe\">\n",
       "  <thead>\n",
       "    <tr style=\"text-align: right;\">\n",
       "      <th></th>\n",
       "      <th>pupil_x</th>\n",
       "      <th>pupil_y</th>\n",
       "      <th>contrast_left</th>\n",
       "      <th>contrast_right</th>\n",
       "      <th>response_type</th>\n",
       "      <th>contrast_diff</th>\n",
       "    </tr>\n",
       "    <tr>\n",
       "      <th>trial</th>\n",
       "      <th></th>\n",
       "      <th></th>\n",
       "      <th></th>\n",
       "      <th></th>\n",
       "      <th></th>\n",
       "      <th></th>\n",
       "    </tr>\n",
       "  </thead>\n",
       "  <tbody>\n",
       "    <tr>\n",
       "      <th>1</th>\n",
       "      <td>-1.019465</td>\n",
       "      <td>0.754972</td>\n",
       "      <td>50.0</td>\n",
       "      <td>0.0</td>\n",
       "      <td>1.0</td>\n",
       "      <td>-50.0</td>\n",
       "    </tr>\n",
       "    <tr>\n",
       "      <th>2</th>\n",
       "      <td>-0.184417</td>\n",
       "      <td>0.509199</td>\n",
       "      <td>0.0</td>\n",
       "      <td>50.0</td>\n",
       "      <td>-1.0</td>\n",
       "      <td>50.0</td>\n",
       "    </tr>\n",
       "    <tr>\n",
       "      <th>3</th>\n",
       "      <td>0.799240</td>\n",
       "      <td>-0.486496</td>\n",
       "      <td>100.0</td>\n",
       "      <td>25.0</td>\n",
       "      <td>1.0</td>\n",
       "      <td>-75.0</td>\n",
       "    </tr>\n",
       "    <tr>\n",
       "      <th>4</th>\n",
       "      <td>-0.294746</td>\n",
       "      <td>-0.218956</td>\n",
       "      <td>0.0</td>\n",
       "      <td>100.0</td>\n",
       "      <td>-1.0</td>\n",
       "      <td>100.0</td>\n",
       "    </tr>\n",
       "    <tr>\n",
       "      <th>5</th>\n",
       "      <td>-0.367058</td>\n",
       "      <td>-0.259306</td>\n",
       "      <td>50.0</td>\n",
       "      <td>50.0</td>\n",
       "      <td>1.0</td>\n",
       "      <td>0.0</td>\n",
       "    </tr>\n",
       "  </tbody>\n",
       "</table>\n",
       "</div>"
      ],
      "text/plain": [
       "        pupil_x   pupil_y  contrast_left  contrast_right  response_type  \\\n",
       "trial                                                                     \n",
       "1     -1.019465  0.754972           50.0             0.0            1.0   \n",
       "2     -0.184417  0.509199            0.0            50.0           -1.0   \n",
       "3      0.799240 -0.486496          100.0            25.0            1.0   \n",
       "4     -0.294746 -0.218956            0.0           100.0           -1.0   \n",
       "5     -0.367058 -0.259306           50.0            50.0            1.0   \n",
       "\n",
       "       contrast_diff  \n",
       "trial                 \n",
       "1              -50.0  \n",
       "2               50.0  \n",
       "3              -75.0  \n",
       "4              100.0  \n",
       "5                0.0  "
      ]
     },
     "execution_count": 87,
     "metadata": {},
     "output_type": "execute_result"
    }
   ],
   "source": [
    "import xarray as xr\n",
    "\n",
    "dset = xr.load_dataset('data/steinmetz_2017-01-08_Muller.nc')\n",
    "dd = dset[['pupil_x', 'pupil_y', 'contrast_left', 'contrast_right', 'response_type']]\n",
    "dd = dd.where(\n",
    "    (dset.active_trials==True) \n",
    "    & (dset.response_type != 0)\n",
    "    & (dset.time >= 0.5)\n",
    "    & (dset.time <= 1.3)\n",
    "    , drop=True)\n",
    "dd['contrast_diff'] = dd['contrast_right'] - dd['contrast_left']\n",
    "trials = dd.median(dim='time')\n",
    "rdf = trials.to_dataframe()\n",
    "rdf.head()"
   ]
  },
  {
   "cell_type": "markdown",
   "id": "3cdfd4ec",
   "metadata": {},
   "source": [
    "**Exercises**\n",
    "\n",
    "Extract data from the dataframe `df1`, plot its distribution(s), and use a t-test to answer the questions below:"
   ]
  },
  {
   "cell_type": "markdown",
   "id": "843fd300",
   "metadata": {},
   "source": [
    "**Example**: For the trials where `contrast_left` was greater or equal to 50 and `contrast_right` was 0, was the average `pupil_x` position for the trial zero?"
   ]
  },
  {
   "cell_type": "code",
   "execution_count": 90,
   "id": "45fc62fa",
   "metadata": {},
   "outputs": [
    {
     "data": {
      "text/html": [
       "<div>\n",
       "<style scoped>\n",
       "    .dataframe tbody tr th:only-of-type {\n",
       "        vertical-align: middle;\n",
       "    }\n",
       "\n",
       "    .dataframe tbody tr th {\n",
       "        vertical-align: top;\n",
       "    }\n",
       "\n",
       "    .dataframe thead th {\n",
       "        text-align: right;\n",
       "    }\n",
       "</style>\n",
       "<table border=\"1\" class=\"dataframe\">\n",
       "  <thead>\n",
       "    <tr style=\"text-align: right;\">\n",
       "      <th></th>\n",
       "      <th>T</th>\n",
       "      <th>dof</th>\n",
       "      <th>alternative</th>\n",
       "      <th>p-val</th>\n",
       "      <th>CI95%</th>\n",
       "      <th>cohen-d</th>\n",
       "      <th>BF10</th>\n",
       "      <th>power</th>\n",
       "    </tr>\n",
       "  </thead>\n",
       "  <tbody>\n",
       "    <tr>\n",
       "      <th>T-test</th>\n",
       "      <td>3.447425</td>\n",
       "      <td>24</td>\n",
       "      <td>two-sided</td>\n",
       "      <td>0.002098</td>\n",
       "      <td>[0.22, 0.88]</td>\n",
       "      <td>0.689485</td>\n",
       "      <td>18.185</td>\n",
       "      <td>0.910939</td>\n",
       "    </tr>\n",
       "  </tbody>\n",
       "</table>\n",
       "</div>"
      ],
      "text/plain": [
       "               T  dof alternative     p-val         CI95%   cohen-d    BF10  \\\n",
       "T-test  3.447425   24   two-sided  0.002098  [0.22, 0.88]  0.689485  18.185   \n",
       "\n",
       "           power  \n",
       "T-test  0.910939  "
      ]
     },
     "execution_count": 90,
     "metadata": {},
     "output_type": "execute_result"
    },
    {
     "data": {
      "image/png": "[encoded data removed]",
      "text/plain": [
       "<Figure size 640x480 with 1 Axes>"
      ]
     },
     "metadata": {},
     "output_type": "display_data"
    }
   ],
   "source": [
    "left = rdf[(rdf.contrast_left >= 50) & (rdf.contrast_right == 0)]\n",
    "sns.kdeplot(left.pupil_x, label='left')\n",
    "plt.axvline(0, color='black', linestyle='dotted')\n",
    "plt.legend()\n",
    "pg.ttest(left.pupil_x, 0)"
   ]
  },
  {
   "cell_type": "markdown",
   "id": "411b8591",
   "metadata": {},
   "source": [
    "Where the mice looking at the stimulus that was presented?  In trials where there was only one stimulus present (i.e. `contrast_left` or `contrast_right` was zero), and the stimulus had at least a contrast level of 50 (quite visible), was there a difference in the average `pupil_x` position?"
   ]
  },
  {
   "cell_type": "code",
   "execution_count": null,
   "id": "7bcd646e",
   "metadata": {},
   "outputs": [],
   "source": []
  },
  {
   "cell_type": "markdown",
   "id": "b2c32594",
   "metadata": {},
   "source": [
    "As a sanity check, was there a difference in vertical eye position between the left-stimulus trials and the right-stimulus trials?  In trials where there was only one stimulus present (i.e. `contrast_left` or `contrast_right` was zero), and the stimulus had at least a contrast level of 50 (quite visible), was there a difference in the average `pupil_y` position?"
   ]
  },
  {
   "cell_type": "code",
   "execution_count": null,
   "id": "77ac4bf4",
   "metadata": {},
   "outputs": [],
   "source": []
  },
  {
   "cell_type": "markdown",
   "id": "fc7904b5",
   "metadata": {},
   "source": [
    "Did mice look in the direction they turned the wheel?  Was there a difference in average `pupil_x` position between left-turning trials (i.e. `response_type` is -1) and right-turning trials (i.e. `response_type` is 1)?"
   ]
  },
  {
   "cell_type": "code",
   "execution_count": null,
   "id": "a03e53c0",
   "metadata": {},
   "outputs": [],
   "source": []
  },
  {
   "cell_type": "markdown",
   "id": "824c19c1",
   "metadata": {},
   "source": [
    "As a sanity check, did vertical eye position matter?  Was there a difference in average `pupil_x` position between left-turning trials (i.e. `response_type` is -1) and right-turning trials (i.e. `response_type` is 1)?"
   ]
  },
  {
   "cell_type": "code",
   "execution_count": null,
   "id": "7b8a02f9",
   "metadata": {},
   "outputs": [],
   "source": []
  },
  {
   "cell_type": "markdown",
   "id": "e7ec7428-b083-4b2d-b8b9-304c72cca984",
   "metadata": {},
   "source": [
    "## Working with Long DataFrames"
   ]
  },
  {
   "cell_type": "markdown",
   "id": "3c5c7fd1",
   "metadata": {},
   "source": [
    "If data is organized as a long dataframe, it is also possible to have `pingouin` simply do all the comparisons between the groups.  Not only is this very convenient; it also makes it possible for pingouin to do richer analyses.\n",
    "\n",
    "| Test, | Function | \n",
    "| :--- | :--- |\n",
    "| Melt | `pd.melt()` |\n",
    "| ANOVA | `pg.anova(data=dfl, dv='value', between=['variable'], detailed=True, )` |\n",
    "| ANCOVA | `pg.ancova(dfl, dv='value', between=['variable'], covar=['index'], )` |\n",
    "| Pairwise T-tests | `pg.pairwise_tests(data=dfl, dv='value', between='variable', subject='index', padjust='fdr')`  |  "
   ]
  },
  {
   "cell_type": "markdown",
   "id": "8e111182-c253-4eab-90c4-ffb6707f4853",
   "metadata": {},
   "source": [
    "**Exercises**"
   ]
  },
  {
   "cell_type": "markdown",
   "id": "11b50384-3eb8-41a0-96b0-94ec0d8ccf66",
   "metadata": {},
   "source": [
    "Use the `dfl` long dataframe below:"
   ]
  },
  {
   "cell_type": "code",
   "execution_count": 97,
   "id": "e5d4df20",
   "metadata": {
    "tags": [
     "exercise"
    ]
   },
   "outputs": [
    {
     "data": {
      "text/html": [
       "<div>\n",
       "<style scoped>\n",
       "    .dataframe tbody tr th:only-of-type {\n",
       "        vertical-align: middle;\n",
       "    }\n",
       "\n",
       "    .dataframe tbody tr th {\n",
       "        vertical-align: top;\n",
       "    }\n",
       "\n",
       "    .dataframe thead th {\n",
       "        text-align: right;\n",
       "    }\n",
       "</style>\n",
       "<table border=\"1\" class=\"dataframe\">\n",
       "  <thead>\n",
       "    <tr style=\"text-align: right;\">\n",
       "      <th></th>\n",
       "      <th>index</th>\n",
       "      <th>variable</th>\n",
       "      <th>value</th>\n",
       "    </tr>\n",
       "  </thead>\n",
       "  <tbody>\n",
       "    <tr>\n",
       "      <th>17</th>\n",
       "      <td>17</td>\n",
       "      <td>A</td>\n",
       "      <td>-0.473448</td>\n",
       "    </tr>\n",
       "    <tr>\n",
       "      <th>44</th>\n",
       "      <td>4</td>\n",
       "      <td>C</td>\n",
       "      <td>1.257674</td>\n",
       "    </tr>\n",
       "    <tr>\n",
       "      <th>76</th>\n",
       "      <td>16</td>\n",
       "      <td>D</td>\n",
       "      <td>0.232169</td>\n",
       "    </tr>\n",
       "    <tr>\n",
       "      <th>52</th>\n",
       "      <td>12</td>\n",
       "      <td>C</td>\n",
       "      <td>0.944520</td>\n",
       "    </tr>\n",
       "    <tr>\n",
       "      <th>20</th>\n",
       "      <td>0</td>\n",
       "      <td>B</td>\n",
       "      <td>-0.782294</td>\n",
       "    </tr>\n",
       "  </tbody>\n",
       "</table>\n",
       "</div>"
      ],
      "text/plain": [
       "    index variable     value\n",
       "17     17        A -0.473448\n",
       "44      4        C  1.257674\n",
       "76     16        D  0.232169\n",
       "52     12        C  0.944520\n",
       "20      0        B -0.782294"
      ]
     },
     "execution_count": 97,
     "metadata": {},
     "output_type": "execute_result"
    }
   ],
   "source": [
    "dfl = df.melt(ignore_index=False).reset_index()\n",
    "dfl.sample(5)"
   ]
  },
  {
   "cell_type": "markdown",
   "id": "374fed27-98aa-4460-aacc-cf02870e5116",
   "metadata": {},
   "source": [
    "**Example**: Before doing pairwise tests, it's often helpful to run an ANOVA analysis, which can tell you quickly whether a pairwise difference exists within a collection of potential pairs.  Below, run an ANOVA test comparing the dv 'value' between values of 'variable' to see if a significant difference is expected."
   ]
  },
  {
   "cell_type": "code",
   "execution_count": 98,
   "id": "fb58b047-6925-42c4-88bf-4ada5f0ecc65",
   "metadata": {
    "tags": [
     "exercise"
    ]
   },
   "outputs": [
    {
     "data": {
      "text/html": [
       "<div>\n",
       "<style scoped>\n",
       "    .dataframe tbody tr th:only-of-type {\n",
       "        vertical-align: middle;\n",
       "    }\n",
       "\n",
       "    .dataframe tbody tr th {\n",
       "        vertical-align: top;\n",
       "    }\n",
       "\n",
       "    .dataframe thead th {\n",
       "        text-align: right;\n",
       "    }\n",
       "</style>\n",
       "<table border=\"1\" class=\"dataframe\">\n",
       "  <thead>\n",
       "    <tr style=\"text-align: right;\">\n",
       "      <th></th>\n",
       "      <th>Source</th>\n",
       "      <th>SS</th>\n",
       "      <th>DF</th>\n",
       "      <th>MS</th>\n",
       "      <th>F</th>\n",
       "      <th>p-unc</th>\n",
       "      <th>np2</th>\n",
       "    </tr>\n",
       "  </thead>\n",
       "  <tbody>\n",
       "    <tr>\n",
       "      <th>0</th>\n",
       "      <td>variable</td>\n",
       "      <td>7.259916</td>\n",
       "      <td>3</td>\n",
       "      <td>2.419972</td>\n",
       "      <td>2.851046</td>\n",
       "      <td>0.042862</td>\n",
       "      <td>0.101157</td>\n",
       "    </tr>\n",
       "    <tr>\n",
       "      <th>1</th>\n",
       "      <td>Within</td>\n",
       "      <td>64.508906</td>\n",
       "      <td>76</td>\n",
       "      <td>0.848801</td>\n",
       "      <td>NaN</td>\n",
       "      <td>NaN</td>\n",
       "      <td>NaN</td>\n",
       "    </tr>\n",
       "  </tbody>\n",
       "</table>\n",
       "</div>"
      ],
      "text/plain": [
       "     Source         SS  DF        MS         F     p-unc       np2\n",
       "0  variable   7.259916   3  2.419972  2.851046  0.042862  0.101157\n",
       "1    Within  64.508906  76  0.848801       NaN       NaN       NaN"
      ]
     },
     "execution_count": 98,
     "metadata": {},
     "output_type": "execute_result"
    }
   ],
   "source": [
    "pg.anova(dfl, dv='value', between=['variable'], detailed=True, )"
   ]
  },
  {
   "cell_type": "markdown",
   "id": "3acbacf4",
   "metadata": {},
   "source": [
    "Do a t-tests for every possible pairwise comparison of \"variable\" (e.g. \"A\" vs \"B\", \"A\" vs \"C\", etc).  (Tip: it works similar to the `pg.anova` function)"
   ]
  },
  {
   "cell_type": "code",
   "execution_count": null,
   "id": "5cea7477",
   "metadata": {
    "tags": [
     "exercise"
    ]
   },
   "outputs": [],
   "source": []
  },
  {
   "cell_type": "markdown",
   "id": "ea566c5d-0f2a-4829-8b78-cbd687f5fccd",
   "metadata": {},
   "source": [
    "Repeat the tests, but his time, adjust the p-value to compensate for multiple comparisons using the 'fdr' method.  Are the significant differences still significant?  How do the corrected p-values compare to the uncorrected p-values?"
   ]
  },
  {
   "cell_type": "code",
   "execution_count": null,
   "id": "c5033a36-b7b7-4f3a-90fa-9fadbdbe558d",
   "metadata": {
    "tags": [
     "exercise"
    ]
   },
   "outputs": [],
   "source": []
  },
  {
   "cell_type": "markdown",
   "id": "d27a3b1f-3eeb-4cf1-a1d2-fbd4a77683f1",
   "metadata": {},
   "source": [
    "Do a pairwise test again on the long dataframe, comparing the value of 'value' between each value 'variable'.  This time, use a non-parametric comparison (not assuming a normal distribution of each variable), and still adjust for multiple comparisons.  Are your results the same?"
   ]
  },
  {
   "cell_type": "code",
   "execution_count": null,
   "id": "325873ad-f030-4e90-81b3-0c60f16c1ec1",
   "metadata": {
    "tags": [
     "exercise"
    ]
   },
   "outputs": [],
   "source": []
  },
  {
   "cell_type": "markdown",
   "id": "ccc79cc6",
   "metadata": {},
   "source": [
    "Use the `rdf` dataframe from the pupil measurement data.  Is there a significant different in average horizontal position, when comparing all the `contrast_diff` levels in the study pairwise?"
   ]
  },
  {
   "cell_type": "code",
   "execution_count": null,
   "id": "0e4d0e28",
   "metadata": {},
   "outputs": [],
   "source": []
  },
  {
   "cell_type": "markdown",
   "id": "cc23ab5d",
   "metadata": {},
   "source": [
    "## A Gallery of Plots : 2D Histograms with `sns.jointplot()`\n",
    "\n",
    "Let's try out a few different plots, for comparing two different continuous variables' distributions.\n",
    "\n",
    "| Code | Description |\n",
    "| :--  | :-- |\n",
    "| `sns.jointplot(df, x='colA', y='colB')` | Makes a joint histogram |"
   ]
  },
  {
   "cell_type": "markdown",
   "id": "980a7392",
   "metadata": {},
   "source": [
    "**Exercises**"
   ]
  },
  {
   "cell_type": "markdown",
   "id": "b11304fe",
   "metadata": {},
   "source": [
    "**Example**: Make a joint plot comparing the `pupil_x` and `pupil_y` variables:"
   ]
  },
  {
   "cell_type": "code",
   "execution_count": 113,
   "id": "bc3c2043",
   "metadata": {},
   "outputs": [
    {
     "data": {
      "image/png": "[encoded data removed]",
      "text/plain": [
       "<Figure size 600x600 with 3 Axes>"
      ]
     },
     "metadata": {},
     "output_type": "display_data"
    }
   ],
   "source": [
    "sns.jointplot(rdf, x=\"pupil_x\", y=\"pupil_y\");"
   ]
  },
  {
   "cell_type": "markdown",
   "id": "7c57a85a",
   "metadata": {},
   "source": [
    "Make a joint plot comparing the `pupil_x` and `pupil_y` variables, using `kind='kde'`."
   ]
  },
  {
   "cell_type": "code",
   "execution_count": null,
   "id": "5d08c2cc",
   "metadata": {},
   "outputs": [],
   "source": []
  },
  {
   "cell_type": "markdown",
   "id": "ff251179",
   "metadata": {},
   "source": [
    "Make a joint plot comparing the `pupil_x` and `pupil_y` variables, using `kind='kde'` and setting `hue` to `'response_type'`."
   ]
  },
  {
   "cell_type": "code",
   "execution_count": null,
   "id": "8e82d871",
   "metadata": {},
   "outputs": [],
   "source": []
  },
  {
   "cell_type": "markdown",
   "id": "a8a03367",
   "metadata": {},
   "source": [
    "Make a joint plot comparing the `pupil_x` and `pupil_y` variables, using `kind='hex'`."
   ]
  },
  {
   "cell_type": "code",
   "execution_count": null,
   "id": "2e7a86db",
   "metadata": {},
   "outputs": [],
   "source": []
  },
  {
   "cell_type": "markdown",
   "id": "0a7a601c",
   "metadata": {
    "cell_id": "00028-47e23c09-42f1-4eaa-b027-43c8707fc77b",
    "deepnote_cell_type": "markdown",
    "id": "documentary-effects"
   },
   "source": [
    "## Further Reading\n",
    "\n",
    "Nice article on Pingouin here: https://towardsdatascience.com/the-new-kid-on-the-statistics-in-python-block-pingouin-6b353a1db57c\n",
    "\n",
    "Nice summary of the different effect size metrics and when to pick which: https://www.socscistatistics.com/effectsize/default3.aspx"
   ]
  },
  {
   "cell_type": "markdown",
   "id": "be6ef0ca-998f-441e-97cd-3d0e96011a33",
   "metadata": {},
   "source": [
    "## Extra: Correlations and Simpson's Paradox\n",
    "\n",
    "| Function | Description |\n",
    "| :-- | :-- |\n",
    "| `pg.corr(A, B)` | The correlation between variables A and B |\n",
    "| `pg.pairwise_corr(flowers)` | Pairwise correlations |\n",
    "| `df.plot.scatter(x='A', y='B')` | Make a scatter plot |\n",
    "| `sns.lmplot(data=df, x='Col1', y='Col2', hue='Col3')` | Make a scatter plot with a regression line |"
   ]
  },
  {
   "cell_type": "markdown",
   "id": "460f3510-69cc-4964-a329-c3d40fb5e3d9",
   "metadata": {},
   "source": [
    "Download the iris dataset for this section:"
   ]
  },
  {
   "cell_type": "code",
   "execution_count": 110,
   "id": "c19d0c1c-20c1-4e8e-8100-1ea23b7134da",
   "metadata": {},
   "outputs": [],
   "source": [
    "from bokeh import sampledata\n",
    "# sampledata.download()"
   ]
  },
  {
   "cell_type": "code",
   "execution_count": 111,
   "id": "a493e650-a257-4ce9-866d-e23b596d4cf4",
   "metadata": {},
   "outputs": [
    {
     "data": {
      "text/html": [
       "<div>\n",
       "<style scoped>\n",
       "    .dataframe tbody tr th:only-of-type {\n",
       "        vertical-align: middle;\n",
       "    }\n",
       "\n",
       "    .dataframe tbody tr th {\n",
       "        vertical-align: top;\n",
       "    }\n",
       "\n",
       "    .dataframe thead th {\n",
       "        text-align: right;\n",
       "    }\n",
       "</style>\n",
       "<table border=\"1\" class=\"dataframe\">\n",
       "  <thead>\n",
       "    <tr style=\"text-align: right;\">\n",
       "      <th></th>\n",
       "      <th>sepal_length</th>\n",
       "      <th>sepal_width</th>\n",
       "      <th>petal_length</th>\n",
       "      <th>petal_width</th>\n",
       "      <th>species</th>\n",
       "    </tr>\n",
       "  </thead>\n",
       "  <tbody>\n",
       "    <tr>\n",
       "      <th>0</th>\n",
       "      <td>5.1</td>\n",
       "      <td>3.5</td>\n",
       "      <td>1.4</td>\n",
       "      <td>0.2</td>\n",
       "      <td>setosa</td>\n",
       "    </tr>\n",
       "    <tr>\n",
       "      <th>1</th>\n",
       "      <td>4.9</td>\n",
       "      <td>3.0</td>\n",
       "      <td>1.4</td>\n",
       "      <td>0.2</td>\n",
       "      <td>setosa</td>\n",
       "    </tr>\n",
       "    <tr>\n",
       "      <th>2</th>\n",
       "      <td>4.7</td>\n",
       "      <td>3.2</td>\n",
       "      <td>1.3</td>\n",
       "      <td>0.2</td>\n",
       "      <td>setosa</td>\n",
       "    </tr>\n",
       "    <tr>\n",
       "      <th>3</th>\n",
       "      <td>4.6</td>\n",
       "      <td>3.1</td>\n",
       "      <td>1.5</td>\n",
       "      <td>0.2</td>\n",
       "      <td>setosa</td>\n",
       "    </tr>\n",
       "    <tr>\n",
       "      <th>4</th>\n",
       "      <td>5.0</td>\n",
       "      <td>3.6</td>\n",
       "      <td>1.4</td>\n",
       "      <td>0.2</td>\n",
       "      <td>setosa</td>\n",
       "    </tr>\n",
       "  </tbody>\n",
       "</table>\n",
       "</div>"
      ],
      "text/plain": [
       "   sepal_length  sepal_width  petal_length  petal_width species\n",
       "0           5.1          3.5           1.4          0.2  setosa\n",
       "1           4.9          3.0           1.4          0.2  setosa\n",
       "2           4.7          3.2           1.3          0.2  setosa\n",
       "3           4.6          3.1           1.5          0.2  setosa\n",
       "4           5.0          3.6           1.4          0.2  setosa"
      ]
     },
     "execution_count": 111,
     "metadata": {},
     "output_type": "execute_result"
    }
   ],
   "source": [
    "from bokeh.sampledata import iris\n",
    "flowers = iris.flowers\n",
    "flowers.head()"
   ]
  },
  {
   "cell_type": "markdown",
   "id": "1c6d95fb-45f8-426b-a560-bbe9dd44a34d",
   "metadata": {},
   "source": [
    "**Exercises**:"
   ]
  },
  {
   "cell_type": "markdown",
   "id": "0c929132-e638-4ff1-91a0-91dfd292bae9",
   "metadata": {},
   "source": [
    "Is there a correlation between flowers' sepal widths and their petal lengths?"
   ]
  },
  {
   "cell_type": "code",
   "execution_count": null,
   "id": "6969952b-80e1-414c-aae2-ba4e22163137",
   "metadata": {
    "tags": [
     "exercise"
    ]
   },
   "outputs": [],
   "source": []
  },
  {
   "cell_type": "markdown",
   "id": "574a1915-6e82-4327-9a99-f4d88e52727a",
   "metadata": {},
   "source": [
    "Use seaborn's `lmplot()` function to plot a regression line showing the sepal widths and petal lengths.  Does the direction of this line match the results?  Looking closely at the data's distribution, what is missing from this story?"
   ]
  },
  {
   "cell_type": "code",
   "execution_count": null,
   "id": "50c1d511-6651-4ac2-ba4d-d9a21f5ee2c6",
   "metadata": {
    "tags": [
     "exercise"
    ]
   },
   "outputs": [],
   "source": []
  },
  {
   "cell_type": "markdown",
   "id": "13f21fd7-797b-4c87-be8e-dd6ba45934d3",
   "metadata": {},
   "source": [
    "This time factor in the `species` variable into the `lmplot()` visualization.  What kind of relationship do you see between `sepal_width` and `petal_length` now?"
   ]
  },
  {
   "cell_type": "code",
   "execution_count": null,
   "id": "363fa626-be6b-4cd9-80a8-a1136f0238fd",
   "metadata": {
    "tags": [
     "exercise"
    ]
   },
   "outputs": [],
   "source": []
  },
  {
   "cell_type": "markdown",
   "id": "e6a59f3f-304c-4da9-bcb6-b35ad3427955",
   "metadata": {},
   "source": [
    "What's happening here is that a third variable, `\"species\"`, is influencing both the petal and the sepal shape; this effect is called \"Simpson's Paradox\".   Unfortunately, at this time (as far as I know) pengouin doesn't have a way to split a correlation into multiple groups; one way to do this, though, is to use a `df.groupby()` analysis, concatenating the results together:"
   ]
  },
  {
   "cell_type": "code",
   "execution_count": 128,
   "id": "6c7e05f1-6064-4c3d-a371-f697ce9fdecb",
   "metadata": {},
   "outputs": [
    {
     "data": {
      "text/html": [
       "<div>\n",
       "<style scoped>\n",
       "    .dataframe tbody tr th:only-of-type {\n",
       "        vertical-align: middle;\n",
       "    }\n",
       "\n",
       "    .dataframe tbody tr th {\n",
       "        vertical-align: top;\n",
       "    }\n",
       "\n",
       "    .dataframe thead th {\n",
       "        text-align: right;\n",
       "    }\n",
       "</style>\n",
       "<table border=\"1\" class=\"dataframe\">\n",
       "  <thead>\n",
       "    <tr style=\"text-align: right;\">\n",
       "      <th></th>\n",
       "      <th>n</th>\n",
       "      <th>r</th>\n",
       "      <th>CI95%</th>\n",
       "      <th>p-val</th>\n",
       "      <th>BF10</th>\n",
       "      <th>power</th>\n",
       "      <th>name</th>\n",
       "    </tr>\n",
       "  </thead>\n",
       "  <tbody>\n",
       "    <tr>\n",
       "      <th>pearson</th>\n",
       "      <td>50</td>\n",
       "      <td>0.177700</td>\n",
       "      <td>[-0.11, 0.43]</td>\n",
       "      <td>0.216979</td>\n",
       "      <td>0.37</td>\n",
       "      <td>0.236771</td>\n",
       "      <td>setosa</td>\n",
       "    </tr>\n",
       "    <tr>\n",
       "      <th>pearson</th>\n",
       "      <td>50</td>\n",
       "      <td>0.560522</td>\n",
       "      <td>[0.33, 0.73]</td>\n",
       "      <td>0.000023</td>\n",
       "      <td>1061.04</td>\n",
       "      <td>0.992245</td>\n",
       "      <td>versicolor</td>\n",
       "    </tr>\n",
       "    <tr>\n",
       "      <th>pearson</th>\n",
       "      <td>50</td>\n",
       "      <td>0.401045</td>\n",
       "      <td>[0.14, 0.61]</td>\n",
       "      <td>0.003898</td>\n",
       "      <td>10.094</td>\n",
       "      <td>0.836041</td>\n",
       "      <td>virginica</td>\n",
       "    </tr>\n",
       "  </tbody>\n",
       "</table>\n",
       "</div>"
      ],
      "text/plain": [
       "          n         r          CI95%     p-val     BF10     power        name\n",
       "pearson  50  0.177700  [-0.11, 0.43]  0.216979     0.37  0.236771      setosa\n",
       "pearson  50  0.560522   [0.33, 0.73]  0.000023  1061.04  0.992245  versicolor\n",
       "pearson  50  0.401045   [0.14, 0.61]  0.003898   10.094  0.836041   virginica"
      ]
     },
     "execution_count": 128,
     "metadata": {},
     "output_type": "execute_result"
    }
   ],
   "source": [
    "analyses = []\n",
    "for name, group in flowers.groupby('species'):\n",
    "    analysis = pg.corr(group['sepal_width'], group['petal_length'])\n",
    "    analysis['name'] = name\n",
    "    analyses.append(analysis)\n",
    "results = pd.concat(analyses)\n",
    "results"
   ]
  },
  {
   "cell_type": "markdown",
   "id": "f16ef249-6c23-4209-96e4-b7ae233e5e31",
   "metadata": {},
   "source": [
    "To summarize, accounting for the right variables is a big part of science; we should always be aware that the patterns we see in our data can be turned completely upside down when new aspects of a problem are understood and factored in!  "
   ]
  }
 ],
 "metadata": {
  "colab": {
   "name": "20_Stats_With_Pingouin.ipynb",
   "provenance": []
  },
  "deepnote": {},
  "deepnote_execution_queue": [],
  "deepnote_notebook_id": "2622f8ad-4a8a-45f5-9f7f-6e1d67bd04f0",
  "kernelspec": {
   "display_name": "Python 3",
   "language": "python",
   "name": "python3"
  },
  "language_info": {
   "codemirror_mode": {
    "name": "ipython",
    "version": 3
   },
   "file_extension": ".py",
   "mimetype": "text/x-python",
   "name": "python",
   "nbconvert_exporter": "python",
   "pygments_lexer": "ipython3",
   "version": "3.12.5"
  },
  "vscode": {
   "interpreter": {
    "hash": "d6852d01271bf8033dbdb7ec364b6f6e89fd52a18c6bf5b4c73e48c86329a8dd"
   }
  }
 },
 "nbformat": 4,
 "nbformat_minor": 5
}
