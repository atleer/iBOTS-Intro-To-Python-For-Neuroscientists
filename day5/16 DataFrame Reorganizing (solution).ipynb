{
 "cells": [
  {
   "cell_type": "code",
   "execution_count": null,
   "id": "bc983bc7",
   "metadata": {},
   "outputs": [],
   "source": [
    "# %pip install numpy pandas sqlalchemy"
   ]
  },
  {
   "cell_type": "code",
   "execution_count": 1,
   "id": "6787528b",
   "metadata": {
    "cell_id": "00000-db897cd6-3f70-429c-a98c-008563ade8ed",
    "deepnote_cell_type": "code"
   },
   "outputs": [],
   "source": [
    "import numpy as np\n",
    "import pandas as pd"
   ]
  },
  {
   "cell_type": "markdown",
   "id": "985890a5",
   "metadata": {
    "cell_id": "00001-9330c10e-8ab9-44a4-bd1c-3e3f730a85e5",
    "deepnote_cell_type": "markdown"
   },
   "source": [
    "# Reorganizing Data in DataFrames"
   ]
  },
  {
   "cell_type": "markdown",
   "id": "b5fa357e",
   "metadata": {
    "cell_id": "00002-61e3c02f-1c31-46c4-b037-871e5b50816c",
    "deepnote_cell_type": "markdown"
   },
   "source": [
    "## Concatenation / Appends\n",
    "\n",
    "The `pd.concat()` fucntion and `DataFrame.append()` method takes DataFrames with identical columns and makes a DataFrame that is **taller** than either of them by stacking them on top of each other.\n",
    "\n",
    "For example, it can turn this `df1` DataFrame:\n",
    "\n",
    "| Day | Weather |\n",
    "| :-: | :---:   |\n",
    "| Monday | Sunny   |\n",
    "| Tuesday | Rainy |\n",
    "\n",
    "and this `df2` DataFrame:\n",
    "\n",
    "| Day | Weather |\n",
    "| :-: | :---:   |\n",
    "| Wednesday | Sunny   |\n",
    "| Thursday | Rainy |\n",
    "\n",
    "into this:\n",
    "\n",
    "| Day | Weather |\n",
    "| :-: | :---:   |\n",
    "| Monday | Sunny   |\n",
    "| Tuesday | Rainy |\n",
    "| Wednesday | Sunny   |\n",
    "| Thursday | Rainy |\n",
    "\n",
    "\n",
    "with one line of code:\n",
    "\n",
    "```python\n",
    "pd.concat([df1, df2])\n",
    "```\n",
    "\n",
    "**Note:** If you'd like pandas to ignore the index of the dataframes when appending them, the following option is helpful:\n",
    "\n",
    "```python\n",
    "pd.concat([df1, df2], ignore_index=True)\n",
    "```\n",
    "\n",
    "**Note:** With the `pd.concat()` function, you can concatenate as many dataframes in one step as you want!"
   ]
  },
  {
   "cell_type": "markdown",
   "id": "19f4c3c2",
   "metadata": {
    "cell_id": "00003-e6a66cd9-651e-488a-afb1-a17274d9f424",
    "deepnote_cell_type": "markdown"
   },
   "source": [
    "#### Exercise\n",
    "\n",
    "Let's practice concatenating DataFrames with the `pd.concat` function:"
   ]
  },
  {
   "cell_type": "code",
   "execution_count": 2,
   "id": "b88fe182",
   "metadata": {
    "cell_id": "00004-c6c147aa-d805-4448-abcf-ac3679177d8f",
    "deepnote_cell_type": "code"
   },
   "outputs": [
    {
     "data": {
      "text/html": [
       "<div>\n",
       "<style scoped>\n",
       "    .dataframe tbody tr th:only-of-type {\n",
       "        vertical-align: middle;\n",
       "    }\n",
       "\n",
       "    .dataframe tbody tr th {\n",
       "        vertical-align: top;\n",
       "    }\n",
       "\n",
       "    .dataframe thead th {\n",
       "        text-align: right;\n",
       "    }\n",
       "</style>\n",
       "<table border=\"1\" class=\"dataframe\">\n",
       "  <thead>\n",
       "    <tr style=\"text-align: right;\">\n",
       "      <th></th>\n",
       "      <th>Name</th>\n",
       "      <th>Age</th>\n",
       "    </tr>\n",
       "  </thead>\n",
       "  <tbody>\n",
       "    <tr>\n",
       "      <th>0</th>\n",
       "      <td>Jackson</td>\n",
       "      <td>16</td>\n",
       "    </tr>\n",
       "    <tr>\n",
       "      <th>1</th>\n",
       "      <td>Josh</td>\n",
       "      <td>19</td>\n",
       "    </tr>\n",
       "    <tr>\n",
       "      <th>2</th>\n",
       "      <td>Jenny</td>\n",
       "      <td>17</td>\n",
       "    </tr>\n",
       "  </tbody>\n",
       "</table>\n",
       "</div>"
      ],
      "text/plain": [
       "      Name  Age\n",
       "0  Jackson   16\n",
       "1     Josh   19\n",
       "2    Jenny   17"
      ]
     },
     "execution_count": 2,
     "metadata": {},
     "output_type": "execute_result"
    }
   ],
   "source": [
    "df1 = pd.DataFrame({'Name': ['Jackson', 'Josh', 'Jenny'], 'Age': [16, 19, 17]})\n",
    "df1"
   ]
  },
  {
   "cell_type": "code",
   "execution_count": 3,
   "id": "1d81a746",
   "metadata": {
    "cell_id": "00005-5451c245-d99f-4bd3-aab4-6e168fe5060f",
    "deepnote_cell_type": "code",
    "tags": []
   },
   "outputs": [
    {
     "data": {
      "text/html": [
       "<div>\n",
       "<style scoped>\n",
       "    .dataframe tbody tr th:only-of-type {\n",
       "        vertical-align: middle;\n",
       "    }\n",
       "\n",
       "    .dataframe tbody tr th {\n",
       "        vertical-align: top;\n",
       "    }\n",
       "\n",
       "    .dataframe thead th {\n",
       "        text-align: right;\n",
       "    }\n",
       "</style>\n",
       "<table border=\"1\" class=\"dataframe\">\n",
       "  <thead>\n",
       "    <tr style=\"text-align: right;\">\n",
       "      <th></th>\n",
       "      <th>Name</th>\n",
       "      <th>Age</th>\n",
       "    </tr>\n",
       "  </thead>\n",
       "  <tbody>\n",
       "    <tr>\n",
       "      <th>3</th>\n",
       "      <td>Jess</td>\n",
       "      <td>21</td>\n",
       "    </tr>\n",
       "    <tr>\n",
       "      <th>4</th>\n",
       "      <td>Jon</td>\n",
       "      <td>16</td>\n",
       "    </tr>\n",
       "    <tr>\n",
       "      <th>5</th>\n",
       "      <td>Joe</td>\n",
       "      <td>23</td>\n",
       "    </tr>\n",
       "  </tbody>\n",
       "</table>\n",
       "</div>"
      ],
      "text/plain": [
       "   Name  Age\n",
       "3  Jess   21\n",
       "4   Jon   16\n",
       "5   Joe   23"
      ]
     },
     "execution_count": 3,
     "metadata": {},
     "output_type": "execute_result"
    }
   ],
   "source": [
    "df2 = pd.DataFrame({'Name': ['Jess', 'Jon', 'Joe'], 'Age': [21, 16, 23]}, index=[3, 4, 5])\n",
    "df2"
   ]
  },
  {
   "cell_type": "code",
   "execution_count": 4,
   "id": "d38af149",
   "metadata": {
    "cell_id": "00006-2f8fb88a-badc-48d7-a8df-74ea70c8d767",
    "deepnote_cell_type": "code"
   },
   "outputs": [
    {
     "data": {
      "text/html": [
       "<div>\n",
       "<style scoped>\n",
       "    .dataframe tbody tr th:only-of-type {\n",
       "        vertical-align: middle;\n",
       "    }\n",
       "\n",
       "    .dataframe tbody tr th {\n",
       "        vertical-align: top;\n",
       "    }\n",
       "\n",
       "    .dataframe thead th {\n",
       "        text-align: right;\n",
       "    }\n",
       "</style>\n",
       "<table border=\"1\" class=\"dataframe\">\n",
       "  <thead>\n",
       "    <tr style=\"text-align: right;\">\n",
       "      <th></th>\n",
       "      <th>Name</th>\n",
       "      <th>Age</th>\n",
       "    </tr>\n",
       "  </thead>\n",
       "  <tbody>\n",
       "    <tr>\n",
       "      <th>0</th>\n",
       "      <td>Jill</td>\n",
       "      <td>5</td>\n",
       "    </tr>\n",
       "    <tr>\n",
       "      <th>1</th>\n",
       "      <td>Josephine</td>\n",
       "      <td>10</td>\n",
       "    </tr>\n",
       "    <tr>\n",
       "      <th>2</th>\n",
       "      <td>Jack</td>\n",
       "      <td>61</td>\n",
       "    </tr>\n",
       "  </tbody>\n",
       "</table>\n",
       "</div>"
      ],
      "text/plain": [
       "        Name  Age\n",
       "0       Jill    5\n",
       "1  Josephine   10\n",
       "2       Jack   61"
      ]
     },
     "execution_count": 4,
     "metadata": {},
     "output_type": "execute_result"
    }
   ],
   "source": [
    "df3 = pd.DataFrame({'Name': ['Jill', 'Josephine', 'Jack'], 'Age': [5, 10, 61]})\n",
    "df3"
   ]
  },
  {
   "cell_type": "markdown",
   "id": "baf50b76",
   "metadata": {
    "cell_id": "00007-0a9f0d08-af5c-4d21-b794-6c0bbfdcde99",
    "deepnote_cell_type": "markdown"
   },
   "source": [
    "Concatenate df1 and df2 together!"
   ]
  },
  {
   "cell_type": "code",
   "execution_count": 5,
   "id": "b80535a7",
   "metadata": {
    "cell_id": "00008-6422f269-c90a-4983-9320-055261859499",
    "deepnote_cell_type": "code"
   },
   "outputs": [
    {
     "data": {
      "text/html": [
       "<div>\n",
       "<style scoped>\n",
       "    .dataframe tbody tr th:only-of-type {\n",
       "        vertical-align: middle;\n",
       "    }\n",
       "\n",
       "    .dataframe tbody tr th {\n",
       "        vertical-align: top;\n",
       "    }\n",
       "\n",
       "    .dataframe thead th {\n",
       "        text-align: right;\n",
       "    }\n",
       "</style>\n",
       "<table border=\"1\" class=\"dataframe\">\n",
       "  <thead>\n",
       "    <tr style=\"text-align: right;\">\n",
       "      <th></th>\n",
       "      <th>Name</th>\n",
       "      <th>Age</th>\n",
       "    </tr>\n",
       "  </thead>\n",
       "  <tbody>\n",
       "    <tr>\n",
       "      <th>0</th>\n",
       "      <td>Jackson</td>\n",
       "      <td>16</td>\n",
       "    </tr>\n",
       "    <tr>\n",
       "      <th>1</th>\n",
       "      <td>Josh</td>\n",
       "      <td>19</td>\n",
       "    </tr>\n",
       "    <tr>\n",
       "      <th>2</th>\n",
       "      <td>Jenny</td>\n",
       "      <td>17</td>\n",
       "    </tr>\n",
       "    <tr>\n",
       "      <th>3</th>\n",
       "      <td>Jess</td>\n",
       "      <td>21</td>\n",
       "    </tr>\n",
       "    <tr>\n",
       "      <th>4</th>\n",
       "      <td>Jon</td>\n",
       "      <td>16</td>\n",
       "    </tr>\n",
       "    <tr>\n",
       "      <th>5</th>\n",
       "      <td>Joe</td>\n",
       "      <td>23</td>\n",
       "    </tr>\n",
       "  </tbody>\n",
       "</table>\n",
       "</div>"
      ],
      "text/plain": [
       "      Name  Age\n",
       "0  Jackson   16\n",
       "1     Josh   19\n",
       "2    Jenny   17\n",
       "3     Jess   21\n",
       "4      Jon   16\n",
       "5      Joe   23"
      ]
     },
     "execution_count": 5,
     "metadata": {},
     "output_type": "execute_result"
    }
   ],
   "source": [
    "pd.concat([df1, df2])"
   ]
  },
  {
   "cell_type": "markdown",
   "id": "3232a0b3",
   "metadata": {
    "cell_id": "00009-91952e38-be0f-4add-a35f-e28ed232bb0b",
    "deepnote_cell_type": "markdown"
   },
   "source": [
    "Concatenate df2 and df3 together!"
   ]
  },
  {
   "cell_type": "code",
   "execution_count": 6,
   "id": "b4fce638",
   "metadata": {
    "cell_id": "00010-7fec83f6-99f3-43bf-8cc5-6fb1322d6c23",
    "deepnote_cell_type": "code"
   },
   "outputs": [
    {
     "data": {
      "text/html": [
       "<div>\n",
       "<style scoped>\n",
       "    .dataframe tbody tr th:only-of-type {\n",
       "        vertical-align: middle;\n",
       "    }\n",
       "\n",
       "    .dataframe tbody tr th {\n",
       "        vertical-align: top;\n",
       "    }\n",
       "\n",
       "    .dataframe thead th {\n",
       "        text-align: right;\n",
       "    }\n",
       "</style>\n",
       "<table border=\"1\" class=\"dataframe\">\n",
       "  <thead>\n",
       "    <tr style=\"text-align: right;\">\n",
       "      <th></th>\n",
       "      <th>Name</th>\n",
       "      <th>Age</th>\n",
       "    </tr>\n",
       "  </thead>\n",
       "  <tbody>\n",
       "    <tr>\n",
       "      <th>3</th>\n",
       "      <td>Jess</td>\n",
       "      <td>21</td>\n",
       "    </tr>\n",
       "    <tr>\n",
       "      <th>4</th>\n",
       "      <td>Jon</td>\n",
       "      <td>16</td>\n",
       "    </tr>\n",
       "    <tr>\n",
       "      <th>5</th>\n",
       "      <td>Joe</td>\n",
       "      <td>23</td>\n",
       "    </tr>\n",
       "    <tr>\n",
       "      <th>0</th>\n",
       "      <td>Jill</td>\n",
       "      <td>5</td>\n",
       "    </tr>\n",
       "    <tr>\n",
       "      <th>1</th>\n",
       "      <td>Josephine</td>\n",
       "      <td>10</td>\n",
       "    </tr>\n",
       "    <tr>\n",
       "      <th>2</th>\n",
       "      <td>Jack</td>\n",
       "      <td>61</td>\n",
       "    </tr>\n",
       "  </tbody>\n",
       "</table>\n",
       "</div>"
      ],
      "text/plain": [
       "        Name  Age\n",
       "3       Jess   21\n",
       "4        Jon   16\n",
       "5        Joe   23\n",
       "0       Jill    5\n",
       "1  Josephine   10\n",
       "2       Jack   61"
      ]
     },
     "execution_count": 6,
     "metadata": {},
     "output_type": "execute_result"
    }
   ],
   "source": [
    "pd.concat([df2, df3])"
   ]
  },
  {
   "cell_type": "markdown",
   "id": "97f9c8a7",
   "metadata": {
    "cell_id": "00011-5c00e752-5b0c-4ed8-a643-61d537351bd5",
    "deepnote_cell_type": "markdown"
   },
   "source": [
    "Concatenate all three dataframes in a single line"
   ]
  },
  {
   "cell_type": "code",
   "execution_count": 7,
   "id": "19a6dfe6",
   "metadata": {
    "cell_id": "00012-f75faf2a-d253-4219-893a-1cf89319964e",
    "deepnote_cell_type": "code"
   },
   "outputs": [
    {
     "data": {
      "text/html": [
       "<div>\n",
       "<style scoped>\n",
       "    .dataframe tbody tr th:only-of-type {\n",
       "        vertical-align: middle;\n",
       "    }\n",
       "\n",
       "    .dataframe tbody tr th {\n",
       "        vertical-align: top;\n",
       "    }\n",
       "\n",
       "    .dataframe thead th {\n",
       "        text-align: right;\n",
       "    }\n",
       "</style>\n",
       "<table border=\"1\" class=\"dataframe\">\n",
       "  <thead>\n",
       "    <tr style=\"text-align: right;\">\n",
       "      <th></th>\n",
       "      <th>Name</th>\n",
       "      <th>Age</th>\n",
       "    </tr>\n",
       "  </thead>\n",
       "  <tbody>\n",
       "    <tr>\n",
       "      <th>0</th>\n",
       "      <td>Jackson</td>\n",
       "      <td>16</td>\n",
       "    </tr>\n",
       "    <tr>\n",
       "      <th>1</th>\n",
       "      <td>Josh</td>\n",
       "      <td>19</td>\n",
       "    </tr>\n",
       "    <tr>\n",
       "      <th>2</th>\n",
       "      <td>Jenny</td>\n",
       "      <td>17</td>\n",
       "    </tr>\n",
       "    <tr>\n",
       "      <th>3</th>\n",
       "      <td>Jess</td>\n",
       "      <td>21</td>\n",
       "    </tr>\n",
       "    <tr>\n",
       "      <th>4</th>\n",
       "      <td>Jon</td>\n",
       "      <td>16</td>\n",
       "    </tr>\n",
       "    <tr>\n",
       "      <th>5</th>\n",
       "      <td>Joe</td>\n",
       "      <td>23</td>\n",
       "    </tr>\n",
       "    <tr>\n",
       "      <th>0</th>\n",
       "      <td>Jill</td>\n",
       "      <td>5</td>\n",
       "    </tr>\n",
       "    <tr>\n",
       "      <th>1</th>\n",
       "      <td>Josephine</td>\n",
       "      <td>10</td>\n",
       "    </tr>\n",
       "    <tr>\n",
       "      <th>2</th>\n",
       "      <td>Jack</td>\n",
       "      <td>61</td>\n",
       "    </tr>\n",
       "  </tbody>\n",
       "</table>\n",
       "</div>"
      ],
      "text/plain": [
       "        Name  Age\n",
       "0    Jackson   16\n",
       "1       Josh   19\n",
       "2      Jenny   17\n",
       "3       Jess   21\n",
       "4        Jon   16\n",
       "5        Joe   23\n",
       "0       Jill    5\n",
       "1  Josephine   10\n",
       "2       Jack   61"
      ]
     },
     "execution_count": 7,
     "metadata": {},
     "output_type": "execute_result"
    }
   ],
   "source": [
    "pd.concat([df1, df2, df3])"
   ]
  },
  {
   "cell_type": "markdown",
   "id": "1281496b",
   "metadata": {
    "cell_id": "00013-3bcc7203-5ed8-4d7b-9732-1980c4a99ec3",
    "deepnote_cell_type": "markdown"
   },
   "source": [
    "The index in these datasets is unlabelled, indicating that they potentially don't contain useful data.  Concatenate them all together so that the index of the final dataframe is simply 0-8."
   ]
  },
  {
   "cell_type": "code",
   "execution_count": 8,
   "id": "8f316583",
   "metadata": {
    "cell_id": "00014-96c3b4fa-5c38-4934-b19d-3bb7f483d154",
    "deepnote_cell_type": "code"
   },
   "outputs": [
    {
     "data": {
      "text/html": [
       "<div>\n",
       "<style scoped>\n",
       "    .dataframe tbody tr th:only-of-type {\n",
       "        vertical-align: middle;\n",
       "    }\n",
       "\n",
       "    .dataframe tbody tr th {\n",
       "        vertical-align: top;\n",
       "    }\n",
       "\n",
       "    .dataframe thead th {\n",
       "        text-align: right;\n",
       "    }\n",
       "</style>\n",
       "<table border=\"1\" class=\"dataframe\">\n",
       "  <thead>\n",
       "    <tr style=\"text-align: right;\">\n",
       "      <th></th>\n",
       "      <th>Name</th>\n",
       "      <th>Age</th>\n",
       "    </tr>\n",
       "  </thead>\n",
       "  <tbody>\n",
       "    <tr>\n",
       "      <th>0</th>\n",
       "      <td>Jackson</td>\n",
       "      <td>16</td>\n",
       "    </tr>\n",
       "    <tr>\n",
       "      <th>1</th>\n",
       "      <td>Josh</td>\n",
       "      <td>19</td>\n",
       "    </tr>\n",
       "    <tr>\n",
       "      <th>2</th>\n",
       "      <td>Jenny</td>\n",
       "      <td>17</td>\n",
       "    </tr>\n",
       "    <tr>\n",
       "      <th>3</th>\n",
       "      <td>Jess</td>\n",
       "      <td>21</td>\n",
       "    </tr>\n",
       "    <tr>\n",
       "      <th>4</th>\n",
       "      <td>Jon</td>\n",
       "      <td>16</td>\n",
       "    </tr>\n",
       "    <tr>\n",
       "      <th>5</th>\n",
       "      <td>Joe</td>\n",
       "      <td>23</td>\n",
       "    </tr>\n",
       "    <tr>\n",
       "      <th>6</th>\n",
       "      <td>Jill</td>\n",
       "      <td>5</td>\n",
       "    </tr>\n",
       "    <tr>\n",
       "      <th>7</th>\n",
       "      <td>Josephine</td>\n",
       "      <td>10</td>\n",
       "    </tr>\n",
       "    <tr>\n",
       "      <th>8</th>\n",
       "      <td>Jack</td>\n",
       "      <td>61</td>\n",
       "    </tr>\n",
       "  </tbody>\n",
       "</table>\n",
       "</div>"
      ],
      "text/plain": [
       "        Name  Age\n",
       "0    Jackson   16\n",
       "1       Josh   19\n",
       "2      Jenny   17\n",
       "3       Jess   21\n",
       "4        Jon   16\n",
       "5        Joe   23\n",
       "6       Jill    5\n",
       "7  Josephine   10\n",
       "8       Jack   61"
      ]
     },
     "execution_count": 8,
     "metadata": {},
     "output_type": "execute_result"
    }
   ],
   "source": [
    "pd.concat([df1, df2, df3], ignore_index=True)"
   ]
  },
  {
   "cell_type": "markdown",
   "id": "60eabf2c",
   "metadata": {
    "cell_id": "00015-216c6be6-41bf-4737-a2a4-84c857b81b36",
    "deepnote_cell_type": "markdown"
   },
   "source": [
    "## Merge / Joins\n",
    "The `pd.merge()` function and `DataFrame.join()` method take two DataFrames and make them **wider** by matching rows with the same values on a specified column.  \n",
    "\n",
    "For example, it can turn this `df1` DataFrame:\n",
    "\n",
    "| Day | Weather |\n",
    "| :-: | :---:   |\n",
    "| Monday | Sunny   |\n",
    "| Tuesday | Rainy |\n",
    "\n",
    "and this `df2` DataFrame:\n",
    "\n",
    "| Day | Temperature |\n",
    "| :-: | :---:   |\n",
    "| Tuesday | 12   |\n",
    "| Monday | 18 |\n",
    "\n",
    "into this:\n",
    "\n",
    "| Day | Weather | Temperature |\n",
    "| :-: | :---:   | :---: |\n",
    "| Monday | Sunny   | 18 |\n",
    "| Tuesday | Rainy | 12 |\n",
    "\n",
    "with one line of code:\n",
    "\n",
    "```python\n",
    "df_merged = pd.merge(left=df1, right=df2, left_on=\"Day\", right_on=\"Day\")\n",
    "```\n",
    "\n",
    "Just specify which columns should be matched up with each other, and it will search for the matching values automatically!  If you want it to use the index, you can alternatively supply the option `left_index=True` and/or `right_index=True`. "
   ]
  },
  {
   "cell_type": "markdown",
   "id": "9cfa26d6",
   "metadata": {
    "cell_id": "00016-4322c72a-1000-4fec-91b1-f51b8417100d",
    "deepnote_cell_type": "markdown"
   },
   "source": [
    "### Exercises\n",
    "\n",
    "Let's practice merging dataframes with the `pd.merge()` function."
   ]
  },
  {
   "cell_type": "markdown",
   "id": "a7f28fb8",
   "metadata": {
    "cell_id": "00017-5068a8cc-bef7-4d1e-8d9c-f5ac63896f1d",
    "deepnote_cell_type": "markdown"
   },
   "source": [
    "Dataframe 1:"
   ]
  },
  {
   "cell_type": "code",
   "execution_count": 11,
   "id": "b53a736a",
   "metadata": {
    "cell_id": "00018-ac3a05b2-02dd-4d24-ba95-7a6419796777",
    "deepnote_cell_type": "code"
   },
   "outputs": [
    {
     "data": {
      "text/html": [
       "<div>\n",
       "<style scoped>\n",
       "    .dataframe tbody tr th:only-of-type {\n",
       "        vertical-align: middle;\n",
       "    }\n",
       "\n",
       "    .dataframe tbody tr th {\n",
       "        vertical-align: top;\n",
       "    }\n",
       "\n",
       "    .dataframe thead th {\n",
       "        text-align: right;\n",
       "    }\n",
       "</style>\n",
       "<table border=\"1\" class=\"dataframe\">\n",
       "  <thead>\n",
       "    <tr style=\"text-align: right;\">\n",
       "      <th></th>\n",
       "      <th>Name</th>\n",
       "      <th>Age</th>\n",
       "    </tr>\n",
       "  </thead>\n",
       "  <tbody>\n",
       "    <tr>\n",
       "      <th>0</th>\n",
       "      <td>Paul</td>\n",
       "      <td>16</td>\n",
       "    </tr>\n",
       "    <tr>\n",
       "      <th>1</th>\n",
       "      <td>Arash</td>\n",
       "      <td>19</td>\n",
       "    </tr>\n",
       "    <tr>\n",
       "      <th>2</th>\n",
       "      <td>Jenny</td>\n",
       "      <td>17</td>\n",
       "    </tr>\n",
       "  </tbody>\n",
       "</table>\n",
       "</div>"
      ],
      "text/plain": [
       "    Name  Age\n",
       "0   Paul   16\n",
       "1  Arash   19\n",
       "2  Jenny   17"
      ]
     },
     "execution_count": 11,
     "metadata": {},
     "output_type": "execute_result"
    }
   ],
   "source": [
    "df1 = pd.DataFrame({'Name': ['Paul', 'Arash', 'Jenny'], 'Age': [16, 19, 17]})\n",
    "df1"
   ]
  },
  {
   "cell_type": "markdown",
   "id": "94c0b046",
   "metadata": {
    "cell_id": "00019-e51cfe73-a5ac-4050-b8ad-66e1a0950e5e",
    "deepnote_cell_type": "markdown"
   },
   "source": [
    "Dataframe 2:"
   ]
  },
  {
   "cell_type": "code",
   "execution_count": 12,
   "id": "60be25e8",
   "metadata": {
    "cell_id": "00020-f8cb1f9b-1430-401f-b5c2-1042e3bf3268",
    "deepnote_cell_type": "code"
   },
   "outputs": [
    {
     "data": {
      "text/html": [
       "<div>\n",
       "<style scoped>\n",
       "    .dataframe tbody tr th:only-of-type {\n",
       "        vertical-align: middle;\n",
       "    }\n",
       "\n",
       "    .dataframe tbody tr th {\n",
       "        vertical-align: top;\n",
       "    }\n",
       "\n",
       "    .dataframe thead th {\n",
       "        text-align: right;\n",
       "    }\n",
       "</style>\n",
       "<table border=\"1\" class=\"dataframe\">\n",
       "  <thead>\n",
       "    <tr style=\"text-align: right;\">\n",
       "      <th></th>\n",
       "      <th>Name</th>\n",
       "      <th>Weight</th>\n",
       "    </tr>\n",
       "  </thead>\n",
       "  <tbody>\n",
       "    <tr>\n",
       "      <th>0</th>\n",
       "      <td>Arash</td>\n",
       "      <td>32</td>\n",
       "    </tr>\n",
       "    <tr>\n",
       "      <th>1</th>\n",
       "      <td>Paul</td>\n",
       "      <td>15</td>\n",
       "    </tr>\n",
       "    <tr>\n",
       "      <th>2</th>\n",
       "      <td>Sara</td>\n",
       "      <td>37</td>\n",
       "    </tr>\n",
       "  </tbody>\n",
       "</table>\n",
       "</div>"
      ],
      "text/plain": [
       "    Name  Weight\n",
       "0  Arash      32\n",
       "1   Paul      15\n",
       "2   Sara      37"
      ]
     },
     "execution_count": 12,
     "metadata": {},
     "output_type": "execute_result"
    }
   ],
   "source": [
    "df2 = pd.DataFrame({'Name': ['Arash', 'Paul', 'Sara'], 'Weight': [32, 15, 37]})\n",
    "df2"
   ]
  },
  {
   "cell_type": "markdown",
   "id": "8c1c9ee7",
   "metadata": {
    "cell_id": "00021-5cfa4036-4de9-480b-a2e5-331e37236ec4",
    "deepnote_cell_type": "markdown"
   },
   "source": [
    "Dataframe 3:"
   ]
  },
  {
   "cell_type": "code",
   "execution_count": 13,
   "id": "6da7bf9e",
   "metadata": {
    "cell_id": "00022-9648cef1-a02d-4afa-9f0f-851e2db748c0",
    "deepnote_cell_type": "code"
   },
   "outputs": [
    {
     "data": {
      "text/html": [
       "<div>\n",
       "<style scoped>\n",
       "    .dataframe tbody tr th:only-of-type {\n",
       "        vertical-align: middle;\n",
       "    }\n",
       "\n",
       "    .dataframe tbody tr th {\n",
       "        vertical-align: top;\n",
       "    }\n",
       "\n",
       "    .dataframe thead th {\n",
       "        text-align: right;\n",
       "    }\n",
       "</style>\n",
       "<table border=\"1\" class=\"dataframe\">\n",
       "  <thead>\n",
       "    <tr style=\"text-align: right;\">\n",
       "      <th></th>\n",
       "      <th>Name</th>\n",
       "      <th>Height</th>\n",
       "    </tr>\n",
       "  </thead>\n",
       "  <tbody>\n",
       "    <tr>\n",
       "      <th>0</th>\n",
       "      <td>Amy</td>\n",
       "      <td>170</td>\n",
       "    </tr>\n",
       "    <tr>\n",
       "      <th>1</th>\n",
       "      <td>Paul</td>\n",
       "      <td>190</td>\n",
       "    </tr>\n",
       "    <tr>\n",
       "      <th>2</th>\n",
       "      <td>Sara</td>\n",
       "      <td>143</td>\n",
       "    </tr>\n",
       "  </tbody>\n",
       "</table>\n",
       "</div>"
      ],
      "text/plain": [
       "   Name  Height\n",
       "0   Amy     170\n",
       "1  Paul     190\n",
       "2  Sara     143"
      ]
     },
     "execution_count": 13,
     "metadata": {},
     "output_type": "execute_result"
    }
   ],
   "source": [
    "df3 = pd.DataFrame({'Name': ['Amy', 'Paul', 'Sara'], 'Height': [170, 190, 143]})\n",
    "df3"
   ]
  },
  {
   "cell_type": "markdown",
   "id": "0cc2a124",
   "metadata": {
    "cell_id": "00023-b5e0ee3c-fe64-4e3f-b037-fbe2b693625a",
    "deepnote_cell_type": "markdown"
   },
   "source": [
    "Merge the first two dataframes together.  Who do we know both the age and weight of?"
   ]
  },
  {
   "cell_type": "code",
   "execution_count": 15,
   "id": "e28f3399",
   "metadata": {
    "cell_id": "00024-4cc1dd6f-21ab-44d5-afd6-c6c49bd58961",
    "deepnote_cell_type": "code",
    "tags": [
     "exercise"
    ]
   },
   "outputs": [
    {
     "data": {
      "text/html": [
       "<div>\n",
       "<style scoped>\n",
       "    .dataframe tbody tr th:only-of-type {\n",
       "        vertical-align: middle;\n",
       "    }\n",
       "\n",
       "    .dataframe tbody tr th {\n",
       "        vertical-align: top;\n",
       "    }\n",
       "\n",
       "    .dataframe thead th {\n",
       "        text-align: right;\n",
       "    }\n",
       "</style>\n",
       "<table border=\"1\" class=\"dataframe\">\n",
       "  <thead>\n",
       "    <tr style=\"text-align: right;\">\n",
       "      <th></th>\n",
       "      <th>Name</th>\n",
       "      <th>Age</th>\n",
       "      <th>Weight</th>\n",
       "    </tr>\n",
       "  </thead>\n",
       "  <tbody>\n",
       "    <tr>\n",
       "      <th>0</th>\n",
       "      <td>Paul</td>\n",
       "      <td>16</td>\n",
       "      <td>15</td>\n",
       "    </tr>\n",
       "    <tr>\n",
       "      <th>1</th>\n",
       "      <td>Arash</td>\n",
       "      <td>19</td>\n",
       "      <td>32</td>\n",
       "    </tr>\n",
       "  </tbody>\n",
       "</table>\n",
       "</div>"
      ],
      "text/plain": [
       "    Name  Age  Weight\n",
       "0   Paul   16      15\n",
       "1  Arash   19      32"
      ]
     },
     "execution_count": 15,
     "metadata": {},
     "output_type": "execute_result"
    }
   ],
   "source": [
    "pd.merge(left = df1, right = df2, left_on = 'Name', right_on='Name')"
   ]
  },
  {
   "cell_type": "markdown",
   "id": "f058959a",
   "metadata": {
    "cell_id": "00027-b2d7e9a8-b653-4375-8474-a8defc0ba070",
    "deepnote_cell_type": "markdown"
   },
   "source": [
    "Try merging all 3 by merging twice.  Who do we know everything about?"
   ]
  },
  {
   "cell_type": "code",
   "execution_count": 17,
   "id": "35f546a6",
   "metadata": {
    "cell_id": "00028-807c0ca5-d5d6-40e2-bb66-974cc204b7c0",
    "deepnote_cell_type": "code",
    "tags": [
     "exercise"
    ]
   },
   "outputs": [
    {
     "data": {
      "text/html": [
       "<div>\n",
       "<style scoped>\n",
       "    .dataframe tbody tr th:only-of-type {\n",
       "        vertical-align: middle;\n",
       "    }\n",
       "\n",
       "    .dataframe tbody tr th {\n",
       "        vertical-align: top;\n",
       "    }\n",
       "\n",
       "    .dataframe thead th {\n",
       "        text-align: right;\n",
       "    }\n",
       "</style>\n",
       "<table border=\"1\" class=\"dataframe\">\n",
       "  <thead>\n",
       "    <tr style=\"text-align: right;\">\n",
       "      <th></th>\n",
       "      <th>Name</th>\n",
       "      <th>Age</th>\n",
       "      <th>Weight</th>\n",
       "      <th>Height</th>\n",
       "    </tr>\n",
       "  </thead>\n",
       "  <tbody>\n",
       "    <tr>\n",
       "      <th>0</th>\n",
       "      <td>Paul</td>\n",
       "      <td>16</td>\n",
       "      <td>15</td>\n",
       "      <td>190</td>\n",
       "    </tr>\n",
       "  </tbody>\n",
       "</table>\n",
       "</div>"
      ],
      "text/plain": [
       "   Name  Age  Weight  Height\n",
       "0  Paul   16      15     190"
      ]
     },
     "execution_count": 17,
     "metadata": {},
     "output_type": "execute_result"
    }
   ],
   "source": [
    "df_merge1 = pd.merge(left = df1, right = df2, left_on = 'Name', right_on='Name')\n",
    "df = pd.merge(left=df_merge1, right = df3, left_on = 'Name', right_on = 'Name')\n",
    "df"
   ]
  },
  {
   "cell_type": "markdown",
   "id": "a121e835",
   "metadata": {
    "cell_id": "00029-7bb5c765-a430-4afc-b13a-df887c11106c",
    "deepnote_cell_type": "markdown"
   },
   "source": [
    "Note that the Names that weren't present in both dataframes dropped out of the final result.  If you'd like to keep them and have NaNs appear, you can change the `how` parameter in the `pd.merge()` function.  Let's try out a few options by merging dataframes 1 and 2:"
   ]
  },
  {
   "cell_type": "markdown",
   "id": "8e6ca04d",
   "metadata": {
    "cell_id": "00030-b1fd2539-da0c-4b6c-b792-938d761cee92",
    "deepnote_cell_type": "markdown"
   },
   "source": [
    "`how=\"outer\"`"
   ]
  },
  {
   "cell_type": "code",
   "execution_count": 18,
   "id": "d5cdcec0",
   "metadata": {
    "cell_id": "00031-3e86b70f-b62f-45b8-8072-3169a0b04552",
    "deepnote_cell_type": "code",
    "tags": [
     "exercise"
    ]
   },
   "outputs": [
    {
     "data": {
      "text/html": [
       "<div>\n",
       "<style scoped>\n",
       "    .dataframe tbody tr th:only-of-type {\n",
       "        vertical-align: middle;\n",
       "    }\n",
       "\n",
       "    .dataframe tbody tr th {\n",
       "        vertical-align: top;\n",
       "    }\n",
       "\n",
       "    .dataframe thead th {\n",
       "        text-align: right;\n",
       "    }\n",
       "</style>\n",
       "<table border=\"1\" class=\"dataframe\">\n",
       "  <thead>\n",
       "    <tr style=\"text-align: right;\">\n",
       "      <th></th>\n",
       "      <th>Name</th>\n",
       "      <th>Age</th>\n",
       "      <th>Weight</th>\n",
       "    </tr>\n",
       "  </thead>\n",
       "  <tbody>\n",
       "    <tr>\n",
       "      <th>0</th>\n",
       "      <td>Arash</td>\n",
       "      <td>19.0</td>\n",
       "      <td>32.0</td>\n",
       "    </tr>\n",
       "    <tr>\n",
       "      <th>1</th>\n",
       "      <td>Jenny</td>\n",
       "      <td>17.0</td>\n",
       "      <td>NaN</td>\n",
       "    </tr>\n",
       "    <tr>\n",
       "      <th>2</th>\n",
       "      <td>Paul</td>\n",
       "      <td>16.0</td>\n",
       "      <td>15.0</td>\n",
       "    </tr>\n",
       "    <tr>\n",
       "      <th>3</th>\n",
       "      <td>Sara</td>\n",
       "      <td>NaN</td>\n",
       "      <td>37.0</td>\n",
       "    </tr>\n",
       "  </tbody>\n",
       "</table>\n",
       "</div>"
      ],
      "text/plain": [
       "    Name   Age  Weight\n",
       "0  Arash  19.0    32.0\n",
       "1  Jenny  17.0     NaN\n",
       "2   Paul  16.0    15.0\n",
       "3   Sara   NaN    37.0"
      ]
     },
     "execution_count": 18,
     "metadata": {},
     "output_type": "execute_result"
    }
   ],
   "source": [
    "pd.merge(left = df1, right = df2, left_on = 'Name', right_on = 'Name', how = \"outer\")"
   ]
  },
  {
   "cell_type": "markdown",
   "id": "9cc488b9",
   "metadata": {
    "cell_id": "00032-a6ea6fc5-9366-4b23-954c-c57ecc68877e",
    "deepnote_cell_type": "markdown"
   },
   "source": [
    "`how=\"left\"`"
   ]
  },
  {
   "cell_type": "code",
   "execution_count": 19,
   "id": "2ae7218c",
   "metadata": {
    "cell_id": "00033-7c02c4e2-fb79-4465-81f8-779653856697",
    "deepnote_cell_type": "code",
    "tags": [
     "exercise"
    ]
   },
   "outputs": [
    {
     "data": {
      "text/html": [
       "<div>\n",
       "<style scoped>\n",
       "    .dataframe tbody tr th:only-of-type {\n",
       "        vertical-align: middle;\n",
       "    }\n",
       "\n",
       "    .dataframe tbody tr th {\n",
       "        vertical-align: top;\n",
       "    }\n",
       "\n",
       "    .dataframe thead th {\n",
       "        text-align: right;\n",
       "    }\n",
       "</style>\n",
       "<table border=\"1\" class=\"dataframe\">\n",
       "  <thead>\n",
       "    <tr style=\"text-align: right;\">\n",
       "      <th></th>\n",
       "      <th>Name</th>\n",
       "      <th>Age</th>\n",
       "      <th>Weight</th>\n",
       "    </tr>\n",
       "  </thead>\n",
       "  <tbody>\n",
       "    <tr>\n",
       "      <th>0</th>\n",
       "      <td>Paul</td>\n",
       "      <td>16</td>\n",
       "      <td>15.0</td>\n",
       "    </tr>\n",
       "    <tr>\n",
       "      <th>1</th>\n",
       "      <td>Arash</td>\n",
       "      <td>19</td>\n",
       "      <td>32.0</td>\n",
       "    </tr>\n",
       "    <tr>\n",
       "      <th>2</th>\n",
       "      <td>Jenny</td>\n",
       "      <td>17</td>\n",
       "      <td>NaN</td>\n",
       "    </tr>\n",
       "  </tbody>\n",
       "</table>\n",
       "</div>"
      ],
      "text/plain": [
       "    Name  Age  Weight\n",
       "0   Paul   16    15.0\n",
       "1  Arash   19    32.0\n",
       "2  Jenny   17     NaN"
      ]
     },
     "execution_count": 19,
     "metadata": {},
     "output_type": "execute_result"
    }
   ],
   "source": [
    "pd.merge(left = df1, right = df2, left_on = 'Name', right_on = 'Name', how = \"left\")"
   ]
  },
  {
   "cell_type": "markdown",
   "id": "ade7de53",
   "metadata": {
    "cell_id": "00034-10cc1ca8-20eb-47f7-abcc-bc283466262b",
    "deepnote_cell_type": "markdown"
   },
   "source": [
    "`how=\"right\"`"
   ]
  },
  {
   "cell_type": "code",
   "execution_count": 20,
   "id": "492b991f",
   "metadata": {
    "cell_id": "00035-49c12ead-db86-41a5-a984-d4aeef9b460b",
    "deepnote_cell_type": "code",
    "tags": [
     "exercise"
    ]
   },
   "outputs": [
    {
     "data": {
      "text/html": [
       "<div>\n",
       "<style scoped>\n",
       "    .dataframe tbody tr th:only-of-type {\n",
       "        vertical-align: middle;\n",
       "    }\n",
       "\n",
       "    .dataframe tbody tr th {\n",
       "        vertical-align: top;\n",
       "    }\n",
       "\n",
       "    .dataframe thead th {\n",
       "        text-align: right;\n",
       "    }\n",
       "</style>\n",
       "<table border=\"1\" class=\"dataframe\">\n",
       "  <thead>\n",
       "    <tr style=\"text-align: right;\">\n",
       "      <th></th>\n",
       "      <th>Name</th>\n",
       "      <th>Age</th>\n",
       "      <th>Weight</th>\n",
       "    </tr>\n",
       "  </thead>\n",
       "  <tbody>\n",
       "    <tr>\n",
       "      <th>0</th>\n",
       "      <td>Arash</td>\n",
       "      <td>19.0</td>\n",
       "      <td>32</td>\n",
       "    </tr>\n",
       "    <tr>\n",
       "      <th>1</th>\n",
       "      <td>Paul</td>\n",
       "      <td>16.0</td>\n",
       "      <td>15</td>\n",
       "    </tr>\n",
       "    <tr>\n",
       "      <th>2</th>\n",
       "      <td>Sara</td>\n",
       "      <td>NaN</td>\n",
       "      <td>37</td>\n",
       "    </tr>\n",
       "  </tbody>\n",
       "</table>\n",
       "</div>"
      ],
      "text/plain": [
       "    Name   Age  Weight\n",
       "0  Arash  19.0      32\n",
       "1   Paul  16.0      15\n",
       "2   Sara   NaN      37"
      ]
     },
     "execution_count": 20,
     "metadata": {},
     "output_type": "execute_result"
    }
   ],
   "source": [
    "pd.merge(left = df1, right = df2, left_on = 'Name', right_on = 'Name', how = \"right\")"
   ]
  },
  {
   "cell_type": "markdown",
   "id": "b310eff0",
   "metadata": {
    "cell_id": "00036-3a2c376c-72d0-4a3a-8161-50840812d32d",
    "deepnote_cell_type": "markdown"
   },
   "source": [
    "`how=\"inner\"`"
   ]
  },
  {
   "cell_type": "code",
   "execution_count": 21,
   "id": "01babf26",
   "metadata": {
    "cell_id": "00037-ee1e7b3c-08e6-4295-8aad-8ca71313d427",
    "deepnote_cell_type": "code",
    "tags": [
     "exercise"
    ]
   },
   "outputs": [
    {
     "data": {
      "text/html": [
       "<div>\n",
       "<style scoped>\n",
       "    .dataframe tbody tr th:only-of-type {\n",
       "        vertical-align: middle;\n",
       "    }\n",
       "\n",
       "    .dataframe tbody tr th {\n",
       "        vertical-align: top;\n",
       "    }\n",
       "\n",
       "    .dataframe thead th {\n",
       "        text-align: right;\n",
       "    }\n",
       "</style>\n",
       "<table border=\"1\" class=\"dataframe\">\n",
       "  <thead>\n",
       "    <tr style=\"text-align: right;\">\n",
       "      <th></th>\n",
       "      <th>Name</th>\n",
       "      <th>Age</th>\n",
       "      <th>Weight</th>\n",
       "    </tr>\n",
       "  </thead>\n",
       "  <tbody>\n",
       "    <tr>\n",
       "      <th>0</th>\n",
       "      <td>Paul</td>\n",
       "      <td>16</td>\n",
       "      <td>15</td>\n",
       "    </tr>\n",
       "    <tr>\n",
       "      <th>1</th>\n",
       "      <td>Arash</td>\n",
       "      <td>19</td>\n",
       "      <td>32</td>\n",
       "    </tr>\n",
       "  </tbody>\n",
       "</table>\n",
       "</div>"
      ],
      "text/plain": [
       "    Name  Age  Weight\n",
       "0   Paul   16      15\n",
       "1  Arash   19      32"
      ]
     },
     "execution_count": 21,
     "metadata": {},
     "output_type": "execute_result"
    }
   ],
   "source": [
    "pd.merge(left = df1, right = df2, left_on = 'Name', right_on = 'Name', how = \"inner\")"
   ]
  },
  {
   "cell_type": "markdown",
   "id": "58b902b0",
   "metadata": {
    "cell_id": "00038-c9828ecb-0d64-4d14-9b49-bb5e29b840eb",
    "deepnote_cell_type": "markdown"
   },
   "source": [
    "Recognizing that multiple inner joins can result in high data attrition, what policies would you put in your future data analyses to both prevent data loss and keep data easy to analyze?"
   ]
  },
  {
   "cell_type": "markdown",
   "id": "3c61018c",
   "metadata": {
    "cell_id": "00055-434487ea-e4b0-469d-ade2-85a853d99bce",
    "deepnote_cell_type": "markdown"
   },
   "source": [
    "## Melts\n",
    "\n",
    "The `pd.melt()` function and `DataFrame.melt()` method take a single dataframe and make it **taller** by taking data stored in column names and putting it into the rows along with the rest of the data, adding extra metadata in the process.\n",
    "\n",
    "For example, it can turn this `df` DataFrame:\n",
    "\n",
    "| Month | Year | Monday | Tuesday | Wednesday |\n",
    "| :--:  | :--: | :--:   | :--:    | :--:      |\n",
    "| January | 2021 | 0 | -2 | -1 |\n",
    "| February | 2021 | 2 | 4 | -2 |\n",
    "\n",
    "into this:\n",
    "\n",
    "| Month | Year | Weekday | Temperature |\n",
    "| :--:  | :--: | :--:    |  :--:       |\n",
    "| January | 2021 | Monday | 0 |\n",
    "| January | 2021 | Tuesday | -2 |\n",
    "| January | 2021 | Wednesday | -1 |\n",
    "| February | 2021 | Monday | 2 |\n",
    "| February | 2021 | Tuesday | 4 | \n",
    "| February | 2021 | Wednesday | -2 |\n",
    "\n",
    "with one line of code:\n",
    "\n",
    "```python\n",
    "pd.melt(\n",
    "    df, \n",
    "    id_vars=['Month', 'Year'],  # The columns that should stay the same\n",
    "    value_vars=['Monday', 'Tuesday', 'Wednesday'],   # The columns that should melt\n",
    "    var_name='Weekday',  # The new Column that will represent the melted column name's variable\n",
    "    value_name='Temperature'  # The new Column that the data represents\n",
    ")\n",
    "```\n",
    "\n",
    "**Note**: Melting a dataframe also called *\"tidying\"* data, making a *\"long\"* dataframe from a *\"wide\"* dataframe, or building a *design matrix*"
   ]
  },
  {
   "cell_type": "markdown",
   "id": "340ea3e9",
   "metadata": {
    "cell_id": "00056-a9d6d0a9-ce56-40e2-b3f3-e0d5272d7d2b",
    "deepnote_cell_type": "markdown"
   },
   "source": [
    "#### Exercises\n",
    "\n",
    "Let's practice tidying dataframes with the `pd.melt()` function. "
   ]
  },
  {
   "cell_type": "code",
   "execution_count": 23,
   "id": "4cb835ae-c111-44fa-b704-4e3452b22fa1",
   "metadata": {},
   "outputs": [
    {
     "data": {
      "text/html": [
       "<div>\n",
       "<style scoped>\n",
       "    .dataframe tbody tr th:only-of-type {\n",
       "        vertical-align: middle;\n",
       "    }\n",
       "\n",
       "    .dataframe tbody tr th {\n",
       "        vertical-align: top;\n",
       "    }\n",
       "\n",
       "    .dataframe thead th {\n",
       "        text-align: right;\n",
       "    }\n",
       "</style>\n",
       "<table border=\"1\" class=\"dataframe\">\n",
       "  <thead>\n",
       "    <tr style=\"text-align: right;\">\n",
       "      <th></th>\n",
       "      <th>Country Name</th>\n",
       "      <th>Country Code</th>\n",
       "      <th>1960</th>\n",
       "      <th>1970</th>\n",
       "      <th>1980</th>\n",
       "      <th>1990</th>\n",
       "      <th>2000</th>\n",
       "    </tr>\n",
       "  </thead>\n",
       "  <tbody>\n",
       "    <tr>\n",
       "      <th>0</th>\n",
       "      <td>Burundi</td>\n",
       "      <td>BDI</td>\n",
       "      <td>6.953</td>\n",
       "      <td>7.311</td>\n",
       "      <td>7.450</td>\n",
       "      <td>7.542</td>\n",
       "      <td>7.057</td>\n",
       "    </tr>\n",
       "    <tr>\n",
       "      <th>1</th>\n",
       "      <td>San Marino</td>\n",
       "      <td>SMR</td>\n",
       "      <td>NaN</td>\n",
       "      <td>NaN</td>\n",
       "      <td>NaN</td>\n",
       "      <td>NaN</td>\n",
       "      <td>NaN</td>\n",
       "    </tr>\n",
       "    <tr>\n",
       "      <th>2</th>\n",
       "      <td>Yemen, Rep.</td>\n",
       "      <td>YEM</td>\n",
       "      <td>7.292</td>\n",
       "      <td>7.542</td>\n",
       "      <td>8.993</td>\n",
       "      <td>8.667</td>\n",
       "      <td>6.363</td>\n",
       "    </tr>\n",
       "    <tr>\n",
       "      <th>3</th>\n",
       "      <td>Jamaica</td>\n",
       "      <td>JAM</td>\n",
       "      <td>5.419</td>\n",
       "      <td>5.477</td>\n",
       "      <td>3.733</td>\n",
       "      <td>2.948</td>\n",
       "      <td>2.603</td>\n",
       "    </tr>\n",
       "    <tr>\n",
       "      <th>4</th>\n",
       "      <td>Dominica</td>\n",
       "      <td>DMA</td>\n",
       "      <td>NaN</td>\n",
       "      <td>NaN</td>\n",
       "      <td>NaN</td>\n",
       "      <td>NaN</td>\n",
       "      <td>NaN</td>\n",
       "    </tr>\n",
       "  </tbody>\n",
       "</table>\n",
       "</div>"
      ],
      "text/plain": [
       "  Country Name Country Code   1960   1970   1980   1990   2000\n",
       "0      Burundi          BDI  6.953  7.311  7.450  7.542  7.057\n",
       "1   San Marino          SMR    NaN    NaN    NaN    NaN    NaN\n",
       "2  Yemen, Rep.          YEM  7.292  7.542  8.993  8.667  6.363\n",
       "3      Jamaica          JAM  5.419  5.477  3.733  2.948  2.603\n",
       "4     Dominica          DMA    NaN    NaN    NaN    NaN    NaN"
      ]
     },
     "execution_count": 23,
     "metadata": {},
     "output_type": "execute_result"
    }
   ],
   "source": [
    "df = (\n",
    "    pd.read_csv('https://raw.githubusercontent.com/nickdelgrosso/CodeTeachingMaterials/main/datasets/worldbankdata.csv')\n",
    "    .get(['Country Name', 'Country Code', '1960', '1970', '1980', '1990', '2000'])\n",
    "    .sample(10)\n",
    "    .reset_index(drop=True)\n",
    ")\n",
    "df.head()"
   ]
  },
  {
   "cell_type": "markdown",
   "id": "04300de5-e340-4422-ae64-4b71df1ea9fc",
   "metadata": {},
   "source": [
    "Melt this dataset so it has four columns: \"Country Name\", \"Country Code\", \"Year\", and \"Fertility Rate\""
   ]
  },
  {
   "cell_type": "code",
   "execution_count": 25,
   "id": "e0cf379a",
   "metadata": {},
   "outputs": [
    {
     "data": {
      "text/html": [
       "<div>\n",
       "<style scoped>\n",
       "    .dataframe tbody tr th:only-of-type {\n",
       "        vertical-align: middle;\n",
       "    }\n",
       "\n",
       "    .dataframe tbody tr th {\n",
       "        vertical-align: top;\n",
       "    }\n",
       "\n",
       "    .dataframe thead th {\n",
       "        text-align: right;\n",
       "    }\n",
       "</style>\n",
       "<table border=\"1\" class=\"dataframe\">\n",
       "  <thead>\n",
       "    <tr style=\"text-align: right;\">\n",
       "      <th></th>\n",
       "      <th>Country Name</th>\n",
       "      <th>Country Code</th>\n",
       "      <th>Decade</th>\n",
       "      <th>Birth Rate</th>\n",
       "    </tr>\n",
       "  </thead>\n",
       "  <tbody>\n",
       "    <tr>\n",
       "      <th>0</th>\n",
       "      <td>Burundi</td>\n",
       "      <td>BDI</td>\n",
       "      <td>1960</td>\n",
       "      <td>6.953</td>\n",
       "    </tr>\n",
       "    <tr>\n",
       "      <th>1</th>\n",
       "      <td>San Marino</td>\n",
       "      <td>SMR</td>\n",
       "      <td>1960</td>\n",
       "      <td>NaN</td>\n",
       "    </tr>\n",
       "    <tr>\n",
       "      <th>2</th>\n",
       "      <td>Yemen, Rep.</td>\n",
       "      <td>YEM</td>\n",
       "      <td>1960</td>\n",
       "      <td>7.292</td>\n",
       "    </tr>\n",
       "    <tr>\n",
       "      <th>3</th>\n",
       "      <td>Jamaica</td>\n",
       "      <td>JAM</td>\n",
       "      <td>1960</td>\n",
       "      <td>5.419</td>\n",
       "    </tr>\n",
       "    <tr>\n",
       "      <th>4</th>\n",
       "      <td>Dominica</td>\n",
       "      <td>DMA</td>\n",
       "      <td>1960</td>\n",
       "      <td>NaN</td>\n",
       "    </tr>\n",
       "    <tr>\n",
       "      <th>5</th>\n",
       "      <td>Venezuela, RB</td>\n",
       "      <td>VEN</td>\n",
       "      <td>1960</td>\n",
       "      <td>6.616</td>\n",
       "    </tr>\n",
       "    <tr>\n",
       "      <th>6</th>\n",
       "      <td>Cyprus</td>\n",
       "      <td>CYP</td>\n",
       "      <td>1960</td>\n",
       "      <td>3.500</td>\n",
       "    </tr>\n",
       "    <tr>\n",
       "      <th>7</th>\n",
       "      <td>Turkey</td>\n",
       "      <td>TUR</td>\n",
       "      <td>1960</td>\n",
       "      <td>6.303</td>\n",
       "    </tr>\n",
       "    <tr>\n",
       "      <th>8</th>\n",
       "      <td>Guinea-Bissau</td>\n",
       "      <td>GNB</td>\n",
       "      <td>1960</td>\n",
       "      <td>5.828</td>\n",
       "    </tr>\n",
       "    <tr>\n",
       "      <th>9</th>\n",
       "      <td>Colombia</td>\n",
       "      <td>COL</td>\n",
       "      <td>1960</td>\n",
       "      <td>6.807</td>\n",
       "    </tr>\n",
       "    <tr>\n",
       "      <th>10</th>\n",
       "      <td>Burundi</td>\n",
       "      <td>BDI</td>\n",
       "      <td>1970</td>\n",
       "      <td>7.311</td>\n",
       "    </tr>\n",
       "    <tr>\n",
       "      <th>11</th>\n",
       "      <td>San Marino</td>\n",
       "      <td>SMR</td>\n",
       "      <td>1970</td>\n",
       "      <td>NaN</td>\n",
       "    </tr>\n",
       "    <tr>\n",
       "      <th>12</th>\n",
       "      <td>Yemen, Rep.</td>\n",
       "      <td>YEM</td>\n",
       "      <td>1970</td>\n",
       "      <td>7.542</td>\n",
       "    </tr>\n",
       "    <tr>\n",
       "      <th>13</th>\n",
       "      <td>Jamaica</td>\n",
       "      <td>JAM</td>\n",
       "      <td>1970</td>\n",
       "      <td>5.477</td>\n",
       "    </tr>\n",
       "    <tr>\n",
       "      <th>14</th>\n",
       "      <td>Dominica</td>\n",
       "      <td>DMA</td>\n",
       "      <td>1970</td>\n",
       "      <td>NaN</td>\n",
       "    </tr>\n",
       "    <tr>\n",
       "      <th>15</th>\n",
       "      <td>Venezuela, RB</td>\n",
       "      <td>VEN</td>\n",
       "      <td>1970</td>\n",
       "      <td>5.404</td>\n",
       "    </tr>\n",
       "    <tr>\n",
       "      <th>16</th>\n",
       "      <td>Cyprus</td>\n",
       "      <td>CYP</td>\n",
       "      <td>1970</td>\n",
       "      <td>2.610</td>\n",
       "    </tr>\n",
       "    <tr>\n",
       "      <th>17</th>\n",
       "      <td>Turkey</td>\n",
       "      <td>TUR</td>\n",
       "      <td>1970</td>\n",
       "      <td>5.563</td>\n",
       "    </tr>\n",
       "    <tr>\n",
       "      <th>18</th>\n",
       "      <td>Guinea-Bissau</td>\n",
       "      <td>GNB</td>\n",
       "      <td>1970</td>\n",
       "      <td>6.071</td>\n",
       "    </tr>\n",
       "    <tr>\n",
       "      <th>19</th>\n",
       "      <td>Colombia</td>\n",
       "      <td>COL</td>\n",
       "      <td>1970</td>\n",
       "      <td>5.599</td>\n",
       "    </tr>\n",
       "    <tr>\n",
       "      <th>20</th>\n",
       "      <td>Burundi</td>\n",
       "      <td>BDI</td>\n",
       "      <td>1980</td>\n",
       "      <td>7.450</td>\n",
       "    </tr>\n",
       "    <tr>\n",
       "      <th>21</th>\n",
       "      <td>San Marino</td>\n",
       "      <td>SMR</td>\n",
       "      <td>1980</td>\n",
       "      <td>NaN</td>\n",
       "    </tr>\n",
       "    <tr>\n",
       "      <th>22</th>\n",
       "      <td>Yemen, Rep.</td>\n",
       "      <td>YEM</td>\n",
       "      <td>1980</td>\n",
       "      <td>8.993</td>\n",
       "    </tr>\n",
       "    <tr>\n",
       "      <th>23</th>\n",
       "      <td>Jamaica</td>\n",
       "      <td>JAM</td>\n",
       "      <td>1980</td>\n",
       "      <td>3.733</td>\n",
       "    </tr>\n",
       "    <tr>\n",
       "      <th>24</th>\n",
       "      <td>Dominica</td>\n",
       "      <td>DMA</td>\n",
       "      <td>1980</td>\n",
       "      <td>NaN</td>\n",
       "    </tr>\n",
       "    <tr>\n",
       "      <th>25</th>\n",
       "      <td>Venezuela, RB</td>\n",
       "      <td>VEN</td>\n",
       "      <td>1980</td>\n",
       "      <td>4.199</td>\n",
       "    </tr>\n",
       "    <tr>\n",
       "      <th>26</th>\n",
       "      <td>Cyprus</td>\n",
       "      <td>CYP</td>\n",
       "      <td>1980</td>\n",
       "      <td>2.354</td>\n",
       "    </tr>\n",
       "    <tr>\n",
       "      <th>27</th>\n",
       "      <td>Turkey</td>\n",
       "      <td>TUR</td>\n",
       "      <td>1980</td>\n",
       "      <td>4.361</td>\n",
       "    </tr>\n",
       "    <tr>\n",
       "      <th>28</th>\n",
       "      <td>Guinea-Bissau</td>\n",
       "      <td>GNB</td>\n",
       "      <td>1980</td>\n",
       "      <td>6.322</td>\n",
       "    </tr>\n",
       "    <tr>\n",
       "      <th>29</th>\n",
       "      <td>Colombia</td>\n",
       "      <td>COL</td>\n",
       "      <td>1980</td>\n",
       "      <td>3.993</td>\n",
       "    </tr>\n",
       "    <tr>\n",
       "      <th>30</th>\n",
       "      <td>Burundi</td>\n",
       "      <td>BDI</td>\n",
       "      <td>1990</td>\n",
       "      <td>7.542</td>\n",
       "    </tr>\n",
       "    <tr>\n",
       "      <th>31</th>\n",
       "      <td>San Marino</td>\n",
       "      <td>SMR</td>\n",
       "      <td>1990</td>\n",
       "      <td>NaN</td>\n",
       "    </tr>\n",
       "    <tr>\n",
       "      <th>32</th>\n",
       "      <td>Yemen, Rep.</td>\n",
       "      <td>YEM</td>\n",
       "      <td>1990</td>\n",
       "      <td>8.667</td>\n",
       "    </tr>\n",
       "    <tr>\n",
       "      <th>33</th>\n",
       "      <td>Jamaica</td>\n",
       "      <td>JAM</td>\n",
       "      <td>1990</td>\n",
       "      <td>2.948</td>\n",
       "    </tr>\n",
       "    <tr>\n",
       "      <th>34</th>\n",
       "      <td>Dominica</td>\n",
       "      <td>DMA</td>\n",
       "      <td>1990</td>\n",
       "      <td>NaN</td>\n",
       "    </tr>\n",
       "    <tr>\n",
       "      <th>35</th>\n",
       "      <td>Venezuela, RB</td>\n",
       "      <td>VEN</td>\n",
       "      <td>1990</td>\n",
       "      <td>3.448</td>\n",
       "    </tr>\n",
       "    <tr>\n",
       "      <th>36</th>\n",
       "      <td>Cyprus</td>\n",
       "      <td>CYP</td>\n",
       "      <td>1990</td>\n",
       "      <td>2.411</td>\n",
       "    </tr>\n",
       "    <tr>\n",
       "      <th>37</th>\n",
       "      <td>Turkey</td>\n",
       "      <td>TUR</td>\n",
       "      <td>1990</td>\n",
       "      <td>3.078</td>\n",
       "    </tr>\n",
       "    <tr>\n",
       "      <th>38</th>\n",
       "      <td>Guinea-Bissau</td>\n",
       "      <td>GNB</td>\n",
       "      <td>1990</td>\n",
       "      <td>6.649</td>\n",
       "    </tr>\n",
       "    <tr>\n",
       "      <th>39</th>\n",
       "      <td>Colombia</td>\n",
       "      <td>COL</td>\n",
       "      <td>1990</td>\n",
       "      <td>3.104</td>\n",
       "    </tr>\n",
       "    <tr>\n",
       "      <th>40</th>\n",
       "      <td>Burundi</td>\n",
       "      <td>BDI</td>\n",
       "      <td>2000</td>\n",
       "      <td>7.057</td>\n",
       "    </tr>\n",
       "    <tr>\n",
       "      <th>41</th>\n",
       "      <td>San Marino</td>\n",
       "      <td>SMR</td>\n",
       "      <td>2000</td>\n",
       "      <td>NaN</td>\n",
       "    </tr>\n",
       "    <tr>\n",
       "      <th>42</th>\n",
       "      <td>Yemen, Rep.</td>\n",
       "      <td>YEM</td>\n",
       "      <td>2000</td>\n",
       "      <td>6.363</td>\n",
       "    </tr>\n",
       "    <tr>\n",
       "      <th>43</th>\n",
       "      <td>Jamaica</td>\n",
       "      <td>JAM</td>\n",
       "      <td>2000</td>\n",
       "      <td>2.603</td>\n",
       "    </tr>\n",
       "    <tr>\n",
       "      <th>44</th>\n",
       "      <td>Dominica</td>\n",
       "      <td>DMA</td>\n",
       "      <td>2000</td>\n",
       "      <td>NaN</td>\n",
       "    </tr>\n",
       "    <tr>\n",
       "      <th>45</th>\n",
       "      <td>Venezuela, RB</td>\n",
       "      <td>VEN</td>\n",
       "      <td>2000</td>\n",
       "      <td>2.822</td>\n",
       "    </tr>\n",
       "    <tr>\n",
       "      <th>46</th>\n",
       "      <td>Cyprus</td>\n",
       "      <td>CYP</td>\n",
       "      <td>2000</td>\n",
       "      <td>1.714</td>\n",
       "    </tr>\n",
       "    <tr>\n",
       "      <th>47</th>\n",
       "      <td>Turkey</td>\n",
       "      <td>TUR</td>\n",
       "      <td>2000</td>\n",
       "      <td>2.454</td>\n",
       "    </tr>\n",
       "    <tr>\n",
       "      <th>48</th>\n",
       "      <td>Guinea-Bissau</td>\n",
       "      <td>GNB</td>\n",
       "      <td>2000</td>\n",
       "      <td>5.845</td>\n",
       "    </tr>\n",
       "    <tr>\n",
       "      <th>49</th>\n",
       "      <td>Colombia</td>\n",
       "      <td>COL</td>\n",
       "      <td>2000</td>\n",
       "      <td>2.640</td>\n",
       "    </tr>\n",
       "  </tbody>\n",
       "</table>\n",
       "</div>"
      ],
      "text/plain": [
       "     Country Name Country Code Decade  Birth Rate\n",
       "0         Burundi          BDI   1960       6.953\n",
       "1      San Marino          SMR   1960         NaN\n",
       "2     Yemen, Rep.          YEM   1960       7.292\n",
       "3         Jamaica          JAM   1960       5.419\n",
       "4        Dominica          DMA   1960         NaN\n",
       "5   Venezuela, RB          VEN   1960       6.616\n",
       "6          Cyprus          CYP   1960       3.500\n",
       "7          Turkey          TUR   1960       6.303\n",
       "8   Guinea-Bissau          GNB   1960       5.828\n",
       "9        Colombia          COL   1960       6.807\n",
       "10        Burundi          BDI   1970       7.311\n",
       "11     San Marino          SMR   1970         NaN\n",
       "12    Yemen, Rep.          YEM   1970       7.542\n",
       "13        Jamaica          JAM   1970       5.477\n",
       "14       Dominica          DMA   1970         NaN\n",
       "15  Venezuela, RB          VEN   1970       5.404\n",
       "16         Cyprus          CYP   1970       2.610\n",
       "17         Turkey          TUR   1970       5.563\n",
       "18  Guinea-Bissau          GNB   1970       6.071\n",
       "19       Colombia          COL   1970       5.599\n",
       "20        Burundi          BDI   1980       7.450\n",
       "21     San Marino          SMR   1980         NaN\n",
       "22    Yemen, Rep.          YEM   1980       8.993\n",
       "23        Jamaica          JAM   1980       3.733\n",
       "24       Dominica          DMA   1980         NaN\n",
       "25  Venezuela, RB          VEN   1980       4.199\n",
       "26         Cyprus          CYP   1980       2.354\n",
       "27         Turkey          TUR   1980       4.361\n",
       "28  Guinea-Bissau          GNB   1980       6.322\n",
       "29       Colombia          COL   1980       3.993\n",
       "30        Burundi          BDI   1990       7.542\n",
       "31     San Marino          SMR   1990         NaN\n",
       "32    Yemen, Rep.          YEM   1990       8.667\n",
       "33        Jamaica          JAM   1990       2.948\n",
       "34       Dominica          DMA   1990         NaN\n",
       "35  Venezuela, RB          VEN   1990       3.448\n",
       "36         Cyprus          CYP   1990       2.411\n",
       "37         Turkey          TUR   1990       3.078\n",
       "38  Guinea-Bissau          GNB   1990       6.649\n",
       "39       Colombia          COL   1990       3.104\n",
       "40        Burundi          BDI   2000       7.057\n",
       "41     San Marino          SMR   2000         NaN\n",
       "42    Yemen, Rep.          YEM   2000       6.363\n",
       "43        Jamaica          JAM   2000       2.603\n",
       "44       Dominica          DMA   2000         NaN\n",
       "45  Venezuela, RB          VEN   2000       2.822\n",
       "46         Cyprus          CYP   2000       1.714\n",
       "47         Turkey          TUR   2000       2.454\n",
       "48  Guinea-Bissau          GNB   2000       5.845\n",
       "49       Colombia          COL   2000       2.640"
      ]
     },
     "execution_count": 25,
     "metadata": {},
     "output_type": "execute_result"
    }
   ],
   "source": [
    "pd.melt(df,\n",
    "        id_vars = ['Country Name', 'Country Code'],\n",
    "        value_vars = ['1960', '1970', '1980', '1990', '2000'],\n",
    "        var_name='Decade',\n",
    "        value_name='Birth Rate',\n",
    "        )"
   ]
  },
  {
   "cell_type": "markdown",
   "id": "ae97e78c-8880-4804-ae03-2d5f8869f22d",
   "metadata": {
    "cell_id": "00040-432a9aa8-8828-443e-8c3d-8816137d82e7",
    "deepnote_cell_type": "markdown"
   },
   "source": [
    "## Regularizing, Splitting Text Data\n",
    "\n",
    "Oftentimes, string data contains multiple pieces of data inside it, split with a seperator character.  With it, you can turn a DataFrame from this:\n",
    "\n",
    "| line |\n",
    "| :--: |\n",
    "| hi_1 |\n",
    "| bye_2|\n",
    "\n",
    "into this:\n",
    "\n",
    "| line | msg | num |\n",
    "| :--: | :--: | :--: |\n",
    "| hi_1 | hi | 1 |\n",
    "| bye_2| bye | 2 |\n",
    "\n",
    "using a single line:\n",
    "\n",
    "```python\n",
    "df[['msg', 'num']] = df['line'].str.split('_', expand=True)\n",
    "```\n",
    "\n",
    "\n",
    "Let's try it out!"
   ]
  },
  {
   "cell_type": "code",
   "execution_count": 9,
   "id": "1fd867ab",
   "metadata": {
    "cell_id": "00041-bf694086-2c7b-4897-8448-1a92da09bfdf",
    "deepnote_cell_type": "code"
   },
   "outputs": [
    {
     "data": {
      "text/html": [
       "<div>\n",
       "<style scoped>\n",
       "    .dataframe tbody tr th:only-of-type {\n",
       "        vertical-align: middle;\n",
       "    }\n",
       "\n",
       "    .dataframe tbody tr th {\n",
       "        vertical-align: top;\n",
       "    }\n",
       "\n",
       "    .dataframe thead th {\n",
       "        text-align: right;\n",
       "    }\n",
       "</style>\n",
       "<table border=\"1\" class=\"dataframe\">\n",
       "  <thead>\n",
       "    <tr style=\"text-align: right;\">\n",
       "      <th></th>\n",
       "      <th>counts_XADD</th>\n",
       "      <th>intensities_JJAKX</th>\n",
       "    </tr>\n",
       "  </thead>\n",
       "  <tbody>\n",
       "    <tr>\n",
       "      <th>0</th>\n",
       "      <td>1;3;5</td>\n",
       "      <td>5_32_654</td>\n",
       "    </tr>\n",
       "    <tr>\n",
       "      <th>1</th>\n",
       "      <td>10;2;6</td>\n",
       "      <td>10_1_99</td>\n",
       "    </tr>\n",
       "  </tbody>\n",
       "</table>\n",
       "</div>"
      ],
      "text/plain": [
       "  counts_XADD intensities_JJAKX\n",
       "0       1;3;5          5_32_654\n",
       "1      10;2;6           10_1_99"
      ]
     },
     "execution_count": 9,
     "metadata": {},
     "output_type": "execute_result"
    }
   ],
   "source": [
    "df = pd.DataFrame({\n",
    "    'counts_XADD': [\"1;3;5\", \"10;2;6\"],\n",
    "    'intensities_JJAKX': ['5_32_654', \"10_1_99\"],\n",
    "})\n",
    "df"
   ]
  },
  {
   "cell_type": "markdown",
   "id": "a9367e43-86a8-4675-895e-828c679cb975",
   "metadata": {
    "cell_id": "00042-84a7c0a7-744f-4ccb-9cfe-778f5f721bf3",
    "deepnote_cell_type": "markdown"
   },
   "source": [
    "First, rename the columns `counts_XADD` and `intensities_JJAKX` to just keep the part of the names before the underscore. For that, we can use the rename function in pandas, which has the following syntax:\n",
    "\n",
    "```python\n",
    "df = df.rename(columns={'original_column_name1': 'new_column_name1', \n",
    "                        'orignal_column_name2': 'new_column_name2'})\n",
    "```"
   ]
  },
  {
   "cell_type": "code",
   "execution_count": 10,
   "id": "40446111",
   "metadata": {},
   "outputs": [
    {
     "data": {
      "text/html": [
       "<div>\n",
       "<style scoped>\n",
       "    .dataframe tbody tr th:only-of-type {\n",
       "        vertical-align: middle;\n",
       "    }\n",
       "\n",
       "    .dataframe tbody tr th {\n",
       "        vertical-align: top;\n",
       "    }\n",
       "\n",
       "    .dataframe thead th {\n",
       "        text-align: right;\n",
       "    }\n",
       "</style>\n",
       "<table border=\"1\" class=\"dataframe\">\n",
       "  <thead>\n",
       "    <tr style=\"text-align: right;\">\n",
       "      <th></th>\n",
       "      <th>counts</th>\n",
       "      <th>intensities</th>\n",
       "    </tr>\n",
       "  </thead>\n",
       "  <tbody>\n",
       "    <tr>\n",
       "      <th>0</th>\n",
       "      <td>1;3;5</td>\n",
       "      <td>5_32_654</td>\n",
       "    </tr>\n",
       "    <tr>\n",
       "      <th>1</th>\n",
       "      <td>10;2;6</td>\n",
       "      <td>10_1_99</td>\n",
       "    </tr>\n",
       "  </tbody>\n",
       "</table>\n",
       "</div>"
      ],
      "text/plain": [
       "   counts intensities\n",
       "0   1;3;5    5_32_654\n",
       "1  10;2;6     10_1_99"
      ]
     },
     "execution_count": 10,
     "metadata": {},
     "output_type": "execute_result"
    }
   ],
   "source": [
    "df = df.rename(columns={'counts_XADD': 'counts', 'intensities_JJAKX': 'intensities'})\n",
    "df"
   ]
  },
  {
   "cell_type": "markdown",
   "id": "dabde920-57cf-47e9-afc5-12ff9b0f8fbb",
   "metadata": {
    "cell_id": "00044-0df626f6-c52f-4360-9611-d3e27835774b",
    "deepnote_cell_type": "markdown"
   },
   "source": [
    "Split the Counts into Counts_1, Counts_2, and Counts_3"
   ]
  },
  {
   "cell_type": "code",
   "execution_count": 11,
   "id": "0068adaf",
   "metadata": {
    "cell_id": "00045-c54e2a66-0189-4d82-a597-cb33043a8869",
    "deepnote_cell_type": "code",
    "tags": [
     "exercise"
    ]
   },
   "outputs": [
    {
     "data": {
      "text/html": [
       "<div>\n",
       "<style scoped>\n",
       "    .dataframe tbody tr th:only-of-type {\n",
       "        vertical-align: middle;\n",
       "    }\n",
       "\n",
       "    .dataframe tbody tr th {\n",
       "        vertical-align: top;\n",
       "    }\n",
       "\n",
       "    .dataframe thead th {\n",
       "        text-align: right;\n",
       "    }\n",
       "</style>\n",
       "<table border=\"1\" class=\"dataframe\">\n",
       "  <thead>\n",
       "    <tr style=\"text-align: right;\">\n",
       "      <th></th>\n",
       "      <th>intensities</th>\n",
       "      <th>Counts_1</th>\n",
       "      <th>Counts_2</th>\n",
       "      <th>Counts_3</th>\n",
       "    </tr>\n",
       "  </thead>\n",
       "  <tbody>\n",
       "    <tr>\n",
       "      <th>0</th>\n",
       "      <td>5_32_654</td>\n",
       "      <td>1</td>\n",
       "      <td>3</td>\n",
       "      <td>5</td>\n",
       "    </tr>\n",
       "    <tr>\n",
       "      <th>1</th>\n",
       "      <td>10_1_99</td>\n",
       "      <td>10</td>\n",
       "      <td>2</td>\n",
       "      <td>6</td>\n",
       "    </tr>\n",
       "  </tbody>\n",
       "</table>\n",
       "</div>"
      ],
      "text/plain": [
       "  intensities Counts_1 Counts_2 Counts_3\n",
       "0    5_32_654        1        3        5\n",
       "1     10_1_99       10        2        6"
      ]
     },
     "execution_count": 11,
     "metadata": {},
     "output_type": "execute_result"
    }
   ],
   "source": [
    "df[['Counts_1', 'Counts_2', 'Counts_3']] = df['counts'].str.split(';', expand = True)\n",
    "del df['counts']\n",
    "df"
   ]
  },
  {
   "cell_type": "markdown",
   "id": "d000cb93-205c-4d58-9125-367d6e984cc5",
   "metadata": {
    "cell_id": "00046-8dc23cd5-e362-4e03-bcec-82a98037c5d9",
    "deepnote_cell_type": "markdown"
   },
   "source": [
    "Split the Intensities into Intensities_1, Intensities_2, and Intensities_3"
   ]
  },
  {
   "cell_type": "code",
   "execution_count": 12,
   "id": "0a5ee4de",
   "metadata": {
    "cell_id": "00047-5dbca929-23c4-429e-8d2d-abb7db28b3fa",
    "deepnote_cell_type": "code",
    "tags": [
     "exercise"
    ]
   },
   "outputs": [
    {
     "data": {
      "text/html": [
       "<div>\n",
       "<style scoped>\n",
       "    .dataframe tbody tr th:only-of-type {\n",
       "        vertical-align: middle;\n",
       "    }\n",
       "\n",
       "    .dataframe tbody tr th {\n",
       "        vertical-align: top;\n",
       "    }\n",
       "\n",
       "    .dataframe thead th {\n",
       "        text-align: right;\n",
       "    }\n",
       "</style>\n",
       "<table border=\"1\" class=\"dataframe\">\n",
       "  <thead>\n",
       "    <tr style=\"text-align: right;\">\n",
       "      <th></th>\n",
       "      <th>Counts_1</th>\n",
       "      <th>Counts_2</th>\n",
       "      <th>Counts_3</th>\n",
       "      <th>Intensities_1</th>\n",
       "      <th>Intensities_2</th>\n",
       "      <th>Intensities_3</th>\n",
       "    </tr>\n",
       "  </thead>\n",
       "  <tbody>\n",
       "    <tr>\n",
       "      <th>0</th>\n",
       "      <td>1</td>\n",
       "      <td>3</td>\n",
       "      <td>5</td>\n",
       "      <td>5</td>\n",
       "      <td>32</td>\n",
       "      <td>654</td>\n",
       "    </tr>\n",
       "    <tr>\n",
       "      <th>1</th>\n",
       "      <td>10</td>\n",
       "      <td>2</td>\n",
       "      <td>6</td>\n",
       "      <td>10</td>\n",
       "      <td>1</td>\n",
       "      <td>99</td>\n",
       "    </tr>\n",
       "  </tbody>\n",
       "</table>\n",
       "</div>"
      ],
      "text/plain": [
       "  Counts_1 Counts_2 Counts_3 Intensities_1 Intensities_2 Intensities_3\n",
       "0        1        3        5             5            32           654\n",
       "1       10        2        6            10             1            99"
      ]
     },
     "execution_count": 12,
     "metadata": {},
     "output_type": "execute_result"
    }
   ],
   "source": [
    "df[['Intensities_1', 'Intensities_2', 'Intensities_3']] = df['intensities'].str.split('_', expand = True)\n",
    "del df['intensities']\n",
    "df"
   ]
  },
  {
   "cell_type": "markdown",
   "id": "6bf6cbaf-0398-4d29-a0b0-17b2d37d9afb",
   "metadata": {
    "cell_id": "00048-615829fd-1a17-4ea4-b2f4-dbbf18ad5540",
    "deepnote_cell_type": "markdown"
   },
   "source": [
    "## Concatenating Across CSV Files Using Dask.DataFrame.read_csv()\n",
    "\n",
    "The Dask DataFrame subpackage makes it possible to work on multiple files at once.  This is especially useful for performance on large datasets, but it also makes managing multiple files in general simple. Just use it like you would Pandas commands, and when you want Dask to make the DataFrame, run the `compute()` method:\n",
    "\n",
    "To Load and Concatenate many CSV files:\n",
    "\n",
    "```python\n",
    "import dask.dataframe as dd\n",
    "df = dd.read_csv(\"data/*.csv\").compute()\n",
    "```\n",
    "\n",
    "Oftentimes, the filename contains metadata data we'd like to include in the analysis.  Dask can add the filename as its own column in the dataframe, for followup text processing:\n",
    "\n",
    "```python\n",
    "df = dd.read_csv(\"data/*.csv\", include_path_column=True).compute()\n",
    "```"
   ]
  },
  {
   "cell_type": "code",
   "execution_count": 80,
   "id": "c2914a3c",
   "metadata": {},
   "outputs": [
    {
     "name": "stdout",
     "output_type": "stream",
     "text": [
      "Collecting dask\n",
      "  Downloading dask-2024.9.0-py3-none-any.whl.metadata (3.7 kB)\n",
      "Requirement already satisfied: click>=8.1 in c:\\users\\atle_\\anaconda3\\envs\\intro_python_workshop_prep\\lib\\site-packages (from dask) (8.1.7)\n",
      "Collecting cloudpickle>=3.0.0 (from dask)\n",
      "  Downloading cloudpickle-3.0.0-py3-none-any.whl.metadata (7.0 kB)\n",
      "Collecting fsspec>=2021.09.0 (from dask)\n",
      "  Downloading fsspec-2024.9.0-py3-none-any.whl.metadata (11 kB)\n",
      "Requirement already satisfied: packaging>=20.0 in c:\\users\\atle_\\anaconda3\\envs\\intro_python_workshop_prep\\lib\\site-packages (from dask) (24.1)\n",
      "Collecting partd>=1.4.0 (from dask)\n",
      "  Downloading partd-1.4.2-py3-none-any.whl.metadata (4.6 kB)\n",
      "Collecting pyyaml>=5.3.1 (from dask)\n",
      "  Downloading PyYAML-6.0.2-cp312-cp312-win_amd64.whl.metadata (2.1 kB)\n",
      "Collecting toolz>=0.10.0 (from dask)\n",
      "  Downloading toolz-0.12.1-py3-none-any.whl.metadata (5.1 kB)\n",
      "Requirement already satisfied: colorama in c:\\users\\atle_\\anaconda3\\envs\\intro_python_workshop_prep\\lib\\site-packages (from click>=8.1->dask) (0.4.6)\n",
      "Collecting locket (from partd>=1.4.0->dask)\n",
      "  Downloading locket-1.0.0-py2.py3-none-any.whl.metadata (2.8 kB)\n",
      "Downloading dask-2024.9.0-py3-none-any.whl (1.3 MB)\n",
      "   ---------------------------------------- 0.0/1.3 MB ? eta -:--:--\n",
      "   -------- ------------------------------- 0.3/1.3 MB ? eta -:--:--\n",
      "   ---------------- ----------------------- 0.5/1.3 MB 1.9 MB/s eta 0:00:01\n",
      "   --------------------------------- ------ 1.0/1.3 MB 1.8 MB/s eta 0:00:01\n",
      "   ---------------------------------------- 1.3/1.3 MB 1.8 MB/s eta 0:00:00\n",
      "Downloading cloudpickle-3.0.0-py3-none-any.whl (20 kB)\n",
      "Downloading fsspec-2024.9.0-py3-none-any.whl (179 kB)\n",
      "Downloading partd-1.4.2-py3-none-any.whl (18 kB)\n",
      "Downloading PyYAML-6.0.2-cp312-cp312-win_amd64.whl (156 kB)\n",
      "Downloading toolz-0.12.1-py3-none-any.whl (56 kB)\n",
      "Downloading locket-1.0.0-py2.py3-none-any.whl (4.4 kB)\n",
      "Installing collected packages: toolz, pyyaml, locket, fsspec, cloudpickle, partd, dask\n",
      "Successfully installed cloudpickle-3.0.0 dask-2024.9.0 fsspec-2024.9.0 locket-1.0.0 partd-1.4.2 pyyaml-6.0.2 toolz-0.12.1\n",
      "Note: you may need to restart the kernel to use updated packages.\n"
     ]
    }
   ],
   "source": [
    "%pip install dask"
   ]
  },
  {
   "cell_type": "markdown",
   "id": "5a4f2a89-429f-457f-a0ef-5bd1a6cc95de",
   "metadata": {
    "cell_id": "00049-da46f970-86ab-49a6-a321-92d7c25d9612",
    "deepnote_cell_type": "markdown"
   },
   "source": [
    "### Exercise"
   ]
  },
  {
   "cell_type": "markdown",
   "id": "70a9c0f2-00d5-49ef-b939-b1c6c6740609",
   "metadata": {
    "cell_id": "00050-0cf4d6d9-7326-40dc-a695-f03657152798",
    "deepnote_cell_type": "markdown"
   },
   "source": [
    "Run the following code to create some data files: "
   ]
  },
  {
   "cell_type": "code",
   "execution_count": 84,
   "id": "982ceb7c",
   "metadata": {
    "cell_id": "00051-85d4fb86-f713-4f58-a78b-906b96ca1c36",
    "deepnote_cell_type": "code"
   },
   "outputs": [],
   "source": [
    "from pathlib import Path\n",
    "Path(\"peopledata\").mkdir(exist_ok=True)\n",
    "pd.DataFrame({'Name': ['Jackson', 'Josh', 'Jenny'], 'Age': [16, 19, 17]}).to_csv(\"peopledata/de_1.csv\", index=False)\n",
    "pd.DataFrame({'Name': ['Jess', 'Jon', 'Joe'], 'Age': [21, 16, 23]}, index=[3, 4, 5]).to_csv(\"peopledata/fr_2.csv\", index=False)\n",
    "pd.DataFrame({'Name': ['Jill', 'Josephine', 'Jack'], 'Age': [5, 10, 61]}).to_csv(\"peopledata/de_3.csv\", index=False)"
   ]
  },
  {
   "cell_type": "markdown",
   "id": "e12c0a9d-d7d3-47a2-ae0f-0d0ee7e81f8f",
   "metadata": {
    "cell_id": "00052-5a8feaaa-eb9d-4f76-9650-1aa5dd2ed811",
    "deepnote_cell_type": "markdown"
   },
   "source": [
    "Read all of them in using Dask DataFrame, concatenate them together, and split the filenames into two columns:  \"Country\" and \"GroupID\""
   ]
  },
  {
   "cell_type": "code",
   "execution_count": 88,
   "id": "2d3c7504",
   "metadata": {},
   "outputs": [
    {
     "data": {
      "text/html": [
       "<div>\n",
       "<style scoped>\n",
       "    .dataframe tbody tr th:only-of-type {\n",
       "        vertical-align: middle;\n",
       "    }\n",
       "\n",
       "    .dataframe tbody tr th {\n",
       "        vertical-align: top;\n",
       "    }\n",
       "\n",
       "    .dataframe thead th {\n",
       "        text-align: right;\n",
       "    }\n",
       "</style>\n",
       "<table border=\"1\" class=\"dataframe\">\n",
       "  <thead>\n",
       "    <tr style=\"text-align: right;\">\n",
       "      <th></th>\n",
       "      <th>Name</th>\n",
       "      <th>Age</th>\n",
       "    </tr>\n",
       "  </thead>\n",
       "  <tbody>\n",
       "    <tr>\n",
       "      <th>0</th>\n",
       "      <td>Jackson</td>\n",
       "      <td>16</td>\n",
       "    </tr>\n",
       "    <tr>\n",
       "      <th>1</th>\n",
       "      <td>Josh</td>\n",
       "      <td>19</td>\n",
       "    </tr>\n",
       "    <tr>\n",
       "      <th>2</th>\n",
       "      <td>Jenny</td>\n",
       "      <td>17</td>\n",
       "    </tr>\n",
       "    <tr>\n",
       "      <th>3</th>\n",
       "      <td>Jill</td>\n",
       "      <td>5</td>\n",
       "    </tr>\n",
       "    <tr>\n",
       "      <th>4</th>\n",
       "      <td>Josephine</td>\n",
       "      <td>10</td>\n",
       "    </tr>\n",
       "    <tr>\n",
       "      <th>5</th>\n",
       "      <td>Jack</td>\n",
       "      <td>61</td>\n",
       "    </tr>\n",
       "    <tr>\n",
       "      <th>6</th>\n",
       "      <td>Jess</td>\n",
       "      <td>21</td>\n",
       "    </tr>\n",
       "    <tr>\n",
       "      <th>7</th>\n",
       "      <td>Jon</td>\n",
       "      <td>16</td>\n",
       "    </tr>\n",
       "    <tr>\n",
       "      <th>8</th>\n",
       "      <td>Joe</td>\n",
       "      <td>23</td>\n",
       "    </tr>\n",
       "  </tbody>\n",
       "</table>\n",
       "</div>"
      ],
      "text/plain": [
       "        Name  Age\n",
       "0    Jackson   16\n",
       "1       Josh   19\n",
       "2      Jenny   17\n",
       "3       Jill    5\n",
       "4  Josephine   10\n",
       "5       Jack   61\n",
       "6       Jess   21\n",
       "7        Jon   16\n",
       "8        Joe   23"
      ]
     },
     "execution_count": 88,
     "metadata": {},
     "output_type": "execute_result"
    }
   ],
   "source": [
    "import dask.dataframe as dd\n",
    "\n",
    "df = dd.read_csv(\"peopledata/*.csv\").compute().reset_index()\n",
    "del df['index']\n",
    "df"
   ]
  },
  {
   "cell_type": "markdown",
   "id": "fdde58e6",
   "metadata": {
    "cell_id": "00067-49bb40c3-24c0-48f8-8865-ed3a70687977",
    "deepnote_cell_type": "markdown"
   },
   "source": [
    "## More out-of-core Reshaping Operations: Joins with SQL Queries\n",
    "\n",
    "Does anyone in your group know some SQL?  You can write to and read from tables in any SQL database using the package sqlalchemy, as well as send custom queries!\n",
    "\n",
    "| Function | Description |\n",
    "| :---:    | :----:      |\n",
    "| `create_engine()` | Describe how sqlalchemy should find and connect to your database |\n",
    "| `engine.connect()` | Make an open connection to the database (similar to opening a file) |\n",
    "| `DetaFrame.to_sql(\"table_name\", conn)` | Write to a table in a database you have an open connection to |\n",
    "| `pd.read_sql_table(\"table_name\", conn)`, | Read from a table in a databae you have an open connection to |\n",
    "| `pd.read_sql_query(\"SELECT * FROM table_name\", conn)`, | Read from a query in a databae you have an open connection to |"
   ]
  },
  {
   "cell_type": "code",
   "execution_count": 89,
   "id": "3b137960",
   "metadata": {
    "cell_id": "00068-8e6d9131-515d-4492-902b-d5a5b6047045",
    "deepnote_cell_type": "code"
   },
   "outputs": [],
   "source": [
    "from sqlalchemy import create_engine"
   ]
  },
  {
   "cell_type": "code",
   "execution_count": 77,
   "id": "be231e07",
   "metadata": {
    "cell_id": "00069-97984504-4a60-42b6-97fb-5e60d169dc78",
    "deepnote_cell_type": "code"
   },
   "outputs": [
    {
     "name": "stdout",
     "output_type": "stream",
     "text": [
      "Collecting sqlalchemy\n",
      "  Downloading SQLAlchemy-2.0.35-cp312-cp312-win_amd64.whl.metadata (9.9 kB)\n",
      "Requirement already satisfied: typing-extensions>=4.6.0 in c:\\users\\atle_\\anaconda3\\envs\\intro_python_workshop_prep\\lib\\site-packages (from sqlalchemy) (4.12.2)\n",
      "Collecting greenlet!=0.4.17 (from sqlalchemy)\n",
      "  Downloading greenlet-3.1.0-cp312-cp312-win_amd64.whl.metadata (3.9 kB)\n",
      "Downloading SQLAlchemy-2.0.35-cp312-cp312-win_amd64.whl (2.1 MB)\n",
      "   ---------------------------------------- 0.0/2.1 MB ? eta -:--:--\n",
      "   ----- ---------------------------------- 0.3/2.1 MB ? eta -:--:--\n",
      "   --------------- ------------------------ 0.8/2.1 MB 1.9 MB/s eta 0:00:01\n",
      "   -------------------- ------------------- 1.0/2.1 MB 1.9 MB/s eta 0:00:01\n",
      "   ------------------------------ --------- 1.6/2.1 MB 1.9 MB/s eta 0:00:01\n",
      "   ----------------------------------- ---- 1.8/2.1 MB 1.8 MB/s eta 0:00:01\n",
      "   ---------------------------------------- 2.1/2.1 MB 1.8 MB/s eta 0:00:00\n",
      "Downloading greenlet-3.1.0-cp312-cp312-win_amd64.whl (294 kB)\n",
      "Installing collected packages: greenlet, sqlalchemy\n",
      "Successfully installed greenlet-3.1.0 sqlalchemy-2.0.35\n",
      "Note: you may need to restart the kernel to use updated packages.\n"
     ]
    }
   ],
   "source": [
    "%pip install sqlalchemy"
   ]
  },
  {
   "cell_type": "markdown",
   "id": "3aab2132",
   "metadata": {
    "cell_id": "00070-a1d93280-3e54-4826-934a-aefbf7e7c818",
    "deepnote_cell_type": "markdown"
   },
   "source": [
    "### Create and Population the Database"
   ]
  },
  {
   "cell_type": "code",
   "execution_count": 90,
   "id": "1ef38e11",
   "metadata": {
    "cell_id": "00071-eea799b8-a253-4c2f-a0dd-0413b8d70672",
    "deepnote_cell_type": "code"
   },
   "outputs": [],
   "source": [
    "\n",
    "with create_engine(\"sqlite:///people.db\").connect() as conn:\n",
    "    pd.DataFrame({'Name': ['Paul', 'Arash', 'Jenny'], 'Age': [16, 19, 17]}).to_sql(\"ages\", conn, index=False)\n",
    "    pd.DataFrame({'Name': ['Arash', 'Paul', 'Sara'], 'Weight': [32, 15, 37]}).to_sql(\"weights\", conn, index=False)\n",
    "    pd.DataFrame({'Name': ['Amy', 'Paul', 'Sara'], 'Height': [170, 190, 143]}).to_sql(\"heights\", conn)"
   ]
  },
  {
   "cell_type": "markdown",
   "id": "22de2579",
   "metadata": {
    "cell_id": "00072-49b3c192-c0d6-4659-8799-45a9fc0dadf7",
    "deepnote_cell_type": "markdown"
   },
   "source": [
    "### Examples: Read from the Database"
   ]
  },
  {
   "cell_type": "code",
   "execution_count": 92,
   "id": "dcfd85da",
   "metadata": {
    "cell_id": "00073-ea3f9e99-5472-40f6-9205-d665c66d294a",
    "deepnote_cell_type": "code"
   },
   "outputs": [
    {
     "data": {
      "text/html": [
       "<div>\n",
       "<style scoped>\n",
       "    .dataframe tbody tr th:only-of-type {\n",
       "        vertical-align: middle;\n",
       "    }\n",
       "\n",
       "    .dataframe tbody tr th {\n",
       "        vertical-align: top;\n",
       "    }\n",
       "\n",
       "    .dataframe thead th {\n",
       "        text-align: right;\n",
       "    }\n",
       "</style>\n",
       "<table border=\"1\" class=\"dataframe\">\n",
       "  <thead>\n",
       "    <tr style=\"text-align: right;\">\n",
       "      <th></th>\n",
       "      <th>Name</th>\n",
       "      <th>Age</th>\n",
       "    </tr>\n",
       "  </thead>\n",
       "  <tbody>\n",
       "    <tr>\n",
       "      <th>0</th>\n",
       "      <td>Paul</td>\n",
       "      <td>16</td>\n",
       "    </tr>\n",
       "    <tr>\n",
       "      <th>1</th>\n",
       "      <td>Arash</td>\n",
       "      <td>19</td>\n",
       "    </tr>\n",
       "    <tr>\n",
       "      <th>2</th>\n",
       "      <td>Jenny</td>\n",
       "      <td>17</td>\n",
       "    </tr>\n",
       "  </tbody>\n",
       "</table>\n",
       "</div>"
      ],
      "text/plain": [
       "    Name  Age\n",
       "0   Paul   16\n",
       "1  Arash   19\n",
       "2  Jenny   17"
      ]
     },
     "execution_count": 92,
     "metadata": {},
     "output_type": "execute_result"
    }
   ],
   "source": [
    "with create_engine(\"sqlite:///people.db\").connect() as conn:\n",
    "    df = pd.read_sql_table(\"ages\", conn)\n",
    "df"
   ]
  },
  {
   "cell_type": "code",
   "execution_count": 93,
   "id": "28bdee6a",
   "metadata": {
    "cell_id": "00074-3ee3fb5f-86bd-48f2-8ed5-989c45fa21f0",
    "deepnote_cell_type": "code"
   },
   "outputs": [
    {
     "data": {
      "text/html": [
       "<div>\n",
       "<style scoped>\n",
       "    .dataframe tbody tr th:only-of-type {\n",
       "        vertical-align: middle;\n",
       "    }\n",
       "\n",
       "    .dataframe tbody tr th {\n",
       "        vertical-align: top;\n",
       "    }\n",
       "\n",
       "    .dataframe thead th {\n",
       "        text-align: right;\n",
       "    }\n",
       "</style>\n",
       "<table border=\"1\" class=\"dataframe\">\n",
       "  <thead>\n",
       "    <tr style=\"text-align: right;\">\n",
       "      <th></th>\n",
       "      <th>Age</th>\n",
       "    </tr>\n",
       "  </thead>\n",
       "  <tbody>\n",
       "    <tr>\n",
       "      <th>0</th>\n",
       "      <td>16</td>\n",
       "    </tr>\n",
       "    <tr>\n",
       "      <th>1</th>\n",
       "      <td>19</td>\n",
       "    </tr>\n",
       "    <tr>\n",
       "      <th>2</th>\n",
       "      <td>17</td>\n",
       "    </tr>\n",
       "  </tbody>\n",
       "</table>\n",
       "</div>"
      ],
      "text/plain": [
       "   Age\n",
       "0   16\n",
       "1   19\n",
       "2   17"
      ]
     },
     "execution_count": 93,
     "metadata": {},
     "output_type": "execute_result"
    }
   ],
   "source": [
    "query = \"\"\"\n",
    "SELECT Age FROM ages\n",
    "\"\"\"\n",
    "with create_engine(\"sqlite:///people.db\").connect() as conn:\n",
    "    df = pd.read_sql_query(query, conn)\n",
    "df"
   ]
  },
  {
   "cell_type": "markdown",
   "id": "3673e9ec",
   "metadata": {
    "cell_id": "00075-372367ef-05f3-40f7-8f5c-45285b19bcbf",
    "deepnote_cell_type": "markdown"
   },
   "source": [
    "### Optional Exercise\n",
    "\n",
    "What kinds of queries can we make on this data?"
   ]
  },
  {
   "cell_type": "code",
   "execution_count": 94,
   "id": "facdb579",
   "metadata": {
    "cell_id": "00076-f753effa-dd96-4c7f-b09c-526adae05ac6",
    "deepnote_cell_type": "code"
   },
   "outputs": [
    {
     "data": {
      "text/html": [
       "<div>\n",
       "<style scoped>\n",
       "    .dataframe tbody tr th:only-of-type {\n",
       "        vertical-align: middle;\n",
       "    }\n",
       "\n",
       "    .dataframe tbody tr th {\n",
       "        vertical-align: top;\n",
       "    }\n",
       "\n",
       "    .dataframe thead th {\n",
       "        text-align: right;\n",
       "    }\n",
       "</style>\n",
       "<table border=\"1\" class=\"dataframe\">\n",
       "  <thead>\n",
       "    <tr style=\"text-align: right;\">\n",
       "      <th></th>\n",
       "      <th>Weight</th>\n",
       "    </tr>\n",
       "  </thead>\n",
       "  <tbody>\n",
       "    <tr>\n",
       "      <th>0</th>\n",
       "      <td>32</td>\n",
       "    </tr>\n",
       "    <tr>\n",
       "      <th>1</th>\n",
       "      <td>15</td>\n",
       "    </tr>\n",
       "    <tr>\n",
       "      <th>2</th>\n",
       "      <td>37</td>\n",
       "    </tr>\n",
       "  </tbody>\n",
       "</table>\n",
       "</div>"
      ],
      "text/plain": [
       "   Weight\n",
       "0      32\n",
       "1      15\n",
       "2      37"
      ]
     },
     "execution_count": 94,
     "metadata": {},
     "output_type": "execute_result"
    }
   ],
   "source": [
    "query = \"\"\"\n",
    "SELECT Weight FROM weights\n",
    "\"\"\"\n",
    "with create_engine(\"sqlite:///people.db\").connect() as conn:\n",
    "    df = pd.read_sql_query(query, conn)\n",
    "df"
   ]
  },
  {
   "cell_type": "code",
   "execution_count": 95,
   "id": "e729d041",
   "metadata": {},
   "outputs": [
    {
     "data": {
      "text/html": [
       "<div>\n",
       "<style scoped>\n",
       "    .dataframe tbody tr th:only-of-type {\n",
       "        vertical-align: middle;\n",
       "    }\n",
       "\n",
       "    .dataframe tbody tr th {\n",
       "        vertical-align: top;\n",
       "    }\n",
       "\n",
       "    .dataframe thead th {\n",
       "        text-align: right;\n",
       "    }\n",
       "</style>\n",
       "<table border=\"1\" class=\"dataframe\">\n",
       "  <thead>\n",
       "    <tr style=\"text-align: right;\">\n",
       "      <th></th>\n",
       "      <th>Height</th>\n",
       "    </tr>\n",
       "  </thead>\n",
       "  <tbody>\n",
       "    <tr>\n",
       "      <th>0</th>\n",
       "      <td>170</td>\n",
       "    </tr>\n",
       "    <tr>\n",
       "      <th>1</th>\n",
       "      <td>190</td>\n",
       "    </tr>\n",
       "    <tr>\n",
       "      <th>2</th>\n",
       "      <td>143</td>\n",
       "    </tr>\n",
       "  </tbody>\n",
       "</table>\n",
       "</div>"
      ],
      "text/plain": [
       "   Height\n",
       "0     170\n",
       "1     190\n",
       "2     143"
      ]
     },
     "execution_count": 95,
     "metadata": {},
     "output_type": "execute_result"
    }
   ],
   "source": [
    "query = \"\"\"\n",
    "SELECT Height FROM heights\n",
    "\"\"\"\n",
    "\n",
    "with create_engine(\"sqlite:///people.db\").connect() as conn:\n",
    "    df = pd.read_sql_query(query, conn)\n",
    "df"
   ]
  },
  {
   "cell_type": "code",
   "execution_count": 97,
   "id": "ead86565",
   "metadata": {},
   "outputs": [
    {
     "data": {
      "text/html": [
       "<div>\n",
       "<style scoped>\n",
       "    .dataframe tbody tr th:only-of-type {\n",
       "        vertical-align: middle;\n",
       "    }\n",
       "\n",
       "    .dataframe tbody tr th {\n",
       "        vertical-align: top;\n",
       "    }\n",
       "\n",
       "    .dataframe thead th {\n",
       "        text-align: right;\n",
       "    }\n",
       "</style>\n",
       "<table border=\"1\" class=\"dataframe\">\n",
       "  <thead>\n",
       "    <tr style=\"text-align: right;\">\n",
       "      <th></th>\n",
       "      <th>Name</th>\n",
       "    </tr>\n",
       "  </thead>\n",
       "  <tbody>\n",
       "    <tr>\n",
       "      <th>0</th>\n",
       "      <td>Amy</td>\n",
       "    </tr>\n",
       "    <tr>\n",
       "      <th>1</th>\n",
       "      <td>Paul</td>\n",
       "    </tr>\n",
       "    <tr>\n",
       "      <th>2</th>\n",
       "      <td>Sara</td>\n",
       "    </tr>\n",
       "  </tbody>\n",
       "</table>\n",
       "</div>"
      ],
      "text/plain": [
       "   Name\n",
       "0   Amy\n",
       "1  Paul\n",
       "2  Sara"
      ]
     },
     "execution_count": 97,
     "metadata": {},
     "output_type": "execute_result"
    }
   ],
   "source": [
    "query = \"\"\"\n",
    "SELECT Name from heights\n",
    "\"\"\"\n",
    "\n",
    "with create_engine(\"sqlite:///people.db\").connect() as conn:\n",
    "    df = pd.read_sql_query(query, conn)\n",
    "\n",
    "df"
   ]
  },
  {
   "cell_type": "code",
   "execution_count": null,
   "id": "b523b4f6",
   "metadata": {},
   "outputs": [],
   "source": []
  }
 ],
 "metadata": {
  "deepnote": {},
  "deepnote_execution_queue": [],
  "deepnote_notebook_id": "61f525a9-da51-4af9-a52a-b4bb0d84fdd9",
  "kernelspec": {
   "display_name": "Python 3 (ipykernel)",
   "language": "python",
   "name": "python3"
  },
  "language_info": {
   "codemirror_mode": {
    "name": "ipython",
    "version": 3
   },
   "file_extension": ".py",
   "mimetype": "text/x-python",
   "name": "python",
   "nbconvert_exporter": "python",
   "pygments_lexer": "ipython3",
   "version": "3.12.5"
  },
  "metadata": {
   "interpreter": {
    "hash": "96aaef06ee4620efb4426efa9d33cf4f7340991f4df94558c663a28125b37508"
   }
  },
  "vscode": {
   "interpreter": {
    "hash": "d6852d01271bf8033dbdb7ec364b6f6e89fd52a18c6bf5b4c73e48c86329a8dd"
   }
  }
 },
 "nbformat": 4,
 "nbformat_minor": 5
}
