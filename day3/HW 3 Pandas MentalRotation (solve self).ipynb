{
 "cells": [
  {
   "cell_type": "code",
   "execution_count": null,
   "metadata": {},
   "outputs": [],
   "source": [
    "# %pip install pandas seaborn"
   ]
  },
  {
   "cell_type": "code",
   "execution_count": 1,
   "metadata": {},
   "outputs": [],
   "source": [
    "import pandas as pd\n",
    "import seaborn as sns"
   ]
  },
  {
   "cell_type": "markdown",
   "metadata": {},
   "source": [
    "# Pandas and DataFrames\n",
    "\n",
    "Often, we have tables of data--collections of named columns arranged in rows.  The **Pandas** package gives us a **DataFrame()** class that lets us index these columns the same way as with dicts, while still getting the benefit of Numpy arrays, meaning we can still write vectorized code.  \n",
    "\n",
    "Let's start playing with the analysis now.  We'll examine Pandas in more depth in the coming days."
   ]
  },
  {
   "cell_type": "markdown",
   "metadata": {},
   "source": [
    "## Today's Dataset: Mental Rotation Psychology Experiment\n",
    "\n",
    "![Mental Rotation Task Example](http://mercercognitivepsychology.pbworks.com/f/1353970952/mental-rotation-image.gif)"
   ]
  },
  {
   "cell_type": "markdown",
   "metadata": {},
   "source": [
    "## Loading the Data\n",
    "\n",
    "Please open the file “MentalRotation.csv” found at the url below (pd.read_csv()) and use it to answer the following questions about the results of the Mental Rotation psychology experiment. If you reach the end of the exercises, explore the dataset and DataFrames more and see what you can find about this experiment!"
   ]
  },
  {
   "cell_type": "code",
   "execution_count": 2,
   "metadata": {},
   "outputs": [],
   "source": [
    "url = \"https://raw.githubusercontent.com/nickdelgrosso/CodeTeachingMaterials/main/datasets/MentalRotation.csv\""
   ]
  },
  {
   "cell_type": "code",
   "execution_count": 3,
   "metadata": {
    "tags": [
     "exercise"
    ]
   },
   "outputs": [
    {
     "data": {
      "text/html": [
       "<div>\n",
       "<style scoped>\n",
       "    .dataframe tbody tr th:only-of-type {\n",
       "        vertical-align: middle;\n",
       "    }\n",
       "\n",
       "    .dataframe tbody tr th {\n",
       "        vertical-align: top;\n",
       "    }\n",
       "\n",
       "    .dataframe thead th {\n",
       "        text-align: right;\n",
       "    }\n",
       "</style>\n",
       "<table border=\"1\" class=\"dataframe\">\n",
       "  <thead>\n",
       "    <tr style=\"text-align: right;\">\n",
       "      <th></th>\n",
       "      <th>Subject</th>\n",
       "      <th>Trial</th>\n",
       "      <th>Angle</th>\n",
       "      <th>Matching</th>\n",
       "      <th>Response</th>\n",
       "      <th>Time</th>\n",
       "      <th>Correct</th>\n",
       "      <th>Age</th>\n",
       "      <th>Sex</th>\n",
       "    </tr>\n",
       "  </thead>\n",
       "  <tbody>\n",
       "    <tr>\n",
       "      <th>0</th>\n",
       "      <td>49</td>\n",
       "      <td>1</td>\n",
       "      <td>0</td>\n",
       "      <td>0</td>\n",
       "      <td>n</td>\n",
       "      <td>3107</td>\n",
       "      <td>1</td>\n",
       "      <td>32</td>\n",
       "      <td>M</td>\n",
       "    </tr>\n",
       "    <tr>\n",
       "      <th>1</th>\n",
       "      <td>49</td>\n",
       "      <td>2</td>\n",
       "      <td>150</td>\n",
       "      <td>0</td>\n",
       "      <td>n</td>\n",
       "      <td>2930</td>\n",
       "      <td>1</td>\n",
       "      <td>32</td>\n",
       "      <td>M</td>\n",
       "    </tr>\n",
       "    <tr>\n",
       "      <th>2</th>\n",
       "      <td>49</td>\n",
       "      <td>3</td>\n",
       "      <td>150</td>\n",
       "      <td>1</td>\n",
       "      <td>b</td>\n",
       "      <td>1874</td>\n",
       "      <td>1</td>\n",
       "      <td>32</td>\n",
       "      <td>M</td>\n",
       "    </tr>\n",
       "    <tr>\n",
       "      <th>3</th>\n",
       "      <td>49</td>\n",
       "      <td>4</td>\n",
       "      <td>100</td>\n",
       "      <td>1</td>\n",
       "      <td>b</td>\n",
       "      <td>3793</td>\n",
       "      <td>1</td>\n",
       "      <td>32</td>\n",
       "      <td>M</td>\n",
       "    </tr>\n",
       "    <tr>\n",
       "      <th>4</th>\n",
       "      <td>49</td>\n",
       "      <td>5</td>\n",
       "      <td>50</td>\n",
       "      <td>1</td>\n",
       "      <td>b</td>\n",
       "      <td>2184</td>\n",
       "      <td>1</td>\n",
       "      <td>32</td>\n",
       "      <td>M</td>\n",
       "    </tr>\n",
       "    <tr>\n",
       "      <th>...</th>\n",
       "      <td>...</td>\n",
       "      <td>...</td>\n",
       "      <td>...</td>\n",
       "      <td>...</td>\n",
       "      <td>...</td>\n",
       "      <td>...</td>\n",
       "      <td>...</td>\n",
       "      <td>...</td>\n",
       "      <td>...</td>\n",
       "    </tr>\n",
       "    <tr>\n",
       "      <th>5066</th>\n",
       "      <td>33</td>\n",
       "      <td>92</td>\n",
       "      <td>150</td>\n",
       "      <td>1</td>\n",
       "      <td>b</td>\n",
       "      <td>2095</td>\n",
       "      <td>1</td>\n",
       "      <td>20</td>\n",
       "      <td>F</td>\n",
       "    </tr>\n",
       "    <tr>\n",
       "      <th>5067</th>\n",
       "      <td>33</td>\n",
       "      <td>93</td>\n",
       "      <td>150</td>\n",
       "      <td>0</td>\n",
       "      <td>n</td>\n",
       "      <td>2125</td>\n",
       "      <td>1</td>\n",
       "      <td>20</td>\n",
       "      <td>F</td>\n",
       "    </tr>\n",
       "    <tr>\n",
       "      <th>5068</th>\n",
       "      <td>33</td>\n",
       "      <td>94</td>\n",
       "      <td>50</td>\n",
       "      <td>0</td>\n",
       "      <td>n</td>\n",
       "      <td>1226</td>\n",
       "      <td>1</td>\n",
       "      <td>20</td>\n",
       "      <td>F</td>\n",
       "    </tr>\n",
       "    <tr>\n",
       "      <th>5069</th>\n",
       "      <td>33</td>\n",
       "      <td>95</td>\n",
       "      <td>100</td>\n",
       "      <td>1</td>\n",
       "      <td>b</td>\n",
       "      <td>2783</td>\n",
       "      <td>1</td>\n",
       "      <td>20</td>\n",
       "      <td>F</td>\n",
       "    </tr>\n",
       "    <tr>\n",
       "      <th>5070</th>\n",
       "      <td>33</td>\n",
       "      <td>96</td>\n",
       "      <td>0</td>\n",
       "      <td>0</td>\n",
       "      <td>n</td>\n",
       "      <td>1017</td>\n",
       "      <td>1</td>\n",
       "      <td>20</td>\n",
       "      <td>F</td>\n",
       "    </tr>\n",
       "  </tbody>\n",
       "</table>\n",
       "<p>5071 rows × 9 columns</p>\n",
       "</div>"
      ],
      "text/plain": [
       "      Subject  Trial  Angle  Matching Response  Time  Correct  Age Sex\n",
       "0          49      1      0         0        n  3107        1   32   M\n",
       "1          49      2    150         0        n  2930        1   32   M\n",
       "2          49      3    150         1        b  1874        1   32   M\n",
       "3          49      4    100         1        b  3793        1   32   M\n",
       "4          49      5     50         1        b  2184        1   32   M\n",
       "...       ...    ...    ...       ...      ...   ...      ...  ...  ..\n",
       "5066       33     92    150         1        b  2095        1   20   F\n",
       "5067       33     93    150         0        n  2125        1   20   F\n",
       "5068       33     94     50         0        n  1226        1   20   F\n",
       "5069       33     95    100         1        b  2783        1   20   F\n",
       "5070       33     96      0         0        n  1017        1   20   F\n",
       "\n",
       "[5071 rows x 9 columns]"
      ]
     },
     "execution_count": 3,
     "metadata": {},
     "output_type": "execute_result"
    }
   ],
   "source": [
    "df = pd.read_csv(url)\n",
    "df"
   ]
  },
  {
   "cell_type": "markdown",
   "metadata": {},
   "source": [
    "## Examining the Dataset\n",
    "\n",
    "| With Slicing | With Method | With Function |\n",
    "| :-- | :-- | :-- |\n",
    "| `df[:5]` | `df.head()` |   |\n",
    "| `df[-5:]` | `df.tail()` |  |\n",
    "|  | `df.sample(5)` |   | \n",
    "|  | `df.info()` |   |\n",
    "|  | `df.describe()` |   |\n",
    "|  | `df.shape[0]` | `len(df)` |"
   ]
  },
  {
   "cell_type": "markdown",
   "metadata": {},
   "source": [
    "Print the first 5 lines of the dataset:"
   ]
  },
  {
   "cell_type": "code",
   "execution_count": 4,
   "metadata": {
    "tags": [
     "exercise"
    ]
   },
   "outputs": [
    {
     "data": {
      "text/html": [
       "<div>\n",
       "<style scoped>\n",
       "    .dataframe tbody tr th:only-of-type {\n",
       "        vertical-align: middle;\n",
       "    }\n",
       "\n",
       "    .dataframe tbody tr th {\n",
       "        vertical-align: top;\n",
       "    }\n",
       "\n",
       "    .dataframe thead th {\n",
       "        text-align: right;\n",
       "    }\n",
       "</style>\n",
       "<table border=\"1\" class=\"dataframe\">\n",
       "  <thead>\n",
       "    <tr style=\"text-align: right;\">\n",
       "      <th></th>\n",
       "      <th>Subject</th>\n",
       "      <th>Trial</th>\n",
       "      <th>Angle</th>\n",
       "      <th>Matching</th>\n",
       "      <th>Response</th>\n",
       "      <th>Time</th>\n",
       "      <th>Correct</th>\n",
       "      <th>Age</th>\n",
       "      <th>Sex</th>\n",
       "    </tr>\n",
       "  </thead>\n",
       "  <tbody>\n",
       "    <tr>\n",
       "      <th>0</th>\n",
       "      <td>49</td>\n",
       "      <td>1</td>\n",
       "      <td>0</td>\n",
       "      <td>0</td>\n",
       "      <td>n</td>\n",
       "      <td>3107</td>\n",
       "      <td>1</td>\n",
       "      <td>32</td>\n",
       "      <td>M</td>\n",
       "    </tr>\n",
       "    <tr>\n",
       "      <th>1</th>\n",
       "      <td>49</td>\n",
       "      <td>2</td>\n",
       "      <td>150</td>\n",
       "      <td>0</td>\n",
       "      <td>n</td>\n",
       "      <td>2930</td>\n",
       "      <td>1</td>\n",
       "      <td>32</td>\n",
       "      <td>M</td>\n",
       "    </tr>\n",
       "    <tr>\n",
       "      <th>2</th>\n",
       "      <td>49</td>\n",
       "      <td>3</td>\n",
       "      <td>150</td>\n",
       "      <td>1</td>\n",
       "      <td>b</td>\n",
       "      <td>1874</td>\n",
       "      <td>1</td>\n",
       "      <td>32</td>\n",
       "      <td>M</td>\n",
       "    </tr>\n",
       "    <tr>\n",
       "      <th>3</th>\n",
       "      <td>49</td>\n",
       "      <td>4</td>\n",
       "      <td>100</td>\n",
       "      <td>1</td>\n",
       "      <td>b</td>\n",
       "      <td>3793</td>\n",
       "      <td>1</td>\n",
       "      <td>32</td>\n",
       "      <td>M</td>\n",
       "    </tr>\n",
       "    <tr>\n",
       "      <th>4</th>\n",
       "      <td>49</td>\n",
       "      <td>5</td>\n",
       "      <td>50</td>\n",
       "      <td>1</td>\n",
       "      <td>b</td>\n",
       "      <td>2184</td>\n",
       "      <td>1</td>\n",
       "      <td>32</td>\n",
       "      <td>M</td>\n",
       "    </tr>\n",
       "  </tbody>\n",
       "</table>\n",
       "</div>"
      ],
      "text/plain": [
       "   Subject  Trial  Angle  Matching Response  Time  Correct  Age Sex\n",
       "0       49      1      0         0        n  3107        1   32   M\n",
       "1       49      2    150         0        n  2930        1   32   M\n",
       "2       49      3    150         1        b  1874        1   32   M\n",
       "3       49      4    100         1        b  3793        1   32   M\n",
       "4       49      5     50         1        b  2184        1   32   M"
      ]
     },
     "execution_count": 4,
     "metadata": {},
     "output_type": "execute_result"
    }
   ],
   "source": [
    "df.head(5)"
   ]
  },
  {
   "cell_type": "markdown",
   "metadata": {},
   "source": [
    "Look at the last 5 lines of the dataset"
   ]
  },
  {
   "cell_type": "code",
   "execution_count": 5,
   "metadata": {
    "tags": [
     "exercise"
    ]
   },
   "outputs": [
    {
     "data": {
      "text/html": [
       "<div>\n",
       "<style scoped>\n",
       "    .dataframe tbody tr th:only-of-type {\n",
       "        vertical-align: middle;\n",
       "    }\n",
       "\n",
       "    .dataframe tbody tr th {\n",
       "        vertical-align: top;\n",
       "    }\n",
       "\n",
       "    .dataframe thead th {\n",
       "        text-align: right;\n",
       "    }\n",
       "</style>\n",
       "<table border=\"1\" class=\"dataframe\">\n",
       "  <thead>\n",
       "    <tr style=\"text-align: right;\">\n",
       "      <th></th>\n",
       "      <th>Subject</th>\n",
       "      <th>Trial</th>\n",
       "      <th>Angle</th>\n",
       "      <th>Matching</th>\n",
       "      <th>Response</th>\n",
       "      <th>Time</th>\n",
       "      <th>Correct</th>\n",
       "      <th>Age</th>\n",
       "      <th>Sex</th>\n",
       "    </tr>\n",
       "  </thead>\n",
       "  <tbody>\n",
       "    <tr>\n",
       "      <th>5066</th>\n",
       "      <td>33</td>\n",
       "      <td>92</td>\n",
       "      <td>150</td>\n",
       "      <td>1</td>\n",
       "      <td>b</td>\n",
       "      <td>2095</td>\n",
       "      <td>1</td>\n",
       "      <td>20</td>\n",
       "      <td>F</td>\n",
       "    </tr>\n",
       "    <tr>\n",
       "      <th>5067</th>\n",
       "      <td>33</td>\n",
       "      <td>93</td>\n",
       "      <td>150</td>\n",
       "      <td>0</td>\n",
       "      <td>n</td>\n",
       "      <td>2125</td>\n",
       "      <td>1</td>\n",
       "      <td>20</td>\n",
       "      <td>F</td>\n",
       "    </tr>\n",
       "    <tr>\n",
       "      <th>5068</th>\n",
       "      <td>33</td>\n",
       "      <td>94</td>\n",
       "      <td>50</td>\n",
       "      <td>0</td>\n",
       "      <td>n</td>\n",
       "      <td>1226</td>\n",
       "      <td>1</td>\n",
       "      <td>20</td>\n",
       "      <td>F</td>\n",
       "    </tr>\n",
       "    <tr>\n",
       "      <th>5069</th>\n",
       "      <td>33</td>\n",
       "      <td>95</td>\n",
       "      <td>100</td>\n",
       "      <td>1</td>\n",
       "      <td>b</td>\n",
       "      <td>2783</td>\n",
       "      <td>1</td>\n",
       "      <td>20</td>\n",
       "      <td>F</td>\n",
       "    </tr>\n",
       "    <tr>\n",
       "      <th>5070</th>\n",
       "      <td>33</td>\n",
       "      <td>96</td>\n",
       "      <td>0</td>\n",
       "      <td>0</td>\n",
       "      <td>n</td>\n",
       "      <td>1017</td>\n",
       "      <td>1</td>\n",
       "      <td>20</td>\n",
       "      <td>F</td>\n",
       "    </tr>\n",
       "  </tbody>\n",
       "</table>\n",
       "</div>"
      ],
      "text/plain": [
       "      Subject  Trial  Angle  Matching Response  Time  Correct  Age Sex\n",
       "5066       33     92    150         1        b  2095        1   20   F\n",
       "5067       33     93    150         0        n  2125        1   20   F\n",
       "5068       33     94     50         0        n  1226        1   20   F\n",
       "5069       33     95    100         1        b  2783        1   20   F\n",
       "5070       33     96      0         0        n  1017        1   20   F"
      ]
     },
     "execution_count": 5,
     "metadata": {},
     "output_type": "execute_result"
    }
   ],
   "source": [
    "df.tail(5)"
   ]
  },
  {
   "cell_type": "markdown",
   "metadata": {},
   "source": [
    "Check 3 random lines in the dataset."
   ]
  },
  {
   "cell_type": "code",
   "execution_count": 6,
   "metadata": {
    "tags": [
     "exercise"
    ]
   },
   "outputs": [
    {
     "data": {
      "text/html": [
       "<div>\n",
       "<style scoped>\n",
       "    .dataframe tbody tr th:only-of-type {\n",
       "        vertical-align: middle;\n",
       "    }\n",
       "\n",
       "    .dataframe tbody tr th {\n",
       "        vertical-align: top;\n",
       "    }\n",
       "\n",
       "    .dataframe thead th {\n",
       "        text-align: right;\n",
       "    }\n",
       "</style>\n",
       "<table border=\"1\" class=\"dataframe\">\n",
       "  <thead>\n",
       "    <tr style=\"text-align: right;\">\n",
       "      <th></th>\n",
       "      <th>Subject</th>\n",
       "      <th>Trial</th>\n",
       "      <th>Angle</th>\n",
       "      <th>Matching</th>\n",
       "      <th>Response</th>\n",
       "      <th>Time</th>\n",
       "      <th>Correct</th>\n",
       "      <th>Age</th>\n",
       "      <th>Sex</th>\n",
       "    </tr>\n",
       "  </thead>\n",
       "  <tbody>\n",
       "    <tr>\n",
       "      <th>4708</th>\n",
       "      <td>27</td>\n",
       "      <td>20</td>\n",
       "      <td>50</td>\n",
       "      <td>1</td>\n",
       "      <td>b</td>\n",
       "      <td>2094</td>\n",
       "      <td>1</td>\n",
       "      <td>19</td>\n",
       "      <td>M</td>\n",
       "    </tr>\n",
       "    <tr>\n",
       "      <th>1118</th>\n",
       "      <td>28</td>\n",
       "      <td>79</td>\n",
       "      <td>50</td>\n",
       "      <td>0</td>\n",
       "      <td>n</td>\n",
       "      <td>1236</td>\n",
       "      <td>1</td>\n",
       "      <td>19</td>\n",
       "      <td>F</td>\n",
       "    </tr>\n",
       "    <tr>\n",
       "      <th>4666</th>\n",
       "      <td>46</td>\n",
       "      <td>73</td>\n",
       "      <td>100</td>\n",
       "      <td>1</td>\n",
       "      <td>b</td>\n",
       "      <td>2137</td>\n",
       "      <td>1</td>\n",
       "      <td>19</td>\n",
       "      <td>F</td>\n",
       "    </tr>\n",
       "  </tbody>\n",
       "</table>\n",
       "</div>"
      ],
      "text/plain": [
       "      Subject  Trial  Angle  Matching Response  Time  Correct  Age Sex\n",
       "4708       27     20     50         1        b  2094        1   19   M\n",
       "1118       28     79     50         0        n  1236        1   19   F\n",
       "4666       46     73    100         1        b  2137        1   19   F"
      ]
     },
     "execution_count": 6,
     "metadata": {},
     "output_type": "execute_result"
    }
   ],
   "source": [
    "df.sample(3)"
   ]
  },
  {
   "cell_type": "markdown",
   "metadata": {},
   "source": [
    "How Many Total Trials (rows) are in the study?"
   ]
  },
  {
   "cell_type": "code",
   "execution_count": 7,
   "metadata": {
    "tags": [
     "exercise"
    ]
   },
   "outputs": [
    {
     "data": {
      "text/plain": [
       "(5071, 5071)"
      ]
     },
     "execution_count": 7,
     "metadata": {},
     "output_type": "execute_result"
    }
   ],
   "source": [
    "len(df), len(df.Trial)"
   ]
  },
  {
   "cell_type": "markdown",
   "metadata": {},
   "source": [
    "## Calculating Values on Columns\n",
    "\n",
    "| Method | Example |\n",
    "| :-- | :-- |\n",
    "| `.max()` | `df['Height'].max()` |\n",
    "| `.min()` | `df['Weight'].min()` |\n",
    "| `.mean()` | `df['Time'].mean()` |\n",
    "| `.median()` | `df['Speed'].median()` |\n",
    "| `.value_counts()` | `df['Kind'].value_counts()` |\n"
   ]
  },
  {
   "cell_type": "markdown",
   "metadata": {},
   "source": [
    "What is the maximum number of trials that one subject performed?"
   ]
  },
  {
   "cell_type": "code",
   "execution_count": 8,
   "metadata": {
    "tags": [
     "exercise"
    ]
   },
   "outputs": [
    {
     "data": {
      "text/plain": [
       "Subject\n",
       "1     96\n",
       "2     96\n",
       "3     96\n",
       "4     96\n",
       "5     96\n",
       "6     96\n",
       "7     96\n",
       "8     96\n",
       "9     96\n",
       "10    96\n",
       "11    96\n",
       "12    96\n",
       "13    96\n",
       "14    96\n",
       "15    96\n",
       "16    96\n",
       "17    96\n",
       "18    96\n",
       "19    96\n",
       "20    96\n",
       "21    96\n",
       "22    96\n",
       "23    96\n",
       "24    96\n",
       "25    96\n",
       "26    96\n",
       "27    96\n",
       "28    96\n",
       "29    96\n",
       "30    96\n",
       "31    96\n",
       "32    96\n",
       "33    96\n",
       "34    96\n",
       "35    96\n",
       "36    96\n",
       "37    96\n",
       "38    96\n",
       "39    96\n",
       "40    96\n",
       "41    96\n",
       "42    96\n",
       "43    96\n",
       "44    96\n",
       "45    96\n",
       "46    96\n",
       "47    96\n",
       "48    96\n",
       "49    96\n",
       "50    96\n",
       "51    96\n",
       "52    96\n",
       "53    96\n",
       "54    96\n",
       "Name: Trial, dtype: int64"
      ]
     },
     "execution_count": 8,
     "metadata": {},
     "output_type": "execute_result"
    }
   ],
   "source": [
    "df.groupby('Subject')['Trial'].max()"
   ]
  },
  {
   "cell_type": "markdown",
   "metadata": {},
   "source": [
    "What was the median reaction time across all subjects?"
   ]
  },
  {
   "cell_type": "code",
   "execution_count": 9,
   "metadata": {
    "tags": [
     "exercise"
    ]
   },
   "outputs": [
    {
     "data": {
      "text/plain": [
       "np.float64(2402.0)"
      ]
     },
     "execution_count": 9,
     "metadata": {},
     "output_type": "execute_result"
    }
   ],
   "source": [
    "df['Time'].median()"
   ]
  },
  {
   "cell_type": "markdown",
   "metadata": {},
   "source": [
    "What was the average accuracy rate (i.e. proportion of correct trials) across all subjects?"
   ]
  },
  {
   "cell_type": "code",
   "execution_count": 10,
   "metadata": {
    "tags": [
     "exercise"
    ]
   },
   "outputs": [
    {
     "data": {
      "text/plain": [
       "np.float64(0.9045553145336226)"
      ]
     },
     "execution_count": 10,
     "metadata": {},
     "output_type": "execute_result"
    }
   ],
   "source": [
    "df['Correct'].value_counts()[1]/df['Correct'].size"
   ]
  },
  {
   "cell_type": "markdown",
   "metadata": {},
   "source": [
    "How many trials were shown at each Angle?"
   ]
  },
  {
   "cell_type": "code",
   "execution_count": 11,
   "metadata": {
    "tags": [
     "exercise"
    ]
   },
   "outputs": [
    {
     "data": {
      "text/plain": [
       "Angle\n",
       "0      1274\n",
       "50     1280\n",
       "100    1261\n",
       "150    1256\n",
       "Name: Trial, dtype: int64"
      ]
     },
     "execution_count": 11,
     "metadata": {},
     "output_type": "execute_result"
    }
   ],
   "source": [
    "df.groupby('Angle')['Trial'].size()"
   ]
  },
  {
   "cell_type": "markdown",
   "metadata": {},
   "source": [
    "How many trials were answered correctly and incorrectly, for each angle? (hint: `df[['A', 'B']]`)"
   ]
  },
  {
   "cell_type": "code",
   "execution_count": 12,
   "metadata": {},
   "outputs": [
    {
     "data": {
      "text/plain": [
       "Angle  Correct\n",
       "0      0            58\n",
       "       1          1216\n",
       "50     0            82\n",
       "       1          1198\n",
       "100    0           140\n",
       "       1          1121\n",
       "150    0           204\n",
       "       1          1052\n",
       "Name: count, dtype: int64"
      ]
     },
     "execution_count": 12,
     "metadata": {},
     "output_type": "execute_result"
    }
   ],
   "source": [
    "df.groupby('Angle')['Correct'].value_counts().sort_index()"
   ]
  },
  {
   "cell_type": "code",
   "execution_count": 13,
   "metadata": {},
   "outputs": [
    {
     "data": {
      "text/plain": [
       "Angle  Correct\n",
       "0      0            58\n",
       "       1          1216\n",
       "50     0            82\n",
       "       1          1198\n",
       "100    0           140\n",
       "       1          1121\n",
       "150    0           204\n",
       "       1          1052\n",
       "Name: count, dtype: int64"
      ]
     },
     "execution_count": 13,
     "metadata": {},
     "output_type": "execute_result"
    }
   ],
   "source": [
    "df[['Angle', 'Correct']].value_counts().sort_index()"
   ]
  },
  {
   "cell_type": "markdown",
   "metadata": {},
   "source": [
    "### Making New Columns\n",
    "\n",
    "| Syntax | \n",
    "| :-- |\n",
    "| `df['NewCol'] = df['OldCol'] * 10` |"
   ]
  },
  {
   "cell_type": "markdown",
   "metadata": {},
   "source": [
    "Make a \"TimeSecs\" column by converting the Time column to seconds by dividing it by 1000."
   ]
  },
  {
   "cell_type": "code",
   "execution_count": 14,
   "metadata": {
    "tags": [
     "exercise"
    ]
   },
   "outputs": [
    {
     "data": {
      "text/html": [
       "<div>\n",
       "<style scoped>\n",
       "    .dataframe tbody tr th:only-of-type {\n",
       "        vertical-align: middle;\n",
       "    }\n",
       "\n",
       "    .dataframe tbody tr th {\n",
       "        vertical-align: top;\n",
       "    }\n",
       "\n",
       "    .dataframe thead th {\n",
       "        text-align: right;\n",
       "    }\n",
       "</style>\n",
       "<table border=\"1\" class=\"dataframe\">\n",
       "  <thead>\n",
       "    <tr style=\"text-align: right;\">\n",
       "      <th></th>\n",
       "      <th>Subject</th>\n",
       "      <th>Trial</th>\n",
       "      <th>Angle</th>\n",
       "      <th>Matching</th>\n",
       "      <th>Response</th>\n",
       "      <th>Time</th>\n",
       "      <th>Correct</th>\n",
       "      <th>Age</th>\n",
       "      <th>Sex</th>\n",
       "      <th>TimeSecs</th>\n",
       "    </tr>\n",
       "  </thead>\n",
       "  <tbody>\n",
       "    <tr>\n",
       "      <th>0</th>\n",
       "      <td>49</td>\n",
       "      <td>1</td>\n",
       "      <td>0</td>\n",
       "      <td>0</td>\n",
       "      <td>n</td>\n",
       "      <td>3107</td>\n",
       "      <td>1</td>\n",
       "      <td>32</td>\n",
       "      <td>M</td>\n",
       "      <td>3.107</td>\n",
       "    </tr>\n",
       "    <tr>\n",
       "      <th>1</th>\n",
       "      <td>49</td>\n",
       "      <td>2</td>\n",
       "      <td>150</td>\n",
       "      <td>0</td>\n",
       "      <td>n</td>\n",
       "      <td>2930</td>\n",
       "      <td>1</td>\n",
       "      <td>32</td>\n",
       "      <td>M</td>\n",
       "      <td>2.930</td>\n",
       "    </tr>\n",
       "    <tr>\n",
       "      <th>2</th>\n",
       "      <td>49</td>\n",
       "      <td>3</td>\n",
       "      <td>150</td>\n",
       "      <td>1</td>\n",
       "      <td>b</td>\n",
       "      <td>1874</td>\n",
       "      <td>1</td>\n",
       "      <td>32</td>\n",
       "      <td>M</td>\n",
       "      <td>1.874</td>\n",
       "    </tr>\n",
       "    <tr>\n",
       "      <th>3</th>\n",
       "      <td>49</td>\n",
       "      <td>4</td>\n",
       "      <td>100</td>\n",
       "      <td>1</td>\n",
       "      <td>b</td>\n",
       "      <td>3793</td>\n",
       "      <td>1</td>\n",
       "      <td>32</td>\n",
       "      <td>M</td>\n",
       "      <td>3.793</td>\n",
       "    </tr>\n",
       "    <tr>\n",
       "      <th>4</th>\n",
       "      <td>49</td>\n",
       "      <td>5</td>\n",
       "      <td>50</td>\n",
       "      <td>1</td>\n",
       "      <td>b</td>\n",
       "      <td>2184</td>\n",
       "      <td>1</td>\n",
       "      <td>32</td>\n",
       "      <td>M</td>\n",
       "      <td>2.184</td>\n",
       "    </tr>\n",
       "    <tr>\n",
       "      <th>...</th>\n",
       "      <td>...</td>\n",
       "      <td>...</td>\n",
       "      <td>...</td>\n",
       "      <td>...</td>\n",
       "      <td>...</td>\n",
       "      <td>...</td>\n",
       "      <td>...</td>\n",
       "      <td>...</td>\n",
       "      <td>...</td>\n",
       "      <td>...</td>\n",
       "    </tr>\n",
       "    <tr>\n",
       "      <th>5066</th>\n",
       "      <td>33</td>\n",
       "      <td>92</td>\n",
       "      <td>150</td>\n",
       "      <td>1</td>\n",
       "      <td>b</td>\n",
       "      <td>2095</td>\n",
       "      <td>1</td>\n",
       "      <td>20</td>\n",
       "      <td>F</td>\n",
       "      <td>2.095</td>\n",
       "    </tr>\n",
       "    <tr>\n",
       "      <th>5067</th>\n",
       "      <td>33</td>\n",
       "      <td>93</td>\n",
       "      <td>150</td>\n",
       "      <td>0</td>\n",
       "      <td>n</td>\n",
       "      <td>2125</td>\n",
       "      <td>1</td>\n",
       "      <td>20</td>\n",
       "      <td>F</td>\n",
       "      <td>2.125</td>\n",
       "    </tr>\n",
       "    <tr>\n",
       "      <th>5068</th>\n",
       "      <td>33</td>\n",
       "      <td>94</td>\n",
       "      <td>50</td>\n",
       "      <td>0</td>\n",
       "      <td>n</td>\n",
       "      <td>1226</td>\n",
       "      <td>1</td>\n",
       "      <td>20</td>\n",
       "      <td>F</td>\n",
       "      <td>1.226</td>\n",
       "    </tr>\n",
       "    <tr>\n",
       "      <th>5069</th>\n",
       "      <td>33</td>\n",
       "      <td>95</td>\n",
       "      <td>100</td>\n",
       "      <td>1</td>\n",
       "      <td>b</td>\n",
       "      <td>2783</td>\n",
       "      <td>1</td>\n",
       "      <td>20</td>\n",
       "      <td>F</td>\n",
       "      <td>2.783</td>\n",
       "    </tr>\n",
       "    <tr>\n",
       "      <th>5070</th>\n",
       "      <td>33</td>\n",
       "      <td>96</td>\n",
       "      <td>0</td>\n",
       "      <td>0</td>\n",
       "      <td>n</td>\n",
       "      <td>1017</td>\n",
       "      <td>1</td>\n",
       "      <td>20</td>\n",
       "      <td>F</td>\n",
       "      <td>1.017</td>\n",
       "    </tr>\n",
       "  </tbody>\n",
       "</table>\n",
       "<p>5071 rows × 10 columns</p>\n",
       "</div>"
      ],
      "text/plain": [
       "      Subject  Trial  Angle  Matching Response  Time  Correct  Age Sex  \\\n",
       "0          49      1      0         0        n  3107        1   32   M   \n",
       "1          49      2    150         0        n  2930        1   32   M   \n",
       "2          49      3    150         1        b  1874        1   32   M   \n",
       "3          49      4    100         1        b  3793        1   32   M   \n",
       "4          49      5     50         1        b  2184        1   32   M   \n",
       "...       ...    ...    ...       ...      ...   ...      ...  ...  ..   \n",
       "5066       33     92    150         1        b  2095        1   20   F   \n",
       "5067       33     93    150         0        n  2125        1   20   F   \n",
       "5068       33     94     50         0        n  1226        1   20   F   \n",
       "5069       33     95    100         1        b  2783        1   20   F   \n",
       "5070       33     96      0         0        n  1017        1   20   F   \n",
       "\n",
       "      TimeSecs  \n",
       "0        3.107  \n",
       "1        2.930  \n",
       "2        1.874  \n",
       "3        3.793  \n",
       "4        2.184  \n",
       "...        ...  \n",
       "5066     2.095  \n",
       "5067     2.125  \n",
       "5068     1.226  \n",
       "5069     2.783  \n",
       "5070     1.017  \n",
       "\n",
       "[5071 rows x 10 columns]"
      ]
     },
     "execution_count": 14,
     "metadata": {},
     "output_type": "execute_result"
    }
   ],
   "source": [
    "df['TimeSecs'] = df['Time'] / 1E3\n",
    "df"
   ]
  },
  {
   "cell_type": "markdown",
   "metadata": {},
   "source": [
    "Make an \"IsCorrect\" column by converting the \"Correct\" column to *bool* (True/False) values"
   ]
  },
  {
   "cell_type": "code",
   "execution_count": 15,
   "metadata": {
    "tags": [
     "exercise"
    ]
   },
   "outputs": [
    {
     "data": {
      "text/html": [
       "<div>\n",
       "<style scoped>\n",
       "    .dataframe tbody tr th:only-of-type {\n",
       "        vertical-align: middle;\n",
       "    }\n",
       "\n",
       "    .dataframe tbody tr th {\n",
       "        vertical-align: top;\n",
       "    }\n",
       "\n",
       "    .dataframe thead th {\n",
       "        text-align: right;\n",
       "    }\n",
       "</style>\n",
       "<table border=\"1\" class=\"dataframe\">\n",
       "  <thead>\n",
       "    <tr style=\"text-align: right;\">\n",
       "      <th></th>\n",
       "      <th>Subject</th>\n",
       "      <th>Trial</th>\n",
       "      <th>Angle</th>\n",
       "      <th>Matching</th>\n",
       "      <th>Response</th>\n",
       "      <th>Time</th>\n",
       "      <th>Correct</th>\n",
       "      <th>Age</th>\n",
       "      <th>Sex</th>\n",
       "      <th>TimeSecs</th>\n",
       "      <th>IsCorrect</th>\n",
       "    </tr>\n",
       "  </thead>\n",
       "  <tbody>\n",
       "    <tr>\n",
       "      <th>0</th>\n",
       "      <td>49</td>\n",
       "      <td>1</td>\n",
       "      <td>0</td>\n",
       "      <td>0</td>\n",
       "      <td>n</td>\n",
       "      <td>3107</td>\n",
       "      <td>1</td>\n",
       "      <td>32</td>\n",
       "      <td>M</td>\n",
       "      <td>3.107</td>\n",
       "      <td>True</td>\n",
       "    </tr>\n",
       "    <tr>\n",
       "      <th>1</th>\n",
       "      <td>49</td>\n",
       "      <td>2</td>\n",
       "      <td>150</td>\n",
       "      <td>0</td>\n",
       "      <td>n</td>\n",
       "      <td>2930</td>\n",
       "      <td>1</td>\n",
       "      <td>32</td>\n",
       "      <td>M</td>\n",
       "      <td>2.930</td>\n",
       "      <td>True</td>\n",
       "    </tr>\n",
       "    <tr>\n",
       "      <th>2</th>\n",
       "      <td>49</td>\n",
       "      <td>3</td>\n",
       "      <td>150</td>\n",
       "      <td>1</td>\n",
       "      <td>b</td>\n",
       "      <td>1874</td>\n",
       "      <td>1</td>\n",
       "      <td>32</td>\n",
       "      <td>M</td>\n",
       "      <td>1.874</td>\n",
       "      <td>True</td>\n",
       "    </tr>\n",
       "    <tr>\n",
       "      <th>3</th>\n",
       "      <td>49</td>\n",
       "      <td>4</td>\n",
       "      <td>100</td>\n",
       "      <td>1</td>\n",
       "      <td>b</td>\n",
       "      <td>3793</td>\n",
       "      <td>1</td>\n",
       "      <td>32</td>\n",
       "      <td>M</td>\n",
       "      <td>3.793</td>\n",
       "      <td>True</td>\n",
       "    </tr>\n",
       "    <tr>\n",
       "      <th>4</th>\n",
       "      <td>49</td>\n",
       "      <td>5</td>\n",
       "      <td>50</td>\n",
       "      <td>1</td>\n",
       "      <td>b</td>\n",
       "      <td>2184</td>\n",
       "      <td>1</td>\n",
       "      <td>32</td>\n",
       "      <td>M</td>\n",
       "      <td>2.184</td>\n",
       "      <td>True</td>\n",
       "    </tr>\n",
       "    <tr>\n",
       "      <th>...</th>\n",
       "      <td>...</td>\n",
       "      <td>...</td>\n",
       "      <td>...</td>\n",
       "      <td>...</td>\n",
       "      <td>...</td>\n",
       "      <td>...</td>\n",
       "      <td>...</td>\n",
       "      <td>...</td>\n",
       "      <td>...</td>\n",
       "      <td>...</td>\n",
       "      <td>...</td>\n",
       "    </tr>\n",
       "    <tr>\n",
       "      <th>5066</th>\n",
       "      <td>33</td>\n",
       "      <td>92</td>\n",
       "      <td>150</td>\n",
       "      <td>1</td>\n",
       "      <td>b</td>\n",
       "      <td>2095</td>\n",
       "      <td>1</td>\n",
       "      <td>20</td>\n",
       "      <td>F</td>\n",
       "      <td>2.095</td>\n",
       "      <td>True</td>\n",
       "    </tr>\n",
       "    <tr>\n",
       "      <th>5067</th>\n",
       "      <td>33</td>\n",
       "      <td>93</td>\n",
       "      <td>150</td>\n",
       "      <td>0</td>\n",
       "      <td>n</td>\n",
       "      <td>2125</td>\n",
       "      <td>1</td>\n",
       "      <td>20</td>\n",
       "      <td>F</td>\n",
       "      <td>2.125</td>\n",
       "      <td>True</td>\n",
       "    </tr>\n",
       "    <tr>\n",
       "      <th>5068</th>\n",
       "      <td>33</td>\n",
       "      <td>94</td>\n",
       "      <td>50</td>\n",
       "      <td>0</td>\n",
       "      <td>n</td>\n",
       "      <td>1226</td>\n",
       "      <td>1</td>\n",
       "      <td>20</td>\n",
       "      <td>F</td>\n",
       "      <td>1.226</td>\n",
       "      <td>True</td>\n",
       "    </tr>\n",
       "    <tr>\n",
       "      <th>5069</th>\n",
       "      <td>33</td>\n",
       "      <td>95</td>\n",
       "      <td>100</td>\n",
       "      <td>1</td>\n",
       "      <td>b</td>\n",
       "      <td>2783</td>\n",
       "      <td>1</td>\n",
       "      <td>20</td>\n",
       "      <td>F</td>\n",
       "      <td>2.783</td>\n",
       "      <td>True</td>\n",
       "    </tr>\n",
       "    <tr>\n",
       "      <th>5070</th>\n",
       "      <td>33</td>\n",
       "      <td>96</td>\n",
       "      <td>0</td>\n",
       "      <td>0</td>\n",
       "      <td>n</td>\n",
       "      <td>1017</td>\n",
       "      <td>1</td>\n",
       "      <td>20</td>\n",
       "      <td>F</td>\n",
       "      <td>1.017</td>\n",
       "      <td>True</td>\n",
       "    </tr>\n",
       "  </tbody>\n",
       "</table>\n",
       "<p>5071 rows × 11 columns</p>\n",
       "</div>"
      ],
      "text/plain": [
       "      Subject  Trial  Angle  Matching Response  Time  Correct  Age Sex  \\\n",
       "0          49      1      0         0        n  3107        1   32   M   \n",
       "1          49      2    150         0        n  2930        1   32   M   \n",
       "2          49      3    150         1        b  1874        1   32   M   \n",
       "3          49      4    100         1        b  3793        1   32   M   \n",
       "4          49      5     50         1        b  2184        1   32   M   \n",
       "...       ...    ...    ...       ...      ...   ...      ...  ...  ..   \n",
       "5066       33     92    150         1        b  2095        1   20   F   \n",
       "5067       33     93    150         0        n  2125        1   20   F   \n",
       "5068       33     94     50         0        n  1226        1   20   F   \n",
       "5069       33     95    100         1        b  2783        1   20   F   \n",
       "5070       33     96      0         0        n  1017        1   20   F   \n",
       "\n",
       "      TimeSecs  IsCorrect  \n",
       "0        3.107       True  \n",
       "1        2.930       True  \n",
       "2        1.874       True  \n",
       "3        3.793       True  \n",
       "4        2.184       True  \n",
       "...        ...        ...  \n",
       "5066     2.095       True  \n",
       "5067     2.125       True  \n",
       "5068     1.226       True  \n",
       "5069     2.783       True  \n",
       "5070     1.017       True  \n",
       "\n",
       "[5071 rows x 11 columns]"
      ]
     },
     "execution_count": 15,
     "metadata": {},
     "output_type": "execute_result"
    }
   ],
   "source": [
    "df['IsCorrect'] = df['Correct'] == 1\n",
    "df"
   ]
  },
  {
   "cell_type": "markdown",
   "metadata": {},
   "source": [
    "### Logical Indexing\n",
    "\n",
    "| Syntax |\n",
    "| :-- |\n",
    "| `df[df['Time'] > 3]` |"
   ]
  },
  {
   "cell_type": "markdown",
   "metadata": {},
   "source": [
    "Example: How many trials used an angle of 150?"
   ]
  },
  {
   "cell_type": "code",
   "execution_count": 16,
   "metadata": {},
   "outputs": [
    {
     "data": {
      "text/plain": [
       "1256"
      ]
     },
     "execution_count": 16,
     "metadata": {},
     "output_type": "execute_result"
    }
   ],
   "source": [
    "len(df[df['Angle'] == 150])"
   ]
  },
  {
   "cell_type": "markdown",
   "metadata": {},
   "source": [
    "How many trials had response times longer than 3 seconds?"
   ]
  },
  {
   "cell_type": "code",
   "execution_count": 17,
   "metadata": {
    "tags": [
     "exercise"
    ]
   },
   "outputs": [
    {
     "data": {
      "text/plain": [
       "1723"
      ]
     },
     "execution_count": 17,
     "metadata": {},
     "output_type": "execute_result"
    }
   ],
   "source": [
    "len(df[df['TimeSecs'] > 3]) #<"
   ]
  },
  {
   "cell_type": "markdown",
   "metadata": {},
   "source": [
    "What was the accuracy of subject 9?"
   ]
  },
  {
   "cell_type": "code",
   "execution_count": 18,
   "metadata": {
    "tags": [
     "exercise"
    ]
   },
   "outputs": [
    {
     "data": {
      "text/plain": [
       "np.float64(0.9578947368421052)"
      ]
     },
     "execution_count": 18,
     "metadata": {},
     "output_type": "execute_result"
    }
   ],
   "source": [
    "df[df['Subject'] == 9]['IsCorrect'].sum()/len(df[df['Subject'] == 9])"
   ]
  },
  {
   "cell_type": "code",
   "execution_count": 19,
   "metadata": {},
   "outputs": [
    {
     "data": {
      "text/plain": [
       "np.float64(0.9578947368421052)"
      ]
     },
     "execution_count": 19,
     "metadata": {},
     "output_type": "execute_result"
    }
   ],
   "source": [
    "df[df['Subject'] == 9]['IsCorrect'].mean()"
   ]
  },
  {
   "cell_type": "markdown",
   "metadata": {},
   "source": [
    "What was the average response time of subject 32?"
   ]
  },
  {
   "cell_type": "code",
   "execution_count": 20,
   "metadata": {
    "tags": [
     "exercise"
    ]
   },
   "outputs": [
    {
     "data": {
      "text/plain": [
       "np.float64(2608.452631578947)"
      ]
     },
     "execution_count": 20,
     "metadata": {},
     "output_type": "execute_result"
    }
   ],
   "source": [
    "df[df['Subject'] == 32].Time.mean()"
   ]
  },
  {
   "cell_type": "markdown",
   "metadata": {},
   "source": [
    "What was the average response time for subject 12 on trials with an Angle of 50? (Hint: `(A) & (B)`)"
   ]
  },
  {
   "cell_type": "code",
   "execution_count": 21,
   "metadata": {
    "tags": [
     "exercise"
    ]
   },
   "outputs": [
    {
     "data": {
      "text/plain": [
       "np.float64(1871.9166666666667)"
      ]
     },
     "execution_count": 21,
     "metadata": {},
     "output_type": "execute_result"
    }
   ],
   "source": [
    "df[(df['Subject'] == 12) & (df['Angle'] == 50)]['Time'].mean()"
   ]
  },
  {
   "cell_type": "markdown",
   "metadata": {},
   "source": [
    "Was there an overall difference in response accuracy between matching and non-matching trials?"
   ]
  },
  {
   "cell_type": "code",
   "execution_count": 22,
   "metadata": {},
   "outputs": [
    {
     "data": {
      "text/plain": [
       "Matching\n",
       "0    0.909163\n",
       "1    0.899961\n",
       "Name: Correct, dtype: float64"
      ]
     },
     "execution_count": 22,
     "metadata": {},
     "output_type": "execute_result"
    }
   ],
   "source": [
    "df.groupby('Matching')['Correct'].mean()"
   ]
  },
  {
   "cell_type": "code",
   "execution_count": 23,
   "metadata": {
    "tags": [
     "exercise"
    ]
   },
   "outputs": [
    {
     "data": {
      "text/plain": [
       "Matching  IsCorrect\n",
       "0         False         230\n",
       "          True         2302\n",
       "1         False         254\n",
       "          True         2285\n",
       "Name: count, dtype: int64"
      ]
     },
     "execution_count": 23,
     "metadata": {},
     "output_type": "execute_result"
    }
   ],
   "source": [
    "df[['Matching', 'IsCorrect']].value_counts().sort_index()"
   ]
  },
  {
   "cell_type": "markdown",
   "metadata": {},
   "source": [
    "Is there a response time difference between matching and nonmatching\n",
    "trials?"
   ]
  },
  {
   "cell_type": "code",
   "execution_count": 24,
   "metadata": {
    "tags": [
     "exercise"
    ]
   },
   "outputs": [],
   "source": [
    "# Can do a logreg to find out, but I can't be bothered. There's no a meaningful/statistically significant difference, is my guess."
   ]
  },
  {
   "cell_type": "markdown",
   "metadata": {},
   "source": [
    "## Group By\n",
    "\n",
    "| Syntax |\n",
    "| :-- |\n",
    "| `df.groupby('Age').Time.mean()` |"
   ]
  },
  {
   "cell_type": "markdown",
   "metadata": {},
   "source": [
    "Example: What was the response accuracy for matching and non-matching trials?"
   ]
  },
  {
   "cell_type": "code",
   "execution_count": 25,
   "metadata": {},
   "outputs": [
    {
     "data": {
      "text/plain": [
       "Matching\n",
       "0    0.909163\n",
       "1    0.899961\n",
       "Name: IsCorrect, dtype: float64"
      ]
     },
     "execution_count": 25,
     "metadata": {},
     "output_type": "execute_result"
    }
   ],
   "source": [
    "df.groupby('Matching').IsCorrect.mean()"
   ]
  },
  {
   "cell_type": "markdown",
   "metadata": {},
   "source": [
    "Example: What was the response accuracy for Each Angle?"
   ]
  },
  {
   "cell_type": "code",
   "execution_count": 26,
   "metadata": {
    "tags": [
     "exercise"
    ]
   },
   "outputs": [
    {
     "data": {
      "text/html": [
       "<div>\n",
       "<style scoped>\n",
       "    .dataframe tbody tr th:only-of-type {\n",
       "        vertical-align: middle;\n",
       "    }\n",
       "\n",
       "    .dataframe tbody tr th {\n",
       "        vertical-align: top;\n",
       "    }\n",
       "\n",
       "    .dataframe thead th {\n",
       "        text-align: right;\n",
       "    }\n",
       "</style>\n",
       "<table border=\"1\" class=\"dataframe\">\n",
       "  <thead>\n",
       "    <tr style=\"text-align: right;\">\n",
       "      <th></th>\n",
       "      <th>Angle</th>\n",
       "      <th>IsCorrect</th>\n",
       "    </tr>\n",
       "  </thead>\n",
       "  <tbody>\n",
       "    <tr>\n",
       "      <th>0</th>\n",
       "      <td>0</td>\n",
       "      <td>0.954474</td>\n",
       "    </tr>\n",
       "    <tr>\n",
       "      <th>1</th>\n",
       "      <td>50</td>\n",
       "      <td>0.935937</td>\n",
       "    </tr>\n",
       "    <tr>\n",
       "      <th>2</th>\n",
       "      <td>100</td>\n",
       "      <td>0.888977</td>\n",
       "    </tr>\n",
       "    <tr>\n",
       "      <th>3</th>\n",
       "      <td>150</td>\n",
       "      <td>0.837580</td>\n",
       "    </tr>\n",
       "  </tbody>\n",
       "</table>\n",
       "</div>"
      ],
      "text/plain": [
       "   Angle  IsCorrect\n",
       "0      0   0.954474\n",
       "1     50   0.935937\n",
       "2    100   0.888977\n",
       "3    150   0.837580"
      ]
     },
     "execution_count": 26,
     "metadata": {},
     "output_type": "execute_result"
    }
   ],
   "source": [
    "df.groupby('Angle', as_index=False).IsCorrect.mean()"
   ]
  },
  {
   "cell_type": "markdown",
   "metadata": {},
   "source": [
    "What was the response accuracy for each Angle and Matching/Nonmatching value?"
   ]
  },
  {
   "cell_type": "code",
   "execution_count": 44,
   "metadata": {
    "tags": [
     "exercise"
    ]
   },
   "outputs": [
    {
     "data": {
      "text/plain": [
       "Angle  Matching\n",
       "0      0           0.924647\n",
       "       1           0.984301\n",
       "50     0           0.949843\n",
       "       1           0.922118\n",
       "100    0           0.897764\n",
       "       1           0.880315\n",
       "150    0           0.863708\n",
       "       1           0.811200\n",
       "Name: IsCorrect, dtype: float64"
      ]
     },
     "execution_count": 44,
     "metadata": {},
     "output_type": "execute_result"
    }
   ],
   "source": [
    "df.groupby(['Angle', 'Matching']).IsCorrect.mean()"
   ]
  },
  {
   "cell_type": "markdown",
   "metadata": {},
   "source": [
    "What was the average response time for each Angle and Matching/Nonmatching value?"
   ]
  },
  {
   "cell_type": "code",
   "execution_count": 46,
   "metadata": {
    "tags": [
     "exercise"
    ]
   },
   "outputs": [
    {
     "data": {
      "text/plain": [
       "Angle  Matching\n",
       "0      0           2.350322\n",
       "       1           1.554967\n",
       "50     0           2.616078\n",
       "       1           2.508193\n",
       "100    0           3.169240\n",
       "       1           3.107849\n",
       "150    0           3.244274\n",
       "       1           3.332629\n",
       "Name: TimeSecs, dtype: float64"
      ]
     },
     "execution_count": 46,
     "metadata": {},
     "output_type": "execute_result"
    }
   ],
   "source": [
    "df.groupby(['Angle', 'Matching']).TimeSecs.mean()"
   ]
  },
  {
   "cell_type": "markdown",
   "metadata": {},
   "source": [
    "What was the average response time for each Angle and Matching/Nonmatching value, for each subject?"
   ]
  },
  {
   "cell_type": "code",
   "execution_count": 52,
   "metadata": {
    "tags": [
     "exercise"
    ]
   },
   "outputs": [
    {
     "data": {
      "text/plain": [
       "Subject  Angle  Matching\n",
       "1        0      0           1.909750\n",
       "                1           1.114500\n",
       "         50     0           2.152583\n",
       "                1           1.926250\n",
       "         100    0           2.846000\n",
       "                1           3.070333\n",
       "         150    0           2.933583\n",
       "                1           3.239167\n",
       "2        0      0           1.525250\n",
       "                1           1.007273\n",
       "         50     0           2.043083\n",
       "                1           1.492000\n",
       "         100    0           2.742000\n",
       "                1           2.082750\n",
       "         150    0           3.139000\n",
       "                1           2.475364\n",
       "3        0      0           2.200909\n",
       "                1           1.181417\n",
       "         50     0           1.943000\n",
       "                1           1.781750\n",
       "         100    0           2.744167\n",
       "                1           3.049000\n",
       "         150    0           2.581167\n",
       "                1           2.598000\n",
       "4        0      0           1.784583\n",
       "                1           1.266364\n",
       "         50     0           1.994917\n",
       "                1           2.051583\n",
       "         100    0           2.585833\n",
       "                1           1.934000\n",
       "         150    0           2.597500\n",
       "                1           2.186333\n",
       "5        0      0           2.915833\n",
       "                1           1.423250\n",
       "         50     0           3.490000\n",
       "                1           1.534583\n",
       "         100    0           2.685091\n",
       "                1           2.490250\n",
       "         150    0           2.796833\n",
       "                1           2.454750\n",
       "6        0      0           1.471083\n",
       "                1           1.133833\n",
       "         50     0           1.478583\n",
       "                1           1.286000\n",
       "         100    0           1.605333\n",
       "                1           1.577917\n",
       "         150    0           1.687333\n",
       "                1           2.020667\n",
       "7        0      0           2.671500\n",
       "                1           1.752917\n",
       "         50     0           3.240667\n",
       "                1           2.787583\n",
       "         100    0           3.153667\n",
       "                1           2.632250\n",
       "         150    0           2.868083\n",
       "                1           3.324750\n",
       "8        0      0           1.674333\n",
       "                1           1.230167\n",
       "         50     0           1.939000\n",
       "                1           1.709250\n",
       "         100    0           3.026500\n",
       "                1           2.631583\n",
       "         150    0           2.728000\n",
       "                1           2.870167\n",
       "9        0      0           2.293500\n",
       "                1           1.730750\n",
       "         50     0           2.480417\n",
       "                1           2.521583\n",
       "         100    0           3.005500\n",
       "                1           2.926000\n",
       "         150    0           3.376083\n",
       "                1           3.655545\n",
       "10       0      0           2.598250\n",
       "                1           1.280417\n",
       "         50     0           3.219250\n",
       "                1           2.865100\n",
       "         100    0           4.694364\n",
       "                1           5.277000\n",
       "         150    0           4.295417\n",
       "                1           4.326636\n",
       "11       0      0           2.087083\n",
       "                1           1.529750\n",
       "         50     0           2.615083\n",
       "                1           2.762167\n",
       "         100    0           3.917000\n",
       "                1           3.757818\n",
       "         150    0           3.819500\n",
       "                1           4.564083\n",
       "12       0      0           2.033333\n",
       "                1           1.248417\n",
       "         50     0           1.773833\n",
       "                1           1.970000\n",
       "         100    0           2.430545\n",
       "                1           2.867750\n",
       "         150    0           2.605917\n",
       "                1           2.551636\n",
       "13       0      0           1.016364\n",
       "                1           0.961125\n",
       "         50     0           1.288273\n",
       "                1           1.356300\n",
       "         100    0           1.722583\n",
       "                1           1.570667\n",
       "         150    0           2.189250\n",
       "                1           2.068333\n",
       "14       0      0           1.371750\n",
       "                1           1.122667\n",
       "         50     0           1.496250\n",
       "                1           1.575500\n",
       "         100    0           1.944167\n",
       "                1           1.807833\n",
       "         150    0           1.711417\n",
       "                1           1.851917\n",
       "15       0      0           2.457667\n",
       "                1           1.339917\n",
       "         50     0           1.798727\n",
       "                1           2.072167\n",
       "         100    0           2.852000\n",
       "                1           2.443583\n",
       "         150    0           2.669333\n",
       "                1           2.998917\n",
       "16       0      0           2.160417\n",
       "                1           1.944833\n",
       "         50     0           2.767000\n",
       "                1           2.479000\n",
       "         100    0           3.114500\n",
       "                1           3.473000\n",
       "         150    0           3.057909\n",
       "                1           3.606083\n",
       "17       0      0           1.633000\n",
       "                1           1.513000\n",
       "         50     0           1.879667\n",
       "                1           2.373667\n",
       "         100    0           2.794417\n",
       "                1           3.159417\n",
       "         150    0           2.983000\n",
       "                1           3.891545\n",
       "18       0      0           3.759727\n",
       "                1           1.890333\n",
       "         50     0           4.369545\n",
       "                1           3.526250\n",
       "         100    0           4.351000\n",
       "                1           5.226636\n",
       "         150    0           5.100222\n",
       "                1           4.698182\n",
       "19       0      0           4.983182\n",
       "                1           2.229167\n",
       "         50     0           5.107556\n",
       "                1           4.218900\n",
       "         100    0           4.805300\n",
       "                1           4.687500\n",
       "         150    0           4.538833\n",
       "                1           5.014636\n",
       "20       0      0           1.348833\n",
       "                1           1.396250\n",
       "         50     0           2.021833\n",
       "                1           2.053500\n",
       "         100    0           2.559833\n",
       "                1           2.404000\n",
       "         150    0           2.576833\n",
       "                1           2.798167\n",
       "21       0      0           1.491455\n",
       "                1           1.079545\n",
       "         50     0           1.363417\n",
       "                1           1.969083\n",
       "         100    0           1.888250\n",
       "                1           1.880083\n",
       "         150    0           1.777667\n",
       "                1           1.686500\n",
       "22       0      0           3.355583\n",
       "                1           1.688083\n",
       "         50     0           4.323833\n",
       "                1           3.121750\n",
       "         100    0           4.385273\n",
       "                1           3.931333\n",
       "         150    0           4.665800\n",
       "                1           4.564818\n",
       "23       0      0           2.008667\n",
       "                1           1.149667\n",
       "         50     0           1.965250\n",
       "                1           2.161583\n",
       "         100    0           2.362167\n",
       "                1           2.531000\n",
       "         150    0           2.483583\n",
       "                1           2.594583\n",
       "24       0      0           1.995917\n",
       "                1           1.507667\n",
       "         50     0           2.134833\n",
       "                1           2.261250\n",
       "         100    0           2.653455\n",
       "                1           2.785250\n",
       "         150    0           3.526333\n",
       "                1           2.940273\n",
       "25       0      0           1.344917\n",
       "                1           1.072700\n",
       "         50     0           1.418250\n",
       "                1           1.497667\n",
       "         100    0           2.145000\n",
       "                1           2.055000\n",
       "         150    0           2.220083\n",
       "                1           2.037917\n",
       "26       0      0           1.785167\n",
       "                1           1.232417\n",
       "         50     0           2.042083\n",
       "                1           1.778833\n",
       "         100    0           2.710583\n",
       "                1           2.478545\n",
       "         150    0           2.346667\n",
       "                1           3.563917\n",
       "27       0      0           2.228083\n",
       "                1           2.003917\n",
       "         50     0           2.661000\n",
       "                1           2.603333\n",
       "         100    0           2.698333\n",
       "                1           2.616833\n",
       "         150    0           3.117917\n",
       "                1           3.148455\n",
       "28       0      0           2.168833\n",
       "                1           1.191083\n",
       "         50     0           2.191583\n",
       "                1           2.686083\n",
       "         100    0           2.872333\n",
       "                1           2.861167\n",
       "         150    0           3.009667\n",
       "                1           2.922750\n",
       "29       0      0           2.855727\n",
       "                1           1.413636\n",
       "         50     0           2.683727\n",
       "                1           2.672333\n",
       "         100    0           3.127455\n",
       "                1           3.805636\n",
       "         150    0           3.634667\n",
       "                1           2.780909\n",
       "30       0      0           2.540917\n",
       "                1           1.411583\n",
       "         50     0           3.105333\n",
       "                1           2.186917\n",
       "         100    0           4.634700\n",
       "                1           3.457667\n",
       "         150    0           4.726727\n",
       "                1           3.754000\n",
       "31       0      0           2.694833\n",
       "                1           1.283750\n",
       "         50     0           2.572000\n",
       "                1           3.850333\n",
       "         100    0           4.489909\n",
       "                1           4.476600\n",
       "         150    0           4.247500\n",
       "                1           4.919500\n",
       "32       0      0           3.132167\n",
       "                1           1.340250\n",
       "         50     0           2.840750\n",
       "                1           1.904667\n",
       "         100    0           3.155909\n",
       "                1           2.757333\n",
       "         150    0           3.081417\n",
       "                1           2.700750\n",
       "33       0      0           1.647417\n",
       "                1           1.298417\n",
       "         50     0           2.099000\n",
       "                1           1.645250\n",
       "         100    0           1.841455\n",
       "                1           1.968583\n",
       "         150    0           2.849417\n",
       "                1           2.186833\n",
       "34       0      0           2.433417\n",
       "                1           1.737250\n",
       "         50     0           3.098750\n",
       "                1           2.929250\n",
       "         100    0           4.216083\n",
       "                1           3.069455\n",
       "         150    0           3.774250\n",
       "                1           4.203750\n",
       "35       0      0           2.647667\n",
       "                1           1.544500\n",
       "         50     0           3.395750\n",
       "                1           2.686417\n",
       "         100    0           3.260909\n",
       "                1           3.312000\n",
       "         150    0           3.500000\n",
       "                1           3.463500\n",
       "36       0      0           1.918250\n",
       "                1           1.221833\n",
       "         50     0           1.969000\n",
       "                1           2.122750\n",
       "         100    0           2.779750\n",
       "                1           2.733167\n",
       "         150    0           2.927083\n",
       "                1           3.510667\n",
       "37       0      0           1.976250\n",
       "                1           1.478917\n",
       "         50     0           2.470750\n",
       "                1           2.612000\n",
       "         100    0           2.720000\n",
       "                1           2.639417\n",
       "         150    0           2.791417\n",
       "                1           2.933917\n",
       "38       0      0           3.264500\n",
       "                1           1.502083\n",
       "         50     0           3.416583\n",
       "                1           2.852083\n",
       "         100    0           4.336583\n",
       "                1           3.927083\n",
       "         150    0           3.692167\n",
       "                1           3.831273\n",
       "39       0      0           2.315667\n",
       "                1           1.787083\n",
       "         50     0           2.627333\n",
       "                1           2.594500\n",
       "         100    0           2.931000\n",
       "                1           2.615667\n",
       "         150    0           2.694750\n",
       "                1           3.302583\n",
       "40       0      0           2.414583\n",
       "                1           1.810917\n",
       "         50     0           3.101833\n",
       "                1           3.001583\n",
       "         100    0           2.960636\n",
       "                1           3.733182\n",
       "         150    0           3.961667\n",
       "                1           4.502273\n",
       "41       0      0           1.640667\n",
       "                1           1.409000\n",
       "         50     0           1.918083\n",
       "                1           2.800833\n",
       "         100    0           2.715333\n",
       "                1           2.917583\n",
       "         150    0           2.918250\n",
       "                1           3.959636\n",
       "42       0      0           2.322583\n",
       "                1           2.054333\n",
       "         50     0           1.892917\n",
       "                1           2.577167\n",
       "         100    0           2.804583\n",
       "                1           2.926000\n",
       "         150    0           3.186583\n",
       "                1           3.452333\n",
       "43       0      0           2.149417\n",
       "                1           2.033333\n",
       "         50     0           2.790667\n",
       "                1           3.301750\n",
       "         100    0           3.213545\n",
       "                1           4.236833\n",
       "         150    0           4.191182\n",
       "                1           4.279917\n",
       "44       0      0           3.289333\n",
       "                1           3.203167\n",
       "         50     0           4.643545\n",
       "                1           4.285750\n",
       "         100    0           5.336182\n",
       "                1           4.585667\n",
       "         150    0           5.398900\n",
       "                1           4.592182\n",
       "45       0      0           2.553250\n",
       "                1           1.243333\n",
       "         50     0           2.765750\n",
       "                1           2.773250\n",
       "         100    0           4.370500\n",
       "                1           4.424750\n",
       "         150    0           3.313273\n",
       "                1           4.492273\n",
       "46       0      0           3.359000\n",
       "                1           1.492500\n",
       "         50     0           4.193417\n",
       "                1           3.450500\n",
       "         100    0           4.518667\n",
       "                1           3.326333\n",
       "         150    0           4.109818\n",
       "                1           4.018545\n",
       "47       0      0           1.978545\n",
       "                1           1.483750\n",
       "         50     0           2.038500\n",
       "                1           2.964000\n",
       "         100    0           3.760818\n",
       "                1           3.668182\n",
       "         150    0           4.015545\n",
       "                1           3.733083\n",
       "48       0      0           2.018250\n",
       "                1           1.077417\n",
       "         50     0           2.288333\n",
       "                1           2.629250\n",
       "         100    0           3.089000\n",
       "                1           3.098333\n",
       "         150    0           3.388700\n",
       "                1           2.965417\n",
       "49       0      0           2.396250\n",
       "                1           1.609833\n",
       "         50     0           2.465667\n",
       "                1           2.353083\n",
       "         100    0           2.843167\n",
       "                1           2.667500\n",
       "         150    0           3.530000\n",
       "                1           3.213167\n",
       "50       0      0           3.121917\n",
       "                1           2.242091\n",
       "         50     0           3.326545\n",
       "                1           2.787917\n",
       "         100    0           3.619667\n",
       "                1           3.397083\n",
       "         150    0           3.564500\n",
       "                1           3.101000\n",
       "51       0      0           1.915333\n",
       "                1           1.415500\n",
       "         50     0           2.151250\n",
       "                1           1.923083\n",
       "         100    0           2.285583\n",
       "                1           3.110333\n",
       "         150    0           2.713417\n",
       "                1           2.422417\n",
       "52       0      0           3.225364\n",
       "                1           3.442250\n",
       "         50     0           3.494000\n",
       "                1           3.302667\n",
       "         100    0           3.769917\n",
       "                1           3.482750\n",
       "         150    0           3.358500\n",
       "                1           3.714667\n",
       "53       0      0           4.153545\n",
       "                1           2.227583\n",
       "         50     0           4.104500\n",
       "                1           4.448250\n",
       "         100    0           3.879000\n",
       "                1           5.108250\n",
       "         150    0           4.168364\n",
       "                1           4.890111\n",
       "54       0      0           3.209182\n",
       "                1           1.640333\n",
       "         50     0           3.435083\n",
       "                1           2.516750\n",
       "         100    0           4.229417\n",
       "                1           3.180182\n",
       "         150    0           3.566818\n",
       "                1           3.514000\n",
       "Name: TimeSecs, dtype: float64"
      ]
     },
     "execution_count": 52,
     "metadata": {},
     "output_type": "execute_result"
    }
   ],
   "source": [
    "pd.set_option('display.max_rows', None)\n",
    "df.groupby(['Subject', 'Angle', 'Matching']).TimeSecs.mean()"
   ]
  },
  {
   "attachments": {},
   "cell_type": "markdown",
   "metadata": {},
   "source": [
    "### Plotting with Pandas\n",
    "\n",
    "| Syntax |\n",
    "| :-- |\n",
    "| `df['Column'].plot(kind='hist')` |\n",
    "| `df['Column'].plot.hist()` |\n",
    "| `df.hist('Column', by='Group')` |\n",
    "| `df.plot(x='Age', y='Height', kind='scatter')` |\n",
    "| `df.plot.scatter(x='Age', y='Height')` |"
   ]
  },
  {
   "cell_type": "markdown",
   "metadata": {},
   "source": [
    "Plot the response time distribution as a histogram."
   ]
  },
  {
   "cell_type": "code",
   "execution_count": 56,
   "metadata": {},
   "outputs": [
    {
     "data": {
      "image/png": "[encoded data removed]",
      "text/plain": [
       "<Figure size 640x480 with 1 Axes>"
      ]
     },
     "metadata": {},
     "output_type": "display_data"
    }
   ],
   "source": [
    "df['Time'].plot.hist();"
   ]
  },
  {
   "cell_type": "markdown",
   "metadata": {},
   "source": [
    "Plot the average response time for each stimulus category (matching and non-matching)"
   ]
  },
  {
   "cell_type": "code",
   "execution_count": 66,
   "metadata": {
    "tags": [
     "exercise"
    ]
   },
   "outputs": [
    {
     "data": {
      "image/png": "[encoded data removed]",
      "text/plain": [
       "<Figure size 640x480 with 1 Axes>"
      ]
     },
     "metadata": {},
     "output_type": "display_data"
    }
   ],
   "source": [
    "df.groupby('Matching').Time.plot.hist(legend=True, alpha=0.7);"
   ]
  },
  {
   "cell_type": "code",
   "execution_count": 60,
   "metadata": {},
   "outputs": [
    {
     "data": {
      "text/plain": [
       "array([<Axes: title={'center': '0'}>, <Axes: title={'center': '1'}>],\n",
       "      dtype=object)"
      ]
     },
     "execution_count": 60,
     "metadata": {},
     "output_type": "execute_result"
    },
    {
     "data": {
      "image/png": "[encoded data removed]",
      "text/plain": [
       "<Figure size 640x480 with 2 Axes>"
      ]
     },
     "metadata": {},
     "output_type": "display_data"
    }
   ],
   "source": [
    "df.hist('Time', by='Matching')"
   ]
  },
  {
   "cell_type": "markdown",
   "metadata": {},
   "source": [
    "Is there a correlation between Angle of mental rotation and response time?  Visualize the relationship using a scatter plot"
   ]
  },
  {
   "cell_type": "code",
   "execution_count": 70,
   "metadata": {
    "tags": [
     "exercise"
    ]
   },
   "outputs": [
    {
     "data": {
      "text/plain": [
       "<Axes: xlabel='Angle', ylabel='Time'>"
      ]
     },
     "execution_count": 70,
     "metadata": {},
     "output_type": "execute_result"
    },
    {
     "data": {
      "image/png": "[encoded data removed]",
      "text/plain": [
       "<Figure size 640x480 with 1 Axes>"
      ]
     },
     "metadata": {},
     "output_type": "display_data"
    }
   ],
   "source": [
    "df.plot.scatter(x='Angle', y='Time')"
   ]
  },
  {
   "cell_type": "markdown",
   "metadata": {},
   "source": [
    "Is there a relationship between subject age and average response time?   Visualize the relationship using a box plot"
   ]
  },
  {
   "cell_type": "code",
   "execution_count": 83,
   "metadata": {},
   "outputs": [
    {
     "data": {
      "text/plain": [
       "<Axes: title={'center': 'Time'}, xlabel='Age'>"
      ]
     },
     "execution_count": 83,
     "metadata": {},
     "output_type": "execute_result"
    },
    {
     "data": {
      "image/png": "[encoded data removed]",
      "text/plain": [
       "<Figure size 640x480 with 1 Axes>"
      ]
     },
     "metadata": {},
     "output_type": "display_data"
    }
   ],
   "source": [
    "df.boxplot(column='Time', by='Age')"
   ]
  },
  {
   "cell_type": "markdown",
   "metadata": {},
   "source": [
    "Did participants get faster or slower as they did more trials? Visualize the relationship using a scatter plot"
   ]
  },
  {
   "cell_type": "code",
   "execution_count": 84,
   "metadata": {},
   "outputs": [
    {
     "data": {
      "text/plain": [
       "<Axes: xlabel='Trial', ylabel='Time'>"
      ]
     },
     "execution_count": 84,
     "metadata": {},
     "output_type": "execute_result"
    },
    {
     "data": {
      "image/png": "[encoded data removed]",
      "text/plain": [
       "<Figure size 640x480 with 1 Axes>"
      ]
     },
     "metadata": {},
     "output_type": "display_data"
    }
   ],
   "source": [
    "df.plot.scatter(x='Trial', y = 'Time')"
   ]
  },
  {
   "cell_type": "markdown",
   "metadata": {},
   "source": [
    "Plot the response time distribution, with a seperate subplot for each subject."
   ]
  },
  {
   "cell_type": "code",
   "execution_count": 88,
   "metadata": {},
   "outputs": [
    {
     "data": {
      "text/plain": [
       "array([[<Axes: title={'center': '1'}>, <Axes: title={'center': '2'}>,\n",
       "        <Axes: title={'center': '3'}>, <Axes: title={'center': '4'}>,\n",
       "        <Axes: title={'center': '5'}>, <Axes: title={'center': '6'}>,\n",
       "        <Axes: title={'center': '7'}>],\n",
       "       [<Axes: title={'center': '8'}>, <Axes: title={'center': '9'}>,\n",
       "        <Axes: title={'center': '10'}>, <Axes: title={'center': '11'}>,\n",
       "        <Axes: title={'center': '12'}>, <Axes: title={'center': '13'}>,\n",
       "        <Axes: title={'center': '14'}>],\n",
       "       [<Axes: title={'center': '15'}>, <Axes: title={'center': '16'}>,\n",
       "        <Axes: title={'center': '17'}>, <Axes: title={'center': '18'}>,\n",
       "        <Axes: title={'center': '19'}>, <Axes: title={'center': '20'}>,\n",
       "        <Axes: title={'center': '21'}>],\n",
       "       [<Axes: title={'center': '22'}>, <Axes: title={'center': '23'}>,\n",
       "        <Axes: title={'center': '24'}>, <Axes: title={'center': '25'}>,\n",
       "        <Axes: title={'center': '26'}>, <Axes: title={'center': '27'}>,\n",
       "        <Axes: title={'center': '28'}>],\n",
       "       [<Axes: title={'center': '29'}>, <Axes: title={'center': '30'}>,\n",
       "        <Axes: title={'center': '31'}>, <Axes: title={'center': '32'}>,\n",
       "        <Axes: title={'center': '33'}>, <Axes: title={'center': '34'}>,\n",
       "        <Axes: title={'center': '35'}>],\n",
       "       [<Axes: title={'center': '36'}>, <Axes: title={'center': '37'}>,\n",
       "        <Axes: title={'center': '38'}>, <Axes: title={'center': '39'}>,\n",
       "        <Axes: title={'center': '40'}>, <Axes: title={'center': '41'}>,\n",
       "        <Axes: title={'center': '42'}>],\n",
       "       [<Axes: title={'center': '43'}>, <Axes: title={'center': '44'}>,\n",
       "        <Axes: title={'center': '45'}>, <Axes: title={'center': '46'}>,\n",
       "        <Axes: title={'center': '47'}>, <Axes: title={'center': '48'}>,\n",
       "        <Axes: title={'center': '49'}>],\n",
       "       [<Axes: title={'center': '50'}>, <Axes: title={'center': '51'}>,\n",
       "        <Axes: title={'center': '52'}>, <Axes: title={'center': '53'}>,\n",
       "        <Axes: title={'center': '54'}>, <Axes: >, <Axes: >]], dtype=object)"
      ]
     },
     "execution_count": 88,
     "metadata": {},
     "output_type": "execute_result"
    },
    {
     "data": {
      "image/png": "[encoded data removed]",
      "text/plain": [
       "<Figure size 1000x1000 with 56 Axes>"
      ]
     },
     "metadata": {},
     "output_type": "display_data"
    }
   ],
   "source": [
    "df.hist('Time', by = 'Subject', figsize = (10,10))"
   ]
  },
  {
   "cell_type": "markdown",
   "metadata": {},
   "source": [
    "## Plotting with Seaborn\n",
    "\n",
    "| Syntax |\n",
    "| :-- |\n",
    "| `sns.catplot(data=df, x='Col1', y='Col2', hue='Col3', kind='bar')` |\n",
    "| `sns.lineplot(data=df, x='Col1', y='Col2', hue='Col3')` |\n",
    "| `sns.lmplot(data=df, x='Col1', y='Col2', hue='Col3')` |"
   ]
  },
  {
   "cell_type": "markdown",
   "metadata": {},
   "source": [
    "Is there a difference between average response time for matching and non-matching trials?"
   ]
  },
  {
   "cell_type": "code",
   "execution_count": 90,
   "metadata": {},
   "outputs": [
    {
     "data": {
      "text/plain": [
       "<seaborn.axisgrid.FacetGrid at 0x201ff053950>"
      ]
     },
     "execution_count": 90,
     "metadata": {},
     "output_type": "execute_result"
    },
    {
     "data": {
      "image/png": "[encoded data removed]",
      "text/plain": [
       "<Figure size 511.111x500 with 1 Axes>"
      ]
     },
     "metadata": {},
     "output_type": "display_data"
    }
   ],
   "source": [
    "sns.catplot(data=df, x = 'Matching', y = 'Time', kind='bar')"
   ]
  },
  {
   "cell_type": "markdown",
   "metadata": {},
   "source": [
    "Is there a correlation between Angle of mental rotation and response time?  Visualize the relationship"
   ]
  },
  {
   "cell_type": "code",
   "execution_count": null,
   "metadata": {},
   "outputs": [],
   "source": []
  },
  {
   "cell_type": "markdown",
   "metadata": {},
   "source": [
    "Is there a difference in the relationship between Angle of mental rotation and response time, between stimulus categories?"
   ]
  },
  {
   "cell_type": "code",
   "execution_count": null,
   "metadata": {
    "tags": [
     "exercise"
    ]
   },
   "outputs": [],
   "source": []
  },
  {
   "cell_type": "markdown",
   "metadata": {},
   "source": [
    "Is there a difference in the relationship between Angle of mental rotation and response time for participants younger than 22 and participants older than 22, between stimulus categories?"
   ]
  },
  {
   "cell_type": "code",
   "execution_count": null,
   "metadata": {
    "tags": [
     "exercise"
    ]
   },
   "outputs": [],
   "source": []
  },
  {
   "cell_type": "markdown",
   "metadata": {},
   "source": [
    "Did participants get faster or slower as they did more trials? Visualize the relationship using a line plot"
   ]
  },
  {
   "cell_type": "code",
   "execution_count": null,
   "metadata": {},
   "outputs": [],
   "source": []
  }
 ],
 "metadata": {
  "kernelspec": {
   "display_name": "Python 3 (ipykernel)",
   "language": "python",
   "name": "python3"
  },
  "language_info": {
   "codemirror_mode": {
    "name": "ipython",
    "version": 3
   },
   "file_extension": ".py",
   "mimetype": "text/x-python",
   "name": "python",
   "nbconvert_exporter": "python",
   "pygments_lexer": "ipython3",
   "version": "3.12.5"
  },
  "vscode": {
   "interpreter": {
    "hash": "d6852d01271bf8033dbdb7ec364b6f6e89fd52a18c6bf5b4c73e48c86329a8dd"
   }
  }
 },
 "nbformat": 4,
 "nbformat_minor": 4
}
